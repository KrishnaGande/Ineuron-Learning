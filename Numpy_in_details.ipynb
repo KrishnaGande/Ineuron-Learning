{
  "nbformat": 4,
  "nbformat_minor": 0,
  "metadata": {
    "kernelspec": {
      "display_name": "Python 3",
      "language": "python",
      "name": "python3"
    },
    "language_info": {
      "codemirror_mode": {
        "name": "ipython",
        "version": 3
      },
      "file_extension": ".py",
      "mimetype": "text/x-python",
      "name": "python",
      "nbconvert_exporter": "python",
      "pygments_lexer": "ipython3",
      "version": "3.7.1"
    },
    "colab": {
      "name": "Numpy in details.ipynb",
      "provenance": [],
      "collapsed_sections": [
        "BjrJlc21SVQb",
        "pZw52O3SSVQj",
        "ftmqZXeQSVQp",
        "WeyxO44wSVQu",
        "W_9yYJPSSVRP",
        "aHgn9LzsSVRV",
        "QV9HBWVnSVRX",
        "3KJSN3WDSVRb",
        "DRmCd5iISVRg",
        "1w5vXDL5SVRk"
      ],
      "include_colab_link": true
    }
  },
  "cells": [
    {
      "cell_type": "markdown",
      "metadata": {
        "id": "view-in-github",
        "colab_type": "text"
      },
      "source": [
        "<a href=\"https://colab.research.google.com/github/KrishnaGande/Ineuron-Learning/blob/main/Numpy_in_details.ipynb\" target=\"_parent\"><img src=\"https://colab.research.google.com/assets/colab-badge.svg\" alt=\"Open In Colab\"/></a>"
      ]
    },
    {
      "cell_type": "markdown",
      "metadata": {
        "id": "5XGO_DBOSVQI"
      },
      "source": [
        "# Numpy Array"
      ]
    },
    {
      "cell_type": "code",
      "metadata": {
        "colab": {
          "base_uri": "https://localhost:8080/"
        },
        "id": "92KkyJaxSVQS",
        "outputId": "a978bcb1-998b-4dfc-cfb3-827b6c5b8b18"
      },
      "source": [
        "import numpy as np\n",
        "np.array([\"vbhvh\", 2, 3])"
      ],
      "execution_count": null,
      "outputs": [
        {
          "output_type": "execute_result",
          "data": {
            "text/plain": [
              "array(['vbhvh', '2', '3'], dtype='<U5')"
            ]
          },
          "metadata": {
            "tags": []
          },
          "execution_count": 1
        }
      ]
    },
    {
      "cell_type": "code",
      "metadata": {
        "colab": {
          "base_uri": "https://localhost:8080/"
        },
        "id": "taVS8SF5qmaQ",
        "outputId": "b1127e7d-334f-4a8d-894f-a4bcd31a2641"
      },
      "source": [
        "[1,2,3,4,'krish','sjankla']"
      ],
      "execution_count": null,
      "outputs": [
        {
          "output_type": "execute_result",
          "data": {
            "text/plain": [
              "[1, 2, 3, 4, 'krish', 'sjankla']"
            ]
          },
          "metadata": {
            "tags": []
          },
          "execution_count": 2
        }
      ]
    },
    {
      "cell_type": "code",
      "metadata": {
        "colab": {
          "base_uri": "https://localhost:8080/"
        },
        "id": "-0d3ii_q8vOz",
        "outputId": "1f97f840-98cc-456d-f4ca-42e8386421e0"
      },
      "source": [
        "np.array([1,2,3,4,'krish','sjankla'])"
      ],
      "execution_count": null,
      "outputs": [
        {
          "output_type": "execute_result",
          "data": {
            "text/plain": [
              "array(['1', '2', '3', '4', 'krish', 'sjankla'], dtype='<U21')"
            ]
          },
          "metadata": {
            "tags": []
          },
          "execution_count": 3
        }
      ]
    },
    {
      "cell_type": "code",
      "metadata": {
        "id": "hcp58rSMSVQV"
      },
      "source": [
        "#Upcasting:"
      ],
      "execution_count": null,
      "outputs": []
    },
    {
      "cell_type": "code",
      "metadata": {
        "colab": {
          "base_uri": "https://localhost:8080/"
        },
        "id": "Qh8lnWSjSVQV",
        "outputId": "bbc8bce5-1ee1-4763-c783-eca773b0b2c7"
      },
      "source": [
        "np.array([1, 2, 3.0])"
      ],
      "execution_count": null,
      "outputs": [
        {
          "output_type": "execute_result",
          "data": {
            "text/plain": [
              "array([1., 2., 3.])"
            ]
          },
          "metadata": {
            "tags": []
          },
          "execution_count": 5
        }
      ]
    },
    {
      "cell_type": "code",
      "metadata": {
        "id": "8TNhUqWqSVQW"
      },
      "source": [
        "#two dimensions"
      ],
      "execution_count": null,
      "outputs": []
    },
    {
      "cell_type": "code",
      "metadata": {
        "colab": {
          "base_uri": "https://localhost:8080/"
        },
        "id": "gnYhrUx5SVQW",
        "outputId": "a7214d41-fe08-45a1-a1d7-329e061154ff"
      },
      "source": [
        " np.array([[1, 2], [3, 4]],ndmin=6)"
      ],
      "execution_count": null,
      "outputs": [
        {
          "output_type": "execute_result",
          "data": {
            "text/plain": [
              "array([[[[[[1, 2],\n",
              "           [3, 4]]]]]])"
            ]
          },
          "metadata": {
            "tags": []
          },
          "execution_count": 7
        }
      ]
    },
    {
      "cell_type": "code",
      "metadata": {
        "id": "GHuTPqi1SVQX"
      },
      "source": [
        "#Minimum dimensions 2:"
      ],
      "execution_count": null,
      "outputs": []
    },
    {
      "cell_type": "code",
      "metadata": {
        "colab": {
          "base_uri": "https://localhost:8080/"
        },
        "id": "RbiIE1XRSVQX",
        "outputId": "998b8f6c-94c8-43ff-8dfa-7847670566c0"
      },
      "source": [
        "np.array([1, 2, 3], ndmin=5)"
      ],
      "execution_count": null,
      "outputs": [
        {
          "output_type": "execute_result",
          "data": {
            "text/plain": [
              "array([[[[[1, 2, 3]]]]])"
            ]
          },
          "metadata": {
            "tags": []
          },
          "execution_count": 9
        }
      ]
    },
    {
      "cell_type": "code",
      "metadata": {
        "id": "dKjCtaNoSVQY"
      },
      "source": [
        "#dtype"
      ],
      "execution_count": null,
      "outputs": []
    },
    {
      "cell_type": "code",
      "metadata": {
        "colab": {
          "base_uri": "https://localhost:8080/"
        },
        "id": "5pjDMu8PSVQY",
        "outputId": "f9af410a-837d-4710-fdbc-72f94a53c440"
      },
      "source": [
        " np.array([1, 2, 3], dtype=complex)"
      ],
      "execution_count": null,
      "outputs": [
        {
          "output_type": "execute_result",
          "data": {
            "text/plain": [
              "array([1.+0.j, 2.+0.j, 3.+0.j])"
            ]
          },
          "metadata": {
            "tags": []
          },
          "execution_count": 11
        }
      ]
    },
    {
      "cell_type": "code",
      "metadata": {
        "id": "A_TgDiUjSVQY"
      },
      "source": [
        "#Data-type consisting of more than one element:"
      ],
      "execution_count": null,
      "outputs": []
    },
    {
      "cell_type": "code",
      "metadata": {
        "colab": {
          "base_uri": "https://localhost:8080/"
        },
        "id": "xXn5cMAj_0bZ",
        "outputId": "07bc1935-8500-4559-ac88-d8bd31d6cbbe"
      },
      "source": [
        "np.array([(1,2),(3,4)])"
      ],
      "execution_count": null,
      "outputs": [
        {
          "output_type": "execute_result",
          "data": {
            "text/plain": [
              "array([[1, 2],\n",
              "       [3, 4]])"
            ]
          },
          "metadata": {
            "tags": []
          },
          "execution_count": 13
        }
      ]
    },
    {
      "cell_type": "code",
      "metadata": {
        "colab": {
          "base_uri": "https://localhost:8080/"
        },
        "id": "oRPheMQvSVQZ",
        "outputId": "3a8ab6ef-7228-46c7-af2f-d6948f109b46"
      },
      "source": [
        "x = np.array([(1,2),(3,4)],dtype=[('a','<i2'),('b','<i8')])\n",
        "x"
      ],
      "execution_count": null,
      "outputs": [
        {
          "output_type": "execute_result",
          "data": {
            "text/plain": [
              "array([(1, 2), (3, 4)], dtype=[('a', '<i2'), ('b', '<i8')])"
            ]
          },
          "metadata": {
            "tags": []
          },
          "execution_count": 14
        }
      ]
    },
    {
      "cell_type": "code",
      "metadata": {
        "colab": {
          "base_uri": "https://localhost:8080/"
        },
        "id": "aHxNO8E8SVQZ",
        "outputId": "30b3ec82-8fa0-4767-816d-c911b65d2841"
      },
      "source": [
        "type(x[0][1])"
      ],
      "execution_count": null,
      "outputs": [
        {
          "output_type": "execute_result",
          "data": {
            "text/plain": [
              "numpy.int64"
            ]
          },
          "metadata": {
            "tags": []
          },
          "execution_count": 15
        }
      ]
    },
    {
      "cell_type": "code",
      "metadata": {
        "colab": {
          "base_uri": "https://localhost:8080/"
        },
        "id": "MQgdad3BCL9B",
        "outputId": "d538da0e-e9b0-4e6b-c3f3-48842625546c"
      },
      "source": [
        "x[0][1]"
      ],
      "execution_count": null,
      "outputs": [
        {
          "output_type": "execute_result",
          "data": {
            "text/plain": [
              "2"
            ]
          },
          "metadata": {
            "tags": []
          },
          "execution_count": 16
        }
      ]
    },
    {
      "cell_type": "code",
      "metadata": {
        "id": "7iQ-hEr_SVQa"
      },
      "source": [
        "#Creating an array from sub-classes:"
      ],
      "execution_count": null,
      "outputs": []
    },
    {
      "cell_type": "code",
      "metadata": {
        "colab": {
          "base_uri": "https://localhost:8080/"
        },
        "id": "9S8fDnhgSVQa",
        "outputId": "6ba087c4-5d6e-45fb-d956-6792711374fa"
      },
      "source": [
        "np.mat(np.array([[1, 2],[4,7]]))"
      ],
      "execution_count": null,
      "outputs": [
        {
          "output_type": "execute_result",
          "data": {
            "text/plain": [
              "matrix([[1, 2],\n",
              "        [4, 7]])"
            ]
          },
          "metadata": {
            "tags": []
          },
          "execution_count": 18
        }
      ]
    },
    {
      "cell_type": "code",
      "metadata": {
        "colab": {
          "base_uri": "https://localhost:8080/"
        },
        "id": "TNgfmeqXt3r0",
        "outputId": "d04d7486-27e0-4f8b-da76-e9e79a96a10e"
      },
      "source": [
        "type(np.mat([[1,3],[2,4]]))"
      ],
      "execution_count": null,
      "outputs": [
        {
          "output_type": "execute_result",
          "data": {
            "text/plain": [
              "numpy.matrix"
            ]
          },
          "metadata": {
            "tags": []
          },
          "execution_count": 19
        }
      ]
    },
    {
      "cell_type": "code",
      "metadata": {
        "colab": {
          "base_uri": "https://localhost:8080/"
        },
        "id": "BXuGJDFkSVQa",
        "outputId": "db7bf801-155d-4d95-e037-392a5c9ddfb2"
      },
      "source": [
        "np.mat('1 2; 3 4')"
      ],
      "execution_count": null,
      "outputs": [
        {
          "output_type": "execute_result",
          "data": {
            "text/plain": [
              "matrix([[1, 2],\n",
              "        [3, 4]])"
            ]
          },
          "metadata": {
            "tags": []
          },
          "execution_count": 20
        }
      ]
    },
    {
      "cell_type": "code",
      "metadata": {
        "colab": {
          "base_uri": "https://localhost:8080/"
        },
        "id": "18lD3MF_FwPY",
        "outputId": "f3813b77-8c87-43d5-b4fa-980db4d4fa45"
      },
      "source": [
        "np.mat([[1,2],[5,6,8]])"
      ],
      "execution_count": null,
      "outputs": [
        {
          "output_type": "stream",
          "text": [
            "/usr/local/lib/python3.7/dist-packages/numpy/matrixlib/defmatrix.py:145: VisibleDeprecationWarning: Creating an ndarray from ragged nested sequences (which is a list-or-tuple of lists-or-tuples-or ndarrays with different lengths or shapes) is deprecated. If you meant to do this, you must specify 'dtype=object' when creating the ndarray\n",
            "  arr = N.array(data, dtype=dtype, copy=copy)\n"
          ],
          "name": "stderr"
        },
        {
          "output_type": "execute_result",
          "data": {
            "text/plain": [
              "matrix([[list([1, 2]), list([5, 6, 8])]], dtype=object)"
            ]
          },
          "metadata": {
            "tags": []
          },
          "execution_count": 21
        }
      ]
    },
    {
      "cell_type": "markdown",
      "metadata": {
        "id": "BjrJlc21SVQb"
      },
      "source": [
        "# numpy.asarray"
      ]
    },
    {
      "cell_type": "code",
      "metadata": {
        "id": "kg__urCuSVQc"
      },
      "source": [
        "#Convert the input to an array."
      ],
      "execution_count": null,
      "outputs": []
    },
    {
      "cell_type": "code",
      "metadata": {
        "collapsed": true,
        "id": "IYHqzou0SVQc"
      },
      "source": [
        "#Convert a list into an array:"
      ],
      "execution_count": null,
      "outputs": []
    },
    {
      "cell_type": "code",
      "metadata": {
        "colab": {
          "base_uri": "https://localhost:8080/"
        },
        "id": "Mlp4TdYXSVQd",
        "outputId": "f6ad4b7c-275c-43e7-fd38-84b11cd36e26"
      },
      "source": [
        " a = [[1, 2],[3,4]]\n",
        "type(a)\n",
        "np.asarray(a)"
      ],
      "execution_count": null,
      "outputs": [
        {
          "output_type": "execute_result",
          "data": {
            "text/plain": [
              "array([[1, 2],\n",
              "       [3, 4]])"
            ]
          },
          "metadata": {
            "tags": []
          },
          "execution_count": 24
        }
      ]
    },
    {
      "cell_type": "code",
      "metadata": {
        "colab": {
          "base_uri": "https://localhost:8080/"
        },
        "id": "Df1I1XhPSVQe",
        "outputId": "3a55130c-d2f9-4d06-b205-352e146b90b4"
      },
      "source": [
        "type(np.asarray(a))"
      ],
      "execution_count": null,
      "outputs": [
        {
          "output_type": "execute_result",
          "data": {
            "text/plain": [
              "numpy.ndarray"
            ]
          },
          "metadata": {
            "tags": []
          },
          "execution_count": 25
        }
      ]
    },
    {
      "cell_type": "code",
      "metadata": {
        "id": "K5qN1JFuSVQe",
        "colab": {
          "base_uri": "https://localhost:8080/"
        },
        "outputId": "7d2a57db-511a-4dc1-e4fa-ab5a76a0a778"
      },
      "source": [
        "a = np.array([1, 2]) #Existing arrays are not copied\n",
        "type(a)"
      ],
      "execution_count": null,
      "outputs": [
        {
          "output_type": "execute_result",
          "data": {
            "text/plain": [
              "numpy.ndarray"
            ]
          },
          "metadata": {
            "tags": []
          },
          "execution_count": 26
        }
      ]
    },
    {
      "cell_type": "code",
      "metadata": {
        "colab": {
          "base_uri": "https://localhost:8080/"
        },
        "id": "ZMIftmChSVQf",
        "outputId": "a0732142-dabb-4633-8810-f9ca5b005418"
      },
      "source": [
        "np.asarray((1,2))"
      ],
      "execution_count": null,
      "outputs": [
        {
          "output_type": "execute_result",
          "data": {
            "text/plain": [
              "array([1, 2])"
            ]
          },
          "metadata": {
            "tags": []
          },
          "execution_count": 27
        }
      ]
    },
    {
      "cell_type": "code",
      "metadata": {
        "collapsed": true,
        "id": "VW-a8iaDSVQf"
      },
      "source": [
        "#If dtype is set, array is copied only if dtype does not match:"
      ],
      "execution_count": null,
      "outputs": []
    },
    {
      "cell_type": "code",
      "metadata": {
        "colab": {
          "base_uri": "https://localhost:8080/"
        },
        "id": "EBAjxK8JSVQg",
        "outputId": "a49c0da7-2e82-401a-fdeb-fb847366a8b7"
      },
      "source": [
        "a = np.array([1, 2], dtype=np.float32)\n",
        "a"
      ],
      "execution_count": null,
      "outputs": [
        {
          "output_type": "execute_result",
          "data": {
            "text/plain": [
              "array([1., 2.], dtype=float32)"
            ]
          },
          "metadata": {
            "tags": []
          },
          "execution_count": 29
        }
      ]
    },
    {
      "cell_type": "code",
      "metadata": {
        "id": "VxMpQUIwSVQg",
        "colab": {
          "base_uri": "https://localhost:8080/"
        },
        "outputId": "c56f3653-e36e-4eae-fefa-f9fd5fd021e4"
      },
      "source": [
        "np.asarray([1,2]) is a"
      ],
      "execution_count": null,
      "outputs": [
        {
          "output_type": "execute_result",
          "data": {
            "text/plain": [
              "False"
            ]
          },
          "metadata": {
            "tags": []
          },
          "execution_count": 30
        }
      ]
    },
    {
      "cell_type": "code",
      "metadata": {
        "id": "jyf8vGlaSVQg",
        "colab": {
          "base_uri": "https://localhost:8080/"
        },
        "outputId": "22193cfc-24a8-4a9a-80bf-8486d760e888"
      },
      "source": [
        "np.asarray([1,2])"
      ],
      "execution_count": null,
      "outputs": [
        {
          "output_type": "execute_result",
          "data": {
            "text/plain": [
              "array([1, 2])"
            ]
          },
          "metadata": {
            "tags": []
          },
          "execution_count": 31
        }
      ]
    },
    {
      "cell_type": "code",
      "metadata": {
        "id": "vE3eStv5SVQh",
        "colab": {
          "base_uri": "https://localhost:8080/"
        },
        "outputId": "3790aa9a-4021-4925-f3fa-247761e8566f"
      },
      "source": [
        "np.asarray(a, dtype=np.float64) is a"
      ],
      "execution_count": null,
      "outputs": [
        {
          "output_type": "execute_result",
          "data": {
            "text/plain": [
              "False"
            ]
          },
          "metadata": {
            "tags": []
          },
          "execution_count": 32
        }
      ]
    },
    {
      "cell_type": "code",
      "metadata": {
        "collapsed": true,
        "id": "jYb5Wj2-SVQh"
      },
      "source": [
        "# ndarray subclasses are not passed through"
      ],
      "execution_count": null,
      "outputs": []
    },
    {
      "cell_type": "code",
      "metadata": {
        "id": "NzAv_8DXSVQi",
        "colab": {
          "base_uri": "https://localhost:8080/"
        },
        "outputId": "6a4f838a-8df0-48ee-80df-547a5dca6813"
      },
      "source": [
        "issubclass(np.matrix, np.ndarray)"
      ],
      "execution_count": null,
      "outputs": [
        {
          "output_type": "execute_result",
          "data": {
            "text/plain": [
              "True"
            ]
          },
          "metadata": {
            "tags": []
          },
          "execution_count": 34
        }
      ]
    },
    {
      "cell_type": "code",
      "metadata": {
        "colab": {
          "base_uri": "https://localhost:8080/"
        },
        "id": "ZT8UEnjpSVQi",
        "outputId": "1c6bff3a-bf42-45e6-b75d-7b36e5b7705d"
      },
      "source": [
        "a = np.matrix([[1, 2]])\n",
        "type(np.asanyarray(a))\n"
      ],
      "execution_count": null,
      "outputs": [
        {
          "output_type": "execute_result",
          "data": {
            "text/plain": [
              "numpy.matrix"
            ]
          },
          "metadata": {
            "tags": []
          },
          "execution_count": 35
        }
      ]
    },
    {
      "cell_type": "code",
      "metadata": {
        "colab": {
          "base_uri": "https://localhost:8080/"
        },
        "id": "RqWvpfXSSVQi",
        "outputId": "94f8543b-b11e-4690-add1-e688074ab446"
      },
      "source": [
        "np.asarray(a)"
      ],
      "execution_count": null,
      "outputs": [
        {
          "output_type": "execute_result",
          "data": {
            "text/plain": [
              "array([[1, 2]])"
            ]
          },
          "metadata": {
            "tags": []
          },
          "execution_count": 36
        }
      ]
    },
    {
      "cell_type": "code",
      "metadata": {
        "colab": {
          "base_uri": "https://localhost:8080/"
        },
        "id": "TN2eK5YZSVQj",
        "outputId": "f2e55c44-561d-439e-9fc6-69fd810ee70b"
      },
      "source": [
        "np.asanyarray(a)"
      ],
      "execution_count": null,
      "outputs": [
        {
          "output_type": "execute_result",
          "data": {
            "text/plain": [
              "matrix([[1, 2]])"
            ]
          },
          "metadata": {
            "tags": []
          },
          "execution_count": 37
        }
      ]
    },
    {
      "cell_type": "code",
      "metadata": {
        "colab": {
          "base_uri": "https://localhost:8080/"
        },
        "id": "adB0Dx2QSVQj",
        "outputId": "942c5b9a-5dfa-4773-bf31-006d8ca55730"
      },
      "source": [
        "np.asarray(a)"
      ],
      "execution_count": null,
      "outputs": [
        {
          "output_type": "execute_result",
          "data": {
            "text/plain": [
              "array([[1, 2]])"
            ]
          },
          "metadata": {
            "tags": []
          },
          "execution_count": 38
        }
      ]
    },
    {
      "cell_type": "markdown",
      "metadata": {
        "id": "pZw52O3SSVQj"
      },
      "source": [
        "# numpy.asanyarray"
      ]
    },
    {
      "cell_type": "code",
      "metadata": {
        "id": "YWHityM3SVQj",
        "colab": {
          "base_uri": "https://localhost:8080/"
        },
        "outputId": "64eb782f-a509-4121-e387-7662322cf6b4"
      },
      "source": [
        "a = [1, 2]\n",
        "np.asanyarray(a)"
      ],
      "execution_count": null,
      "outputs": [
        {
          "output_type": "execute_result",
          "data": {
            "text/plain": [
              "array([1, 2])"
            ]
          },
          "metadata": {
            "tags": []
          },
          "execution_count": 39
        }
      ]
    },
    {
      "cell_type": "code",
      "metadata": {
        "id": "hHNAtJaFSVQk",
        "colab": {
          "base_uri": "https://localhost:8080/"
        },
        "outputId": "8e56cb14-d897-4391-b39f-3a7b2b8cdcb0"
      },
      "source": [
        "a = np.matrix([1, 2])\n",
        "a"
      ],
      "execution_count": null,
      "outputs": [
        {
          "output_type": "execute_result",
          "data": {
            "text/plain": [
              "matrix([[1, 2]])"
            ]
          },
          "metadata": {
            "tags": []
          },
          "execution_count": 40
        }
      ]
    },
    {
      "cell_type": "code",
      "metadata": {
        "id": "JAv8jBa2SVQk",
        "colab": {
          "base_uri": "https://localhost:8080/"
        },
        "outputId": "11e6441f-0291-4368-c098-0e5c95df0b6f"
      },
      "source": [
        "np.asanyarray([1,2]) is a"
      ],
      "execution_count": null,
      "outputs": [
        {
          "output_type": "execute_result",
          "data": {
            "text/plain": [
              "False"
            ]
          },
          "metadata": {
            "tags": []
          },
          "execution_count": 41
        }
      ]
    },
    {
      "cell_type": "markdown",
      "metadata": {
        "id": "CwcObZ5FSVQk"
      },
      "source": [
        "#numpy.copy"
      ]
    },
    {
      "cell_type": "code",
      "metadata": {
        "id": "ASyzJaHcSVQl",
        "colab": {
          "base_uri": "https://localhost:8080/"
        },
        "outputId": "97a17230-fbfe-42cd-873d-4b53e076ef0d"
      },
      "source": [
        "np.array(a, copy=True)  "
      ],
      "execution_count": null,
      "outputs": [
        {
          "output_type": "execute_result",
          "data": {
            "text/plain": [
              "array([[1, 2]])"
            ]
          },
          "metadata": {
            "tags": []
          },
          "execution_count": 42
        }
      ]
    },
    {
      "cell_type": "code",
      "metadata": {
        "collapsed": true,
        "id": "__OHoIepSVQl"
      },
      "source": [
        "#Create an array x, with a reference y and a copy z:"
      ],
      "execution_count": null,
      "outputs": []
    },
    {
      "cell_type": "code",
      "metadata": {
        "id": "9ybiea_uSVQl",
        "colab": {
          "base_uri": "https://localhost:8080/"
        },
        "outputId": "1b7ce7f6-a224-4f69-d5df-e2d035d950e5"
      },
      "source": [
        "x = np.array([1, 2, 3])\n",
        "x"
      ],
      "execution_count": null,
      "outputs": [
        {
          "output_type": "execute_result",
          "data": {
            "text/plain": [
              "array([1, 2, 3])"
            ]
          },
          "metadata": {
            "tags": []
          },
          "execution_count": 44
        }
      ]
    },
    {
      "cell_type": "code",
      "metadata": {
        "id": "dq6IRxKgSVQm",
        "colab": {
          "base_uri": "https://localhost:8080/"
        },
        "outputId": "118c642f-d9a9-43e1-d96a-0677bf6e774d"
      },
      "source": [
        "#swallow copy : dependant variable\n",
        "y = x\n",
        "y"
      ],
      "execution_count": null,
      "outputs": [
        {
          "output_type": "execute_result",
          "data": {
            "text/plain": [
              "array([1, 2, 3])"
            ]
          },
          "metadata": {
            "tags": []
          },
          "execution_count": 45
        }
      ]
    },
    {
      "cell_type": "code",
      "metadata": {
        "id": "bihWKZXQMBku"
      },
      "source": [
        "y[1]=3367484"
      ],
      "execution_count": null,
      "outputs": []
    },
    {
      "cell_type": "code",
      "metadata": {
        "colab": {
          "base_uri": "https://localhost:8080/"
        },
        "id": "EjI_o-MOMBo5",
        "outputId": "1a182eb5-7630-408d-b9b9-cfd84cc876e8"
      },
      "source": [
        "y"
      ],
      "execution_count": null,
      "outputs": [
        {
          "output_type": "execute_result",
          "data": {
            "text/plain": [
              "array([      1, 3367484,       3])"
            ]
          },
          "metadata": {
            "tags": []
          },
          "execution_count": 47
        }
      ]
    },
    {
      "cell_type": "code",
      "metadata": {
        "colab": {
          "base_uri": "https://localhost:8080/"
        },
        "id": "gaipdApKMBrU",
        "outputId": "3499ea73-837f-4d20-a704-da5bc9bae71a"
      },
      "source": [
        "x"
      ],
      "execution_count": null,
      "outputs": [
        {
          "output_type": "execute_result",
          "data": {
            "text/plain": [
              "array([      1, 3367484,       3])"
            ]
          },
          "metadata": {
            "tags": []
          },
          "execution_count": 48
        }
      ]
    },
    {
      "cell_type": "code",
      "metadata": {
        "id": "gFMTrFS1MBuC"
      },
      "source": [
        "x[0]=45"
      ],
      "execution_count": null,
      "outputs": []
    },
    {
      "cell_type": "code",
      "metadata": {
        "colab": {
          "base_uri": "https://localhost:8080/"
        },
        "id": "2Il-2z-7Me4L",
        "outputId": "908bd9b1-20da-4d1b-e934-5b25d9984cc3"
      },
      "source": [
        "y"
      ],
      "execution_count": null,
      "outputs": [
        {
          "output_type": "execute_result",
          "data": {
            "text/plain": [
              "array([     45, 3367484,       3])"
            ]
          },
          "metadata": {
            "tags": []
          },
          "execution_count": 50
        }
      ]
    },
    {
      "cell_type": "code",
      "metadata": {
        "colab": {
          "base_uri": "https://localhost:8080/"
        },
        "id": "1eoe8Gt0NGPB",
        "outputId": "ae724315-4bec-4ea0-f5b5-c5f6ae2926ab"
      },
      "source": [
        "x"
      ],
      "execution_count": null,
      "outputs": [
        {
          "output_type": "execute_result",
          "data": {
            "text/plain": [
              "array([     45, 3367484,       3])"
            ]
          },
          "metadata": {
            "tags": []
          },
          "execution_count": 51
        }
      ]
    },
    {
      "cell_type": "code",
      "metadata": {
        "colab": {
          "base_uri": "https://localhost:8080/",
          "height": 183
        },
        "id": "quGsgodPM-q1",
        "outputId": "7685d9ed-cb2b-4ada-ef55-1809fe896b58"
      },
      "source": [
        "z[0]=98\n",
        "z"
      ],
      "execution_count": null,
      "outputs": [
        {
          "output_type": "error",
          "ename": "NameError",
          "evalue": "ignored",
          "traceback": [
            "\u001b[0;31m---------------------------------------------------------------------------\u001b[0m",
            "\u001b[0;31mNameError\u001b[0m                                 Traceback (most recent call last)",
            "\u001b[0;32m<ipython-input-52-c21826904c53>\u001b[0m in \u001b[0;36m<module>\u001b[0;34m()\u001b[0m\n\u001b[0;32m----> 1\u001b[0;31m \u001b[0mz\u001b[0m\u001b[0;34m[\u001b[0m\u001b[0;36m0\u001b[0m\u001b[0;34m]\u001b[0m\u001b[0;34m=\u001b[0m\u001b[0;36m98\u001b[0m\u001b[0;34m\u001b[0m\u001b[0;34m\u001b[0m\u001b[0m\n\u001b[0m\u001b[1;32m      2\u001b[0m \u001b[0mz\u001b[0m\u001b[0;34m\u001b[0m\u001b[0;34m\u001b[0m\u001b[0m\n",
            "\u001b[0;31mNameError\u001b[0m: name 'z' is not defined"
          ]
        }
      ]
    },
    {
      "cell_type": "code",
      "metadata": {
        "id": "T-cimN-8SVQm",
        "colab": {
          "base_uri": "https://localhost:8080/"
        },
        "outputId": "fb5d3656-1846-4b38-fe3e-6bc025dc52bd"
      },
      "source": [
        "#deep copy : variable is independant of primary variable \n",
        "z = np.copy(x)\n",
        "z"
      ],
      "execution_count": null,
      "outputs": [
        {
          "output_type": "execute_result",
          "data": {
            "text/plain": [
              "array([     45, 3367484,       3])"
            ]
          },
          "metadata": {
            "tags": []
          },
          "execution_count": 53
        }
      ]
    },
    {
      "cell_type": "code",
      "metadata": {
        "id": "_N2fKLD5SVQn"
      },
      "source": [
        "y[0] = 100\n",
        "x"
      ],
      "execution_count": null,
      "outputs": []
    },
    {
      "cell_type": "code",
      "metadata": {
        "id": "e0hwiVqQSVQn"
      },
      "source": [
        "x"
      ],
      "execution_count": null,
      "outputs": []
    },
    {
      "cell_type": "code",
      "metadata": {
        "id": "ySGYzLJ_SVQn"
      },
      "source": [
        "id(x[0])"
      ],
      "execution_count": null,
      "outputs": []
    },
    {
      "cell_type": "code",
      "metadata": {
        "id": "OPKCXXoTSVQo"
      },
      "source": [
        "id(y[0])"
      ],
      "execution_count": null,
      "outputs": []
    },
    {
      "cell_type": "code",
      "metadata": {
        "id": "0Q6YiMT5SVQo"
      },
      "source": [
        ""
      ],
      "execution_count": null,
      "outputs": []
    },
    {
      "cell_type": "code",
      "metadata": {
        "id": "V5CJzwZ8SVQo"
      },
      "source": [
        "id(x) "
      ],
      "execution_count": null,
      "outputs": []
    },
    {
      "cell_type": "code",
      "metadata": {
        "id": "QvbObpr-SVQp"
      },
      "source": [
        "id(y)"
      ],
      "execution_count": null,
      "outputs": []
    },
    {
      "cell_type": "markdown",
      "metadata": {
        "id": "ftmqZXeQSVQp"
      },
      "source": [
        "# numpy.fromfunction"
      ]
    },
    {
      "cell_type": "code",
      "metadata": {
        "collapsed": true,
        "id": "Rn5v8I7SSVQp"
      },
      "source": [
        "#Construct an array by executing a function over each coordinate."
      ],
      "execution_count": null,
      "outputs": []
    },
    {
      "cell_type": "code",
      "metadata": {
        "id": "qwhIDWdaSVQp"
      },
      "source": [
        "np.fromfunction(lambda i, j: i == j, (3, 3), dtype=int)"
      ],
      "execution_count": null,
      "outputs": []
    },
    {
      "cell_type": "code",
      "metadata": {
        "id": "nDTLVFGDSVQq"
      },
      "source": [
        "np.fromfunction(lambda i, j, k, l: i * j * k * l, (2, 3, 3, 3), dtype=int)"
      ],
      "execution_count": null,
      "outputs": []
    },
    {
      "cell_type": "code",
      "metadata": {
        "collapsed": true,
        "id": "7HT6dJxGSVQq"
      },
      "source": [
        "#Create a new 1-dimensional array from an iterable object."
      ],
      "execution_count": null,
      "outputs": []
    },
    {
      "cell_type": "code",
      "metadata": {
        "id": "7qS8mDl8SVQq"
      },
      "source": [
        "iterable = (x*x for x in range(5))\n",
        "iterable"
      ],
      "execution_count": null,
      "outputs": []
    },
    {
      "cell_type": "code",
      "metadata": {
        "id": "3wXx8NcASVQr"
      },
      "source": [
        "np.fromiter(iterable, float)"
      ],
      "execution_count": null,
      "outputs": []
    },
    {
      "cell_type": "code",
      "metadata": {
        "collapsed": true,
        "id": "A9O08iqNSVQr"
      },
      "source": [
        "#A new 1-D array initialized from text data in a string"
      ],
      "execution_count": null,
      "outputs": []
    },
    {
      "cell_type": "code",
      "metadata": {
        "id": "VZ2JsJYfSVQr"
      },
      "source": [
        "a = np.fromstring('234 234',sep=' ')\n",
        "a"
      ],
      "execution_count": null,
      "outputs": []
    },
    {
      "cell_type": "code",
      "metadata": {
        "id": "bOGuDVvsSVQr"
      },
      "source": [
        "np.fromstring('1, 2', dtype=int, sep=',')"
      ],
      "execution_count": null,
      "outputs": []
    },
    {
      "cell_type": "code",
      "metadata": {
        "collapsed": true,
        "id": "cBaXXgU7SVQs"
      },
      "source": [
        "# How to create create a record array from a (flat) list of arrays"
      ],
      "execution_count": null,
      "outputs": []
    },
    {
      "cell_type": "code",
      "metadata": {
        "id": "N4r2xZfzSVQs"
      },
      "source": [
        "x1=np.array([1,2,3,4])"
      ],
      "execution_count": null,
      "outputs": []
    },
    {
      "cell_type": "code",
      "metadata": {
        "id": "5S6zhAFeSVQs"
      },
      "source": [
        "x2=np.array(['a','dd','xyz','12'])"
      ],
      "execution_count": null,
      "outputs": []
    },
    {
      "cell_type": "code",
      "metadata": {
        "id": "bq_JqAqwSVQt"
      },
      "source": [
        "x3=np.array([1.1,2,3,4])\n",
        "x4=np.array([1.1,2,3,4])\n",
        "type(x4)"
      ],
      "execution_count": null,
      "outputs": []
    },
    {
      "cell_type": "code",
      "metadata": {
        "id": "vQNtd2BgSVQt"
      },
      "source": [
        "r = np.core.records.fromarrays([x1,x2,x3,x4],names='a,b,c,d')\n",
        "r"
      ],
      "execution_count": null,
      "outputs": []
    },
    {
      "cell_type": "code",
      "metadata": {
        "id": "LgURi7BgSVQt"
      },
      "source": [
        "print(r[1][\"b\"])"
      ],
      "execution_count": null,
      "outputs": []
    },
    {
      "cell_type": "markdown",
      "metadata": {
        "id": "vu-faNu6SVQu"
      },
      "source": [
        "x1[1]=34"
      ]
    },
    {
      "cell_type": "code",
      "metadata": {
        "id": "hdxOfjuHSVQu"
      },
      "source": [
        "x1[1]"
      ],
      "execution_count": null,
      "outputs": []
    },
    {
      "cell_type": "markdown",
      "metadata": {
        "id": "WeyxO44wSVQu"
      },
      "source": [
        "# data types"
      ]
    },
    {
      "cell_type": "code",
      "metadata": {
        "id": "MjtXUOMqSVQu"
      },
      "source": [
        "my_list = [1,2,3]\n",
        "import numpy as np\n",
        "arr = np.array(my_list)\n",
        "print(\"Type/Class of this object:\",type(arr))\n",
        "print(\"Here is the vector\\n--------------------\\n\",arr)"
      ],
      "execution_count": null,
      "outputs": []
    },
    {
      "cell_type": "code",
      "metadata": {
        "id": "w9qlzDebSVQv"
      },
      "source": [
        "my_mat = [[1,2,3],[4,5,6],[7,8,9]]\n",
        "mat = np.array(my_mat)\n",
        "print(\"Type/Class of this object:\",type(mat))\n",
        "print(\"Here is the matrix\\n----------\\n\",mat,\"\\n----------\")\n",
        "print(\"Dimension of this matrix: \",mat.ndim,sep='') #ndim gives the dimensison, 2 for a matrix, 1 for a vector\n",
        "print(\"Size of this matrix: \", mat.size,sep='') #size gives the total number of elements\n",
        "print(\"Shape of this matrix: \", mat.shape,sep='') #shape gives the number of elements along each axes (dimension)\n",
        "print(\"Data type of this matrix: \", mat.dtype,sep='') #dtype gives the data type contained in the array\n"
      ],
      "execution_count": null,
      "outputs": []
    },
    {
      "cell_type": "code",
      "metadata": {
        "id": "xnx6hWQSSVQv"
      },
      "source": [
        "my_mat = [[1.1,2,3],[4,5,6],[7,8.3,9]]\n",
        "mat = np.array(my_mat)\n",
        "print(mat)\n",
        "print(\"Data type of the modified matrix: \", mat.dtype,sep='') #dtype gives the data type contained in the array\n",
        "print(\"\\n\\nEven tuples can be converted to ndarrays...\")\n"
      ],
      "execution_count": null,
      "outputs": []
    },
    {
      "cell_type": "code",
      "metadata": {
        "id": "LwXWu4SSSVQv"
      },
      "source": [
        "b = np.array([(1.5,2,3), (4,5,6)])\n",
        "print(\"We write b = np.array([(1.5,2,3), (4,5,6)])\")\n",
        "print(\"Matrix made from tuples, not lists\\n---------------------------------------\")\n",
        "print(b)"
      ],
      "execution_count": null,
      "outputs": []
    },
    {
      "cell_type": "markdown",
      "metadata": {
        "id": "Yza3uSv7SVQw"
      },
      "source": [
        "# arange and linspace"
      ]
    },
    {
      "cell_type": "code",
      "metadata": {
        "id": "qCY0835hVDly"
      },
      "source": [
        "np.arange(16.5,5,-2)"
      ],
      "execution_count": null,
      "outputs": []
    },
    {
      "cell_type": "code",
      "metadata": {
        "id": "k-jMwVWdSVQw"
      },
      "source": [
        "print(\"A series of numbers:\",type(np.arange(5,16)))\n",
        "np.arange(5,16,2.3)# A series of numbers from low to high"
      ],
      "execution_count": null,
      "outputs": []
    },
    {
      "cell_type": "code",
      "metadata": {
        "id": "7tlKPqY8SVQy"
      },
      "source": [
        "list(range(5,16,2))"
      ],
      "execution_count": null,
      "outputs": []
    },
    {
      "cell_type": "code",
      "metadata": {
        "id": "y4k_IqdySVQz"
      },
      "source": [
        "list(range(50,-1,5))"
      ],
      "execution_count": null,
      "outputs": []
    },
    {
      "cell_type": "code",
      "metadata": {
        "id": "XHkKdqKgSVQz"
      },
      "source": [
        "print(\"Numbers spaced apart by 2:\",np.arange(50,-1,5)) # Numbers spaced apart by 2"
      ],
      "execution_count": null,
      "outputs": []
    },
    {
      "cell_type": "code",
      "metadata": {
        "id": "VRMh00EQSVQ0"
      },
      "source": [
        "print(\"Numbers spaced apart by float:\",np.arange(0,11,2.5)) # Numbers spaced apart by 2.5"
      ],
      "execution_count": null,
      "outputs": []
    },
    {
      "cell_type": "code",
      "metadata": {
        "id": "xkjSLwgPSVQ0"
      },
      "source": [
        "print(\"Every 5th number from 50 in reverse order\\n\",np.arange(5.0,-1,-5))"
      ],
      "execution_count": null,
      "outputs": []
    },
    {
      "cell_type": "code",
      "metadata": {
        "id": "Nbn3MnZiSVQ1"
      },
      "source": [
        "print(\"21 linearly spaced numbers between 1 and 5\\n--------------------------------------------\")\n",
        "print((np.linspace(1,5,50)))"
      ],
      "execution_count": null,
      "outputs": []
    },
    {
      "cell_type": "markdown",
      "metadata": {
        "id": "eHk9jt84SVQ1"
      },
      "source": [
        "# Matrix creation"
      ]
    },
    {
      "cell_type": "code",
      "metadata": {
        "id": "etBogo4RSVQ1",
        "colab": {
          "base_uri": "https://localhost:8080/"
        },
        "outputId": "16f0c82c-1d6e-4c3a-ae65-8a3502fcecc7"
      },
      "source": [
        "print(\"Vector of zeroes\\n---------------------\")\n",
        "print(np.zeros(5))"
      ],
      "execution_count": null,
      "outputs": [
        {
          "output_type": "stream",
          "text": [
            "Vector of zeroes\n",
            "---------------------\n",
            "[0. 0. 0. 0. 0.]\n"
          ],
          "name": "stdout"
        }
      ]
    },
    {
      "cell_type": "code",
      "metadata": {
        "id": "LmL0kbjfSVQ1",
        "colab": {
          "base_uri": "https://localhost:8080/"
        },
        "outputId": "a193ab5f-8ef3-4e33-bdb6-6f5fa19b9f08"
      },
      "source": [
        "print(\"Matrix of zeroes\\n--------------------\")\n",
        "print(np.zeros((3,4,2))) # Notice Tuples"
      ],
      "execution_count": null,
      "outputs": [
        {
          "output_type": "stream",
          "text": [
            "Matrix of zeroes\n",
            "--------------------\n",
            "[[[0. 0.]\n",
            "  [0. 0.]\n",
            "  [0. 0.]\n",
            "  [0. 0.]]\n",
            "\n",
            " [[0. 0.]\n",
            "  [0. 0.]\n",
            "  [0. 0.]\n",
            "  [0. 0.]]\n",
            "\n",
            " [[0. 0.]\n",
            "  [0. 0.]\n",
            "  [0. 0.]\n",
            "  [0. 0.]]]\n"
          ],
          "name": "stdout"
        }
      ]
    },
    {
      "cell_type": "code",
      "metadata": {
        "id": "Di8VCzX1SVQ2",
        "colab": {
          "base_uri": "https://localhost:8080/"
        },
        "outputId": "521b1235-3433-46a6-bafb-619e1149e99d"
      },
      "source": [
        "print(\"Vector of ones\\n---------------------\")\n",
        "print(np.ones(5))"
      ],
      "execution_count": null,
      "outputs": [
        {
          "output_type": "stream",
          "text": [
            "Vector of ones\n",
            "---------------------\n",
            "[1. 1. 1. 1. 1.]\n"
          ],
          "name": "stdout"
        }
      ]
    },
    {
      "cell_type": "code",
      "metadata": {
        "id": "x6QuYw3iSVQ2",
        "colab": {
          "base_uri": "https://localhost:8080/"
        },
        "outputId": "99677479-39b0-4de4-88d7-414401aaa317"
      },
      "source": [
        "print(\"Matrix of ones\\n---------------------\")\n",
        "print(np.ones((5,2,8))) # Note matrix dimension specified by Tuples\n"
      ],
      "execution_count": null,
      "outputs": [
        {
          "output_type": "stream",
          "text": [
            "Matrix of ones\n",
            "---------------------\n",
            "[[[1. 1. 1. 1. 1. 1. 1. 1.]\n",
            "  [1. 1. 1. 1. 1. 1. 1. 1.]]\n",
            "\n",
            " [[1. 1. 1. 1. 1. 1. 1. 1.]\n",
            "  [1. 1. 1. 1. 1. 1. 1. 1.]]\n",
            "\n",
            " [[1. 1. 1. 1. 1. 1. 1. 1.]\n",
            "  [1. 1. 1. 1. 1. 1. 1. 1.]]\n",
            "\n",
            " [[1. 1. 1. 1. 1. 1. 1. 1.]\n",
            "  [1. 1. 1. 1. 1. 1. 1. 1.]]\n",
            "\n",
            " [[1. 1. 1. 1. 1. 1. 1. 1.]\n",
            "  [1. 1. 1. 1. 1. 1. 1. 1.]]]\n"
          ],
          "name": "stdout"
        }
      ]
    },
    {
      "cell_type": "code",
      "metadata": {
        "id": "GzMS8EY7SVQ2",
        "colab": {
          "base_uri": "https://localhost:8080/"
        },
        "outputId": "2a7d5e0c-b718-4929-fab4-81d02019ab56"
      },
      "source": [
        "print(\"Matrix of 5's\\n---------------------\")\n",
        "print(5+np.ones((3,5)))"
      ],
      "execution_count": null,
      "outputs": [
        {
          "output_type": "stream",
          "text": [
            "Matrix of 5's\n",
            "---------------------\n",
            "[[6. 6. 6. 6. 6.]\n",
            " [6. 6. 6. 6. 6.]\n",
            " [6. 6. 6. 6. 6.]]\n"
          ],
          "name": "stdout"
        }
      ]
    },
    {
      "cell_type": "code",
      "metadata": {
        "id": "AA2maQMjSVQ3",
        "colab": {
          "base_uri": "https://localhost:8080/"
        },
        "outputId": "4d1f5223-ffc3-4e6c-f1c4-b4af5694477d"
      },
      "source": [
        "print(\"Empty matrix\\n-------------\\n\", np.empty((4,5),dtype=int))"
      ],
      "execution_count": null,
      "outputs": [
        {
          "output_type": "stream",
          "text": [
            "Empty matrix\n",
            "-------------\n",
            " [[94284937053120              0              0              0\n",
            "               0]\n",
            " [             0              0              0              0\n",
            "               0]\n",
            " [             0              0              0              0\n",
            "               0]\n",
            " [             0              0              0              0\n",
            "               0]]\n"
          ],
          "name": "stdout"
        }
      ]
    },
    {
      "cell_type": "code",
      "metadata": {
        "scrolled": true,
        "id": "HR_O8IvZSVQ3",
        "colab": {
          "base_uri": "https://localhost:8080/"
        },
        "outputId": "741bf3bd-b177-4885-a31b-e25bc26e5021"
      },
      "source": [
        "mat1 = np.eye(4) \n",
        "print(\"Identity matrix of dimension\", mat1.shape)\n",
        "print(mat1)"
      ],
      "execution_count": null,
      "outputs": [
        {
          "output_type": "stream",
          "text": [
            "Identity matrix of dimension (4, 4)\n",
            "[[1. 0. 0. 0.]\n",
            " [0. 1. 0. 0.]\n",
            " [0. 0. 1. 0.]\n",
            " [0. 0. 0. 1.]]\n"
          ],
          "name": "stdout"
        }
      ]
    },
    {
      "cell_type": "code",
      "metadata": {
        "id": "dVQX7zThSVQ3",
        "colab": {
          "base_uri": "https://localhost:8080/"
        },
        "outputId": "bb3dd9ed-26cb-477f-c422-3b4d2f0aa0ce"
      },
      "source": [
        "np.arange(3)"
      ],
      "execution_count": null,
      "outputs": [
        {
          "output_type": "execute_result",
          "data": {
            "text/plain": [
              "array([0, 1, 2])"
            ]
          },
          "metadata": {
            "tags": []
          },
          "execution_count": 61
        }
      ]
    },
    {
      "cell_type": "code",
      "metadata": {
        "id": "IO4Aa5RzSVQ4",
        "colab": {
          "base_uri": "https://localhost:8080/"
        },
        "outputId": "77b161f6-1750-4037-f711-904c0393d301"
      },
      "source": [
        "np.arange(3.0)"
      ],
      "execution_count": null,
      "outputs": [
        {
          "output_type": "execute_result",
          "data": {
            "text/plain": [
              "array([0., 1., 2.])"
            ]
          },
          "metadata": {
            "tags": []
          },
          "execution_count": 62
        }
      ]
    },
    {
      "cell_type": "code",
      "metadata": {
        "id": "U9ZA0ZAUSVQ4",
        "colab": {
          "base_uri": "https://localhost:8080/"
        },
        "outputId": "d4be6994-6eb6-47af-a4dc-896389e58e6b"
      },
      "source": [
        " np.arange(3,7)"
      ],
      "execution_count": null,
      "outputs": [
        {
          "output_type": "execute_result",
          "data": {
            "text/plain": [
              "array([3, 4, 5, 6])"
            ]
          },
          "metadata": {
            "tags": []
          },
          "execution_count": 63
        }
      ]
    },
    {
      "cell_type": "code",
      "metadata": {
        "id": "sH_pKTbqSVQ4",
        "colab": {
          "base_uri": "https://localhost:8080/"
        },
        "outputId": "573ea78a-82bd-4cab-e433-3490209329d3"
      },
      "source": [
        "np.arange(3,7,2)"
      ],
      "execution_count": null,
      "outputs": [
        {
          "output_type": "execute_result",
          "data": {
            "text/plain": [
              "array([3, 5])"
            ]
          },
          "metadata": {
            "tags": []
          },
          "execution_count": 64
        }
      ]
    },
    {
      "cell_type": "code",
      "metadata": {
        "id": "LcKxmIQVSVQ5",
        "colab": {
          "base_uri": "https://localhost:8080/"
        },
        "outputId": "6defc63f-811e-4497-aac5-fd2806e3f9b5"
      },
      "source": [
        "np.linspace(2.0, 3.0, num=5)"
      ],
      "execution_count": null,
      "outputs": [
        {
          "output_type": "execute_result",
          "data": {
            "text/plain": [
              "array([2.  , 2.25, 2.5 , 2.75, 3.  ])"
            ]
          },
          "metadata": {
            "tags": []
          },
          "execution_count": 65
        }
      ]
    },
    {
      "cell_type": "code",
      "metadata": {
        "id": "qGfy6MhjSVQ5",
        "colab": {
          "base_uri": "https://localhost:8080/"
        },
        "outputId": "a9167060-7727-46d6-e98b-bf7f54a64f74"
      },
      "source": [
        "np.linspace(2.0, 3.0, num=5, endpoint=False)"
      ],
      "execution_count": null,
      "outputs": [
        {
          "output_type": "execute_result",
          "data": {
            "text/plain": [
              "array([2. , 2.2, 2.4, 2.6, 2.8])"
            ]
          },
          "metadata": {
            "tags": []
          },
          "execution_count": 66
        }
      ]
    },
    {
      "cell_type": "code",
      "metadata": {
        "id": "qMy6jvbLSVQ6",
        "colab": {
          "base_uri": "https://localhost:8080/"
        },
        "outputId": "b2c9fa72-e8c9-4863-ac5b-583a41302151"
      },
      "source": [
        "np.linspace(2.0, 3.0, num=9, retstep=True)"
      ],
      "execution_count": null,
      "outputs": [
        {
          "output_type": "execute_result",
          "data": {
            "text/plain": [
              "(array([2.   , 2.125, 2.25 , 2.375, 2.5  , 2.625, 2.75 , 2.875, 3.   ]), 0.125)"
            ]
          },
          "metadata": {
            "tags": []
          },
          "execution_count": 67
        }
      ]
    },
    {
      "cell_type": "code",
      "metadata": {
        "id": "RsOXjSIQSVQ6",
        "colab": {
          "base_uri": "https://localhost:8080/"
        },
        "outputId": "b9185e02-d793-4057-bcc3-ab0b5d465aca"
      },
      "source": [
        "#Return numbers spaced evenly on a log scale.\n",
        "np.linspace(2.0, 3.0, num=4)"
      ],
      "execution_count": null,
      "outputs": [
        {
          "output_type": "execute_result",
          "data": {
            "text/plain": [
              "array([2.        , 2.33333333, 2.66666667, 3.        ])"
            ]
          },
          "metadata": {
            "tags": []
          },
          "execution_count": 68
        }
      ]
    },
    {
      "cell_type": "code",
      "metadata": {
        "id": "29yIwVdpSVQ7",
        "colab": {
          "base_uri": "https://localhost:8080/"
        },
        "outputId": "68f98362-3fd2-4fd1-d434-c01a4d262a3e"
      },
      "source": [
        "np.logspace(2.0, 3.0, num=4,base = 2)"
      ],
      "execution_count": null,
      "outputs": [
        {
          "output_type": "execute_result",
          "data": {
            "text/plain": [
              "array([4.        , 5.0396842 , 6.34960421, 8.        ])"
            ]
          },
          "metadata": {
            "tags": []
          },
          "execution_count": 91
        }
      ]
    },
    {
      "cell_type": "code",
      "metadata": {
        "id": "mR939GTTSVQ7",
        "colab": {
          "base_uri": "https://localhost:8080/"
        },
        "outputId": "e0e27fd7-f7b0-4432-d87d-29a2ace39c43"
      },
      "source": [
        "np.logspace(2.0, 3.0, num=4, endpoint=False)"
      ],
      "execution_count": null,
      "outputs": [
        {
          "output_type": "execute_result",
          "data": {
            "text/plain": [
              "array([100.        , 177.827941  , 316.22776602, 562.34132519])"
            ]
          },
          "metadata": {
            "tags": []
          },
          "execution_count": 70
        }
      ]
    },
    {
      "cell_type": "code",
      "metadata": {
        "id": "z4uViVwsSVQ8",
        "colab": {
          "base_uri": "https://localhost:8080/"
        },
        "outputId": "ffad8b21-b893-4019-e274-effa23250711"
      },
      "source": [
        "np.logspace(2.0, 3.0, num=4, base=2.0)"
      ],
      "execution_count": null,
      "outputs": [
        {
          "output_type": "execute_result",
          "data": {
            "text/plain": [
              "array([4.        , 5.0396842 , 6.34960421, 8.        ])"
            ]
          },
          "metadata": {
            "tags": []
          },
          "execution_count": 71
        }
      ]
    },
    {
      "cell_type": "code",
      "metadata": {
        "colab": {
          "base_uri": "https://localhost:8080/"
        },
        "id": "TSN7w71LYWdE",
        "outputId": "9f8415f2-a2ee-46c9-eac5-a1d916f565e8"
      },
      "source": [
        "(np.zeros((3,4,8)) + 5)*2"
      ],
      "execution_count": null,
      "outputs": [
        {
          "output_type": "execute_result",
          "data": {
            "text/plain": [
              "array([[[10., 10., 10., 10., 10., 10., 10., 10.],\n",
              "        [10., 10., 10., 10., 10., 10., 10., 10.],\n",
              "        [10., 10., 10., 10., 10., 10., 10., 10.],\n",
              "        [10., 10., 10., 10., 10., 10., 10., 10.]],\n",
              "\n",
              "       [[10., 10., 10., 10., 10., 10., 10., 10.],\n",
              "        [10., 10., 10., 10., 10., 10., 10., 10.],\n",
              "        [10., 10., 10., 10., 10., 10., 10., 10.],\n",
              "        [10., 10., 10., 10., 10., 10., 10., 10.]],\n",
              "\n",
              "       [[10., 10., 10., 10., 10., 10., 10., 10.],\n",
              "        [10., 10., 10., 10., 10., 10., 10., 10.],\n",
              "        [10., 10., 10., 10., 10., 10., 10., 10.],\n",
              "        [10., 10., 10., 10., 10., 10., 10., 10.]]])"
            ]
          },
          "metadata": {
            "tags": []
          },
          "execution_count": 121
        }
      ]
    },
    {
      "cell_type": "code",
      "metadata": {
        "colab": {
          "base_uri": "https://localhost:8080/"
        },
        "id": "6fbZg_PRYoCU",
        "outputId": "c9a8b129-7e87-4897-8440-d412e2e33617"
      },
      "source": [
        "np.linspace(4,8,80)"
      ],
      "execution_count": null,
      "outputs": [
        {
          "output_type": "execute_result",
          "data": {
            "text/plain": [
              "array([4.        , 4.05063291, 4.10126582, 4.15189873, 4.20253165,\n",
              "       4.25316456, 4.30379747, 4.35443038, 4.40506329, 4.4556962 ,\n",
              "       4.50632911, 4.55696203, 4.60759494, 4.65822785, 4.70886076,\n",
              "       4.75949367, 4.81012658, 4.86075949, 4.91139241, 4.96202532,\n",
              "       5.01265823, 5.06329114, 5.11392405, 5.16455696, 5.21518987,\n",
              "       5.26582278, 5.3164557 , 5.36708861, 5.41772152, 5.46835443,\n",
              "       5.51898734, 5.56962025, 5.62025316, 5.67088608, 5.72151899,\n",
              "       5.7721519 , 5.82278481, 5.87341772, 5.92405063, 5.97468354,\n",
              "       6.02531646, 6.07594937, 6.12658228, 6.17721519, 6.2278481 ,\n",
              "       6.27848101, 6.32911392, 6.37974684, 6.43037975, 6.48101266,\n",
              "       6.53164557, 6.58227848, 6.63291139, 6.6835443 , 6.73417722,\n",
              "       6.78481013, 6.83544304, 6.88607595, 6.93670886, 6.98734177,\n",
              "       7.03797468, 7.08860759, 7.13924051, 7.18987342, 7.24050633,\n",
              "       7.29113924, 7.34177215, 7.39240506, 7.44303797, 7.49367089,\n",
              "       7.5443038 , 7.59493671, 7.64556962, 7.69620253, 7.74683544,\n",
              "       7.79746835, 7.84810127, 7.89873418, 7.94936709, 8.        ])"
            ]
          },
          "metadata": {
            "tags": []
          },
          "execution_count": 94
        }
      ]
    },
    {
      "cell_type": "code",
      "metadata": {
        "colab": {
          "base_uri": "https://localhost:8080/"
        },
        "id": "AbOs3aoVYtIv",
        "outputId": "3be6b2c8-40d8-494e-ec56-4559d98f715b"
      },
      "source": [
        "np.mat([1,2,3,4])"
      ],
      "execution_count": null,
      "outputs": [
        {
          "output_type": "execute_result",
          "data": {
            "text/plain": [
              "matrix([[1, 2, 3, 4]])"
            ]
          },
          "metadata": {
            "tags": []
          },
          "execution_count": 119
        }
      ]
    },
    {
      "cell_type": "code",
      "metadata": {
        "colab": {
          "base_uri": "https://localhost:8080/"
        },
        "id": "t0OdYpdCZIsX",
        "outputId": "2b7108e8-c621-45e0-8f85-84b72b397e5f"
      },
      "source": [
        "np.shape(np.ones((4,5,2)))"
      ],
      "execution_count": null,
      "outputs": [
        {
          "output_type": "execute_result",
          "data": {
            "text/plain": [
              "(4, 5, 2)"
            ]
          },
          "metadata": {
            "tags": []
          },
          "execution_count": 112
        }
      ]
    },
    {
      "cell_type": "code",
      "metadata": {
        "colab": {
          "base_uri": "https://localhost:8080/"
        },
        "id": "ApLUHunCZcuU",
        "outputId": "eaa5f7c3-9d5d-4a73-9949-b89d2d99ce37"
      },
      "source": [
        "np.ndim(np.ones((4,5,2)))"
      ],
      "execution_count": null,
      "outputs": [
        {
          "output_type": "execute_result",
          "data": {
            "text/plain": [
              "3"
            ]
          },
          "metadata": {
            "tags": []
          },
          "execution_count": 114
        }
      ]
    },
    {
      "cell_type": "code",
      "metadata": {
        "colab": {
          "base_uri": "https://localhost:8080/"
        },
        "id": "ICdijnniZWmN",
        "outputId": "c2016476-dea4-430b-f0ec-eeeb1e48326a"
      },
      "source": [
        "type(np.ones((4,5,2)))"
      ],
      "execution_count": null,
      "outputs": [
        {
          "output_type": "execute_result",
          "data": {
            "text/plain": [
              "numpy.ndarray"
            ]
          },
          "metadata": {
            "tags": []
          },
          "execution_count": 115
        }
      ]
    },
    {
      "cell_type": "code",
      "metadata": {
        "id": "x1jWvqIDaC-o"
      },
      "source": [
        "x1=np.zeros((3,3,3))\n",
        "x2=np.ones((3,3,3))"
      ],
      "execution_count": null,
      "outputs": []
    },
    {
      "cell_type": "code",
      "metadata": {
        "colab": {
          "base_uri": "https://localhost:8080/"
        },
        "id": "t18Ox3RCaPiV",
        "outputId": "52f49b8c-5568-4d9e-92fb-504e8e6cb4f2"
      },
      "source": [
        "x1"
      ],
      "execution_count": null,
      "outputs": [
        {
          "output_type": "execute_result",
          "data": {
            "text/plain": [
              "array([[[0., 0., 0.],\n",
              "        [0., 0., 0.],\n",
              "        [0., 0., 0.]],\n",
              "\n",
              "       [[0., 0., 0.],\n",
              "        [0., 0., 0.],\n",
              "        [0., 0., 0.]],\n",
              "\n",
              "       [[0., 0., 0.],\n",
              "        [0., 0., 0.],\n",
              "        [0., 0., 0.]]])"
            ]
          },
          "metadata": {
            "tags": []
          },
          "execution_count": 117
        }
      ]
    },
    {
      "cell_type": "code",
      "metadata": {
        "colab": {
          "base_uri": "https://localhost:8080/"
        },
        "id": "n4JKGSdZaL9C",
        "outputId": "8b9842e7-99f8-4998-e714-7c897c2576e0"
      },
      "source": [
        "x1+x2"
      ],
      "execution_count": null,
      "outputs": [
        {
          "output_type": "execute_result",
          "data": {
            "text/plain": [
              "array([[[1., 1., 1.],\n",
              "        [1., 1., 1.],\n",
              "        [1., 1., 1.]],\n",
              "\n",
              "       [[1., 1., 1.],\n",
              "        [1., 1., 1.],\n",
              "        [1., 1., 1.]],\n",
              "\n",
              "       [[1., 1., 1.],\n",
              "        [1., 1., 1.],\n",
              "        [1., 1., 1.]]])"
            ]
          },
          "metadata": {
            "tags": []
          },
          "execution_count": 118
        }
      ]
    },
    {
      "cell_type": "code",
      "metadata": {
        "collapsed": true,
        "id": "VqdaWKJCSVQ8"
      },
      "source": [
        "#Extract a diagonal or construct a diagonal array."
      ],
      "execution_count": null,
      "outputs": []
    },
    {
      "cell_type": "code",
      "metadata": {
        "colab": {
          "base_uri": "https://localhost:8080/"
        },
        "id": "8plom8sKcx5s",
        "outputId": "a2db71cc-7084-47f5-ba95-44b855ac6df1"
      },
      "source": [
        "np.arange(16).reshape(-1,8)"
      ],
      "execution_count": null,
      "outputs": [
        {
          "output_type": "execute_result",
          "data": {
            "text/plain": [
              "array([[ 0,  1,  2,  3,  4,  5,  6,  7],\n",
              "       [ 8,  9, 10, 11, 12, 13, 14, 15]])"
            ]
          },
          "metadata": {
            "tags": []
          },
          "execution_count": 132
        }
      ]
    },
    {
      "cell_type": "code",
      "metadata": {
        "id": "arvgdc78SVQ8"
      },
      "source": [
        "x = np.arange(16).reshape((-1,4))"
      ],
      "execution_count": null,
      "outputs": []
    },
    {
      "cell_type": "code",
      "metadata": {
        "id": "iboUHHPcSVQ9",
        "colab": {
          "base_uri": "https://localhost:8080/"
        },
        "outputId": "572618d6-521d-42e1-c4d4-b6961714b967"
      },
      "source": [
        "x"
      ],
      "execution_count": null,
      "outputs": [
        {
          "output_type": "execute_result",
          "data": {
            "text/plain": [
              "array([[ 0,  1,  2,  3],\n",
              "       [ 4,  5,  6,  7],\n",
              "       [ 8,  9, 10, 11],\n",
              "       [12, 13, 14, 15]])"
            ]
          },
          "metadata": {
            "tags": []
          },
          "execution_count": 151
        }
      ]
    },
    {
      "cell_type": "code",
      "metadata": {
        "id": "xesgafrmSVQ9",
        "colab": {
          "base_uri": "https://localhost:8080/"
        },
        "outputId": "bb83a72f-8e1a-4dd7-f268-77f506846585"
      },
      "source": [
        "np.diag(x)"
      ],
      "execution_count": null,
      "outputs": [
        {
          "output_type": "execute_result",
          "data": {
            "text/plain": [
              "array([ 0,  5, 10, 15])"
            ]
          },
          "metadata": {
            "tags": []
          },
          "execution_count": 152
        }
      ]
    },
    {
      "cell_type": "code",
      "metadata": {
        "id": "QTkHPPNLSVQ9",
        "colab": {
          "base_uri": "https://localhost:8080/"
        },
        "outputId": "45ce023c-fdbd-47ed-a0e1-3cb9026f6d61"
      },
      "source": [
        "np.diag(x, k=1)"
      ],
      "execution_count": null,
      "outputs": [
        {
          "output_type": "execute_result",
          "data": {
            "text/plain": [
              "array([ 1,  6, 11])"
            ]
          },
          "metadata": {
            "tags": []
          },
          "execution_count": 153
        }
      ]
    },
    {
      "cell_type": "code",
      "metadata": {
        "id": "3p_HqtnZSVQ-",
        "colab": {
          "base_uri": "https://localhost:8080/"
        },
        "outputId": "056d80d7-733b-4aa6-f658-b2a41a31730c"
      },
      "source": [
        "np.diag(x, k=-1)"
      ],
      "execution_count": null,
      "outputs": [
        {
          "output_type": "execute_result",
          "data": {
            "text/plain": [
              "array([ 4,  9, 14])"
            ]
          },
          "metadata": {
            "tags": []
          },
          "execution_count": 77
        }
      ]
    },
    {
      "cell_type": "code",
      "metadata": {
        "id": "g01FRf6jSVQ-",
        "colab": {
          "base_uri": "https://localhost:8080/"
        },
        "outputId": "ff86a0aa-efe7-43b1-9bbd-43fcd793835d"
      },
      "source": [
        "np.diag(np.diag(x))"
      ],
      "execution_count": null,
      "outputs": [
        {
          "output_type": "execute_result",
          "data": {
            "text/plain": [
              "array([[ 0,  0,  0,  0],\n",
              "       [ 0,  5,  0,  0],\n",
              "       [ 0,  0, 10,  0],\n",
              "       [ 0,  0,  0, 15]])"
            ]
          },
          "metadata": {
            "tags": []
          },
          "execution_count": 78
        }
      ]
    },
    {
      "cell_type": "code",
      "metadata": {
        "collapsed": true,
        "id": "hHXGe1F3SVQ_"
      },
      "source": [
        "#Create a two-dimensional array with the flattened input as a diagonal."
      ],
      "execution_count": null,
      "outputs": []
    },
    {
      "cell_type": "code",
      "metadata": {
        "id": "_xBSYUa0SVQ_",
        "colab": {
          "base_uri": "https://localhost:8080/"
        },
        "outputId": "03abc247-ed6c-4686-b683-8e3cd6814cf9"
      },
      "source": [
        "np.diagflat([[1,2], [3,4]],2)"
      ],
      "execution_count": null,
      "outputs": [
        {
          "output_type": "execute_result",
          "data": {
            "text/plain": [
              "array([[0, 0, 1, 0, 0, 0],\n",
              "       [0, 0, 0, 2, 0, 0],\n",
              "       [0, 0, 0, 0, 3, 0],\n",
              "       [0, 0, 0, 0, 0, 4],\n",
              "       [0, 0, 0, 0, 0, 0],\n",
              "       [0, 0, 0, 0, 0, 0]])"
            ]
          },
          "metadata": {
            "tags": []
          },
          "execution_count": 161
        }
      ]
    },
    {
      "cell_type": "code",
      "metadata": {
        "id": "yhhxUXmPSVQ_",
        "colab": {
          "base_uri": "https://localhost:8080/"
        },
        "outputId": "b3885fd5-3784-41e2-84e7-5b5bdecadc0e"
      },
      "source": [
        "np.diagflat([1,2], 1)"
      ],
      "execution_count": null,
      "outputs": [
        {
          "output_type": "execute_result",
          "data": {
            "text/plain": [
              "array([[0, 1, 0],\n",
              "       [0, 0, 2],\n",
              "       [0, 0, 0]])"
            ]
          },
          "metadata": {
            "tags": []
          },
          "execution_count": 160
        }
      ]
    },
    {
      "cell_type": "code",
      "metadata": {
        "collapsed": true,
        "id": "IX_HdQlmSVRA"
      },
      "source": [
        "#An array with ones at and below the given diagonal and zeros elsewhere."
      ],
      "execution_count": null,
      "outputs": []
    },
    {
      "cell_type": "code",
      "metadata": {
        "id": "YsbYbBdQSVRA",
        "colab": {
          "base_uri": "https://localhost:8080/"
        },
        "outputId": "5c34369e-d2d1-4c6b-f470-ee00be49d192"
      },
      "source": [
        "np.tri(3, 3,0)"
      ],
      "execution_count": null,
      "outputs": [
        {
          "output_type": "execute_result",
          "data": {
            "text/plain": [
              "array([[1., 0., 0.],\n",
              "       [1., 1., 0.],\n",
              "       [1., 1., 1.]])"
            ]
          },
          "metadata": {
            "tags": []
          },
          "execution_count": 172
        }
      ]
    },
    {
      "cell_type": "code",
      "metadata": {
        "id": "K1hChRlTSVRA",
        "colab": {
          "base_uri": "https://localhost:8080/"
        },
        "outputId": "5a505877-27ea-48d3-cfaa-cbd4ba435d57"
      },
      "source": [
        "np.tri(3, 5,k=-1)"
      ],
      "execution_count": null,
      "outputs": [
        {
          "output_type": "execute_result",
          "data": {
            "text/plain": [
              "array([[0., 0., 0., 0., 0.],\n",
              "       [1., 0., 0., 0., 0.],\n",
              "       [1., 1., 0., 0., 0.]])"
            ]
          },
          "metadata": {
            "tags": []
          },
          "execution_count": 173
        }
      ]
    },
    {
      "cell_type": "code",
      "metadata": {
        "collapsed": true,
        "id": "7q57sxP0SVRB"
      },
      "source": [
        "#return a Lower triangle of an array."
      ],
      "execution_count": null,
      "outputs": []
    },
    {
      "cell_type": "code",
      "metadata": {
        "id": "ODbn87UWSVRB",
        "colab": {
          "base_uri": "https://localhost:8080/"
        },
        "outputId": "84aac9c6-22d4-4bc3-8285-ad0596763838"
      },
      "source": [
        "np.tril([[1,2,3],[4,5,6],[7,8,9]], 0)"
      ],
      "execution_count": null,
      "outputs": [
        {
          "output_type": "execute_result",
          "data": {
            "text/plain": [
              "array([[1, 0, 0],\n",
              "       [4, 5, 0],\n",
              "       [7, 8, 9]])"
            ]
          },
          "metadata": {
            "tags": []
          },
          "execution_count": 174
        }
      ]
    },
    {
      "cell_type": "code",
      "metadata": {
        "collapsed": true,
        "id": "QMdOwvmCSVRB"
      },
      "source": [
        "#return Upper triangle of an array."
      ],
      "execution_count": null,
      "outputs": []
    },
    {
      "cell_type": "code",
      "metadata": {
        "id": "5MOBnMSsSVRC",
        "colab": {
          "base_uri": "https://localhost:8080/"
        },
        "outputId": "654a4dc9-0cc0-489c-bdb0-04d15b51a28c"
      },
      "source": [
        "np.triu([[1,2,3],[4,5,6],[7,8,9],[10,11,12]], 2)"
      ],
      "execution_count": null,
      "outputs": [
        {
          "output_type": "execute_result",
          "data": {
            "text/plain": [
              "array([[0, 0, 3],\n",
              "       [0, 0, 0],\n",
              "       [0, 0, 0],\n",
              "       [0, 0, 0]])"
            ]
          },
          "metadata": {
            "tags": []
          },
          "execution_count": 179
        }
      ]
    },
    {
      "cell_type": "markdown",
      "metadata": {
        "id": "jErlBJjdSVRC"
      },
      "source": [
        "# Random number generation"
      ]
    },
    {
      "cell_type": "code",
      "metadata": {
        "id": "w5q6Bk-zSVRD",
        "colab": {
          "base_uri": "https://localhost:8080/"
        },
        "outputId": "c84cdfc9-489d-4ce6-bf9f-c17b46a011a1"
      },
      "source": [
        "print(\"Random number generation (from Uniform distribution)\")\n",
        "print(np.random.rand(2,3)) # 2 by 3 matrix with random numbers ranging from 0 to 1, Note no Tuple is necessary "
      ],
      "execution_count": null,
      "outputs": [
        {
          "output_type": "stream",
          "text": [
            "Random number generation (from Uniform distribution)\n",
            "[[0.87281628 0.25524145 0.42870993]\n",
            " [0.73170781 0.44902786 0.52894835]]\n"
          ],
          "name": "stdout"
        }
      ]
    },
    {
      "cell_type": "code",
      "metadata": {
        "id": "NRcYvi59SVRD",
        "colab": {
          "base_uri": "https://localhost:8080/"
        },
        "outputId": "a17d2866-1815-4295-8ab5-dcd54d22d2a9"
      },
      "source": [
        "print(\"Numbers from Normal distribution with zero mean and standard deviation 1 i.e. standard normal\")\n",
        "print(np.random.randn(4,3))"
      ],
      "execution_count": null,
      "outputs": [
        {
          "output_type": "stream",
          "text": [
            "Numbers from Normal distribution with zero mean and standard deviation 1 i.e. standard normal\n",
            "[[ 1.38160257 -1.03843956 -1.12495004]\n",
            " [-0.11090035  0.67199881  1.32563441]\n",
            " [ 0.34836958 -0.81244004  0.62005855]\n",
            " [ 1.28275894  1.26055861 -0.51539694]]\n"
          ],
          "name": "stdout"
        }
      ]
    },
    {
      "cell_type": "code",
      "metadata": {
        "id": "H3GH0WzcSVRG",
        "colab": {
          "base_uri": "https://localhost:8080/"
        },
        "outputId": "e2a59367-457b-4354-ba83-58606d4d1eb9"
      },
      "source": [
        "print(\"Random integer vector:\\n\",np.random.randint(1,10,(4,4))) #randint (low, high, # of samples to be drawn)\n",
        "print (\"\\nRandom integer matrix\")\n"
      ],
      "execution_count": null,
      "outputs": [
        {
          "output_type": "stream",
          "text": [
            "Random integer vector:\n",
            " [[6 6 4 1]\n",
            " [2 1 7 7]\n",
            " [5 2 2 4]\n",
            " [2 5 7 5]]\n",
            "\n",
            "Random integer matrix\n"
          ],
          "name": "stdout"
        }
      ]
    },
    {
      "cell_type": "code",
      "metadata": {
        "id": "dhERBLxJSVRJ",
        "colab": {
          "base_uri": "https://localhost:8080/"
        },
        "outputId": "501a03dc-d3c3-4950-a18e-65cd19ab570f"
      },
      "source": [
        "print(np.random.randint(1,100,(4,4,5))) #randint (low, high, # of samples to be drawn in a tuple to form a matrix)\n",
        "print(\"\\n20 samples drawn from a dice throw:\",np.random.randint(1,7,20)) # 20 samples drawn from a dice throw"
      ],
      "execution_count": null,
      "outputs": [
        {
          "output_type": "stream",
          "text": [
            "[[[57  9 72 54 86]\n",
            "  [86 49 97 40 57]\n",
            "  [73 26 83 29 92]\n",
            "  [93 16 21 34 53]]\n",
            "\n",
            " [[50 81 81 93 51]\n",
            "  [70 94 56 64 85]\n",
            "  [47 42 32 79 16]\n",
            "  [33 27  2 10 52]]\n",
            "\n",
            " [[51 41 91  4 17]\n",
            "  [59 82 98 82 96]\n",
            "  [85 63 13  7 43]\n",
            "  [19 56 92 86 38]]\n",
            "\n",
            " [[88 75  1 72 16]\n",
            "  [72 99 73 56 49]\n",
            "  [47 76 88 61 11]\n",
            "  [46 43 10 60 46]]]\n",
            "\n",
            "20 samples drawn from a dice throw: [1 6 6 6 6 4 2 5 2 5 5 5 2 1 6 2 3 4 4 2]\n"
          ],
          "name": "stdout"
        }
      ]
    },
    {
      "cell_type": "markdown",
      "metadata": {
        "id": "rc9ARYPASVRK"
      },
      "source": [
        "# Reshaping"
      ]
    },
    {
      "cell_type": "code",
      "metadata": {
        "colab": {
          "base_uri": "https://localhost:8080/"
        },
        "id": "MS9kzkXETWs8",
        "outputId": "2ede7a30-f041-4ece-84f4-e80834908c06"
      },
      "source": [
        "a.reshape(2,3,5)"
      ],
      "execution_count": null,
      "outputs": [
        {
          "output_type": "execute_result",
          "data": {
            "text/plain": [
              "array([[[54, 94, 94, 22, 71],\n",
              "        [19, 69, 10, 15, 50],\n",
              "        [22, 66, 45, 86, 43]],\n",
              "\n",
              "       [[23, 19, 60,  6, 27],\n",
              "        [99, 62, 30, 97, 76],\n",
              "        [98, 19, 80, 50, 11]]])"
            ]
          },
          "metadata": {
            "tags": []
          },
          "execution_count": 6
        }
      ]
    },
    {
      "cell_type": "code",
      "metadata": {
        "colab": {
          "base_uri": "https://localhost:8080/"
        },
        "id": "dRjbGrwxTcfn",
        "outputId": "b692aa10-c55f-4909-edaa-33361fd7a980"
      },
      "source": [
        "a.reshape(6,-19878)"
      ],
      "execution_count": null,
      "outputs": [
        {
          "output_type": "execute_result",
          "data": {
            "text/plain": [
              "array([[54, 94, 94, 22, 71],\n",
              "       [19, 69, 10, 15, 50],\n",
              "       [22, 66, 45, 86, 43],\n",
              "       [23, 19, 60,  6, 27],\n",
              "       [99, 62, 30, 97, 76],\n",
              "       [98, 19, 80, 50, 11]])"
            ]
          },
          "metadata": {
            "tags": []
          },
          "execution_count": 7
        }
      ]
    },
    {
      "cell_type": "code",
      "metadata": {
        "id": "fbEJ2ecuSVRK",
        "colab": {
          "base_uri": "https://localhost:8080/"
        },
        "outputId": "43d442dc-ad43-428f-da62-b8ef416db913"
      },
      "source": [
        "from numpy.random import randint as ri\n",
        "a = ri(1,100,30)\n",
        "b = a.reshape(2,3,5)\n",
        "c = a.reshape(6,-19878)\n",
        "c"
      ],
      "execution_count": null,
      "outputs": [
        {
          "output_type": "execute_result",
          "data": {
            "text/plain": [
              "array([[54, 94, 94, 22, 71],\n",
              "       [19, 69, 10, 15, 50],\n",
              "       [22, 66, 45, 86, 43],\n",
              "       [23, 19, 60,  6, 27],\n",
              "       [99, 62, 30, 97, 76],\n",
              "       [98, 19, 80, 50, 11]])"
            ]
          },
          "metadata": {
            "tags": []
          },
          "execution_count": 5
        }
      ]
    },
    {
      "cell_type": "code",
      "metadata": {
        "id": "1rNooCM6SVRL",
        "colab": {
          "base_uri": "https://localhost:8080/"
        },
        "outputId": "e1263099-f4d9-49af-f25e-76ad02093ce2"
      },
      "source": [
        "print (\"Shape of a:\", a.shape)\n",
        "print (\"Shape of b:\", b.shape)\n",
        "print (\"Shape of c:\", c.shape)\n"
      ],
      "execution_count": null,
      "outputs": [
        {
          "output_type": "stream",
          "text": [
            "Shape of a: (30,)\n",
            "Shape of b: (2, 3, 5)\n",
            "Shape of c: (6, 5)\n"
          ],
          "name": "stdout"
        }
      ]
    },
    {
      "cell_type": "code",
      "metadata": {
        "id": "yK5wPvHzSVRL",
        "colab": {
          "base_uri": "https://localhost:8080/"
        },
        "outputId": "ddea16e4-5677-486a-9179-66433021edaf"
      },
      "source": [
        "print(\"\\na looks like\\n\",'-'*20,\"\\n\",a,\"\\n\",'-'*20)\n",
        "print(\"\\nb looks like\\n\",'-'*20,\"\\n\",b,\"\\n\",'-'*20)\n",
        "print(\"\\nc looks like\\n\",'-'*20,\"\\n\",c,\"\\n\",'-'*20)\n"
      ],
      "execution_count": null,
      "outputs": [
        {
          "output_type": "stream",
          "text": [
            "\n",
            "a looks like\n",
            " -------------------- \n",
            " [54 94 94 22 71 19 69 10 15 50 22 66 45 86 43 23 19 60  6 27 99 62 30 97\n",
            " 76 98 19 80 50 11] \n",
            " --------------------\n",
            "\n",
            "b looks like\n",
            " -------------------- \n",
            " [[[54 94 94 22 71]\n",
            "  [19 69 10 15 50]\n",
            "  [22 66 45 86 43]]\n",
            "\n",
            " [[23 19 60  6 27]\n",
            "  [99 62 30 97 76]\n",
            "  [98 19 80 50 11]]] \n",
            " --------------------\n",
            "\n",
            "c looks like\n",
            " -------------------- \n",
            " [[54 94 94 22 71]\n",
            " [19 69 10 15 50]\n",
            " [22 66 45 86 43]\n",
            " [23 19 60  6 27]\n",
            " [99 62 30 97 76]\n",
            " [98 19 80 50 11]] \n",
            " --------------------\n"
          ],
          "name": "stdout"
        }
      ]
    },
    {
      "cell_type": "code",
      "metadata": {
        "id": "T5cEiIlqSVRM",
        "colab": {
          "base_uri": "https://localhost:8080/"
        },
        "outputId": "6cb38546-04db-4633-d2f7-1689eae105c2"
      },
      "source": [
        "A = ri(1,100,10) # Vector of random interegrs\n",
        "print(\"\\nVector of random integers\\n\",'-'*50,\"\\n\",A)\n",
        "print(\"\\nHere is the sorted vector\\n\",'-'*50,\"\\n\",np.sort(A))\n"
      ],
      "execution_count": null,
      "outputs": [
        {
          "output_type": "stream",
          "text": [
            "\n",
            "Vector of random integers\n",
            " -------------------------------------------------- \n",
            " [12 60 17 61 62  1 21 61 88 19]\n",
            "\n",
            "Here is the sorted vector\n",
            " -------------------------------------------------- \n",
            " [ 1 12 17 19 21 60 61 61 62 88]\n"
          ],
          "name": "stdout"
        }
      ]
    },
    {
      "cell_type": "code",
      "metadata": {
        "id": "_87wmuvrSVRN",
        "colab": {
          "base_uri": "https://localhost:8080/"
        },
        "outputId": "3c9a562e-8863-429e-b73b-f7f6b96bcbc2"
      },
      "source": [
        "#M = ri(1,100,25).reshape(5,5) # Matrix of random interegrs\n",
        "print(M)\n",
        "#print(\"\\nHere is the sorted matrix along each row\\n\",'-'*50,\"\\n\",np.sort(M, kind='mergesort')) # Default axis =1\n",
        "print(\"\\nHere is the sorted matrix along each column\\n\",'-'*50,\"\\n\",np.sort(M, axis=1,kind='mergesort'))"
      ],
      "execution_count": null,
      "outputs": [
        {
          "output_type": "stream",
          "text": [
            "[[28 78 22 49 24]\n",
            " [85 78 43 63 55]\n",
            " [93 56 78 35 31]\n",
            " [ 2 79 52 72 18]\n",
            " [21 96 42 19 75]]\n",
            "\n",
            "Here is the sorted matrix along each column\n",
            " -------------------------------------------------- \n",
            " [[22 24 28 49 78]\n",
            " [43 55 63 78 85]\n",
            " [31 35 56 78 93]\n",
            " [ 2 18 52 72 79]\n",
            " [19 21 42 75 96]]\n"
          ],
          "name": "stdout"
        }
      ]
    },
    {
      "cell_type": "code",
      "metadata": {
        "id": "BCDotGM8SVRN",
        "colab": {
          "base_uri": "https://localhost:8080/"
        },
        "outputId": "b95b597c-40fb-47c6-f3c3-8aade9544d47"
      },
      "source": [
        "print(\"Max of a:\", M.max())\n",
        "print(\"Max of b:\", b.max())\n",
        "b"
      ],
      "execution_count": null,
      "outputs": [
        {
          "output_type": "stream",
          "text": [
            "Max of a: 96\n",
            "Max of b: 99\n"
          ],
          "name": "stdout"
        },
        {
          "output_type": "execute_result",
          "data": {
            "text/plain": [
              "array([[[54, 94, 94, 22, 71],\n",
              "        [19, 69, 10, 15, 50],\n",
              "        [22, 66, 45, 86, 43]],\n",
              "\n",
              "       [[23, 19, 60,  6, 27],\n",
              "        [99, 62, 30, 97, 76],\n",
              "        [98, 19, 80, 50, 11]]])"
            ]
          },
          "metadata": {
            "tags": []
          },
          "execution_count": 24
        }
      ]
    },
    {
      "cell_type": "code",
      "metadata": {
        "id": "hIp9N2tnSVRO",
        "colab": {
          "base_uri": "https://localhost:8080/"
        },
        "outputId": "f17ca066-410b-4c9b-af3a-6c656ae95180"
      },
      "source": [
        "M"
      ],
      "execution_count": null,
      "outputs": [
        {
          "output_type": "execute_result",
          "data": {
            "text/plain": [
              "array([[28, 78, 22, 49, 24],\n",
              "       [85, 78, 43, 63, 55],\n",
              "       [93, 56, 78, 35, 31],\n",
              "       [ 2, 79, 52, 72, 18],\n",
              "       [21, 96, 42, 19, 75]])"
            ]
          },
          "metadata": {
            "tags": []
          },
          "execution_count": 25
        }
      ]
    },
    {
      "cell_type": "code",
      "metadata": {
        "id": "2cnc6hGPSVRO",
        "colab": {
          "base_uri": "https://localhost:8080/"
        },
        "outputId": "40cb8cc6-8c72-464b-a23e-f53bc830cdb5"
      },
      "source": [
        "print(\"Max of a location:\", M.argmax(axis= 1 ))\n",
        "print(\"Max of b location:\", b.argmax())\n",
        "print(\"Max of c location:\", b.argmax())"
      ],
      "execution_count": null,
      "outputs": [
        {
          "output_type": "stream",
          "text": [
            "Max of a location: [1 0 0 1 1]\n",
            "Max of b location: 20\n",
            "Max of c location: 20\n"
          ],
          "name": "stdout"
        }
      ]
    },
    {
      "cell_type": "markdown",
      "metadata": {
        "id": "W_9yYJPSSVRP"
      },
      "source": [
        "# Indexing and slicing"
      ]
    },
    {
      "cell_type": "code",
      "metadata": {
        "id": "pJqPuN59SVRP",
        "colab": {
          "base_uri": "https://localhost:8080/"
        },
        "outputId": "57f3a86f-e90f-482c-8aa7-48f8c7554221"
      },
      "source": [
        "arr = np.arange(0,11)\n",
        "print(\"Array:\",arr)\n"
      ],
      "execution_count": null,
      "outputs": [
        {
          "output_type": "stream",
          "text": [
            "Array: [ 0  1  2  3  4  5  6  7  8  9 10]\n"
          ],
          "name": "stdout"
        }
      ]
    },
    {
      "cell_type": "code",
      "metadata": {
        "id": "rJTooKWVSVRQ",
        "colab": {
          "base_uri": "https://localhost:8080/"
        },
        "outputId": "a56282a2-b20c-4dd0-a178-450e0e4dfa6e"
      },
      "source": [
        "print(\"Element at 7th index is:\", arr[7])\n"
      ],
      "execution_count": null,
      "outputs": [
        {
          "output_type": "stream",
          "text": [
            "Element at 7th index is: 7\n"
          ],
          "name": "stdout"
        }
      ]
    },
    {
      "cell_type": "code",
      "metadata": {
        "id": "nIMTN8CHSVRQ",
        "colab": {
          "base_uri": "https://localhost:8080/"
        },
        "outputId": "ab4c48e0-af1c-4637-e236-b3c54d90b264"
      },
      "source": [
        "print(\"Elements from 3rd to 5th index are:\", arr[3:6:2])\n"
      ],
      "execution_count": null,
      "outputs": [
        {
          "output_type": "stream",
          "text": [
            "Elements from 3rd to 5th index are: [3 5]\n"
          ],
          "name": "stdout"
        }
      ]
    },
    {
      "cell_type": "code",
      "metadata": {
        "id": "dMaUoEAMSVRQ",
        "colab": {
          "base_uri": "https://localhost:8080/"
        },
        "outputId": "7ecf6169-a1e3-449f-e6e4-080f3e9cfecf"
      },
      "source": [
        "print(\"Elements up to 4th index are:\", arr[:4])\n",
        "arr"
      ],
      "execution_count": null,
      "outputs": [
        {
          "output_type": "stream",
          "text": [
            "Elements up to 4th index are: [0 1 2 3]\n"
          ],
          "name": "stdout"
        },
        {
          "output_type": "execute_result",
          "data": {
            "text/plain": [
              "array([ 0,  1,  2,  3,  4,  5,  6,  7,  8,  9, 10])"
            ]
          },
          "metadata": {
            "tags": []
          },
          "execution_count": 31
        }
      ]
    },
    {
      "cell_type": "code",
      "metadata": {
        "id": "9ZqgcK5dSVRR",
        "colab": {
          "base_uri": "https://localhost:8080/"
        },
        "outputId": "72707816-2cb4-4098-ffb8-5f0d0a787e2f"
      },
      "source": [
        "print(\"Elements from last backwards are:\", arr[-1:7:-1])\n"
      ],
      "execution_count": null,
      "outputs": [
        {
          "output_type": "stream",
          "text": [
            "Elements from last backwards are: [10  9  8]\n"
          ],
          "name": "stdout"
        }
      ]
    },
    {
      "cell_type": "code",
      "metadata": {
        "id": "bOlpx7wSSVRR",
        "colab": {
          "base_uri": "https://localhost:8080/"
        },
        "outputId": "65def73d-fc9b-43d3-feaf-83318ab72bd0"
      },
      "source": [
        "print(\"3 Elements from last backwards are:\", arr[-1:-5:2])\n"
      ],
      "execution_count": null,
      "outputs": [
        {
          "output_type": "stream",
          "text": [
            "3 Elements from last backwards are: []\n"
          ],
          "name": "stdout"
        }
      ]
    },
    {
      "cell_type": "code",
      "metadata": {
        "id": "ea2YZ5tnSVRS",
        "colab": {
          "base_uri": "https://localhost:8080/"
        },
        "outputId": "75c41d3f-8723-41b6-dda0-6af4f1066a68"
      },
      "source": [
        "arr = np.arange(0,21,2)\n",
        "print(\"New array:\",arr)\n"
      ],
      "execution_count": null,
      "outputs": [
        {
          "output_type": "stream",
          "text": [
            "New array: [ 0  2  4  6  8 10 12 14 16 18 20]\n"
          ],
          "name": "stdout"
        }
      ]
    },
    {
      "cell_type": "code",
      "metadata": {
        "id": "94uVcwRBSVRS",
        "colab": {
          "base_uri": "https://localhost:8080/"
        },
        "outputId": "1f13ef65-e0ea-4c9a-fac6-f75b97b9d46c"
      },
      "source": [
        "print(\"Elements at 2nd, 4th, and 9th index are:\", arr[[2,4,9]]) # Pass a list as a index to subset"
      ],
      "execution_count": null,
      "outputs": [
        {
          "output_type": "stream",
          "text": [
            "Elements at 2nd, 4th, and 9th index are: [ 4  8 18]\n"
          ],
          "name": "stdout"
        }
      ]
    },
    {
      "cell_type": "code",
      "metadata": {
        "id": "_NvpmM3FSVRS",
        "colab": {
          "base_uri": "https://localhost:8080/"
        },
        "outputId": "cfc83249-61fd-4ece-9af5-f128c7997cd9"
      },
      "source": [
        "import numpy as np \n",
        "mat = np.array(ri(10,100,45)).reshape(3,5,3)\n",
        "print(\"Matrix of random 2-digit numbers\\n--------------------------------\\n\",mat)\n",
        "mat[1:4,3:5]\n",
        "mat[0:3,[1,3]]"
      ],
      "execution_count": null,
      "outputs": [
        {
          "output_type": "stream",
          "text": [
            "Matrix of random 2-digit numbers\n",
            "--------------------------------\n",
            " [[[79 17 30]\n",
            "  [18 72 29]\n",
            "  [62 35 63]\n",
            "  [71 66 81]\n",
            "  [97 19 18]]\n",
            "\n",
            " [[65 96 35]\n",
            "  [89 60 84]\n",
            "  [41 10 45]\n",
            "  [60 96 54]\n",
            "  [94 98 27]]\n",
            "\n",
            " [[95 39 45]\n",
            "  [55 96 36]\n",
            "  [98 52 70]\n",
            "  [78 66 29]\n",
            "  [63 15 83]]]\n"
          ],
          "name": "stdout"
        },
        {
          "output_type": "execute_result",
          "data": {
            "text/plain": [
              "array([[[18, 72, 29],\n",
              "        [71, 66, 81]],\n",
              "\n",
              "       [[89, 60, 84],\n",
              "        [60, 96, 54]],\n",
              "\n",
              "       [[55, 96, 36],\n",
              "        [78, 66, 29]]])"
            ]
          },
          "metadata": {
            "tags": []
          },
          "execution_count": 43
        }
      ]
    },
    {
      "cell_type": "code",
      "metadata": {
        "colab": {
          "base_uri": "https://localhost:8080/"
        },
        "id": "Zn20kjLCdg_B",
        "outputId": "fb955e2e-3aeb-4915-c734-c8284d943ae6"
      },
      "source": [
        "mat[0][0][1]"
      ],
      "execution_count": null,
      "outputs": [
        {
          "output_type": "execute_result",
          "data": {
            "text/plain": [
              "17"
            ]
          },
          "metadata": {
            "tags": []
          },
          "execution_count": 60
        }
      ]
    },
    {
      "cell_type": "code",
      "metadata": {
        "colab": {
          "base_uri": "https://localhost:8080/"
        },
        "id": "s2ro3yvqcFc8",
        "outputId": "fb9a54be-108b-4ac4-d9e9-9d9947fce1b4"
      },
      "source": [
        "for i in range(5):\n",
        "  print(mat[0][i][1])"
      ],
      "execution_count": null,
      "outputs": [
        {
          "output_type": "stream",
          "text": [
            "17\n",
            "72\n",
            "35\n",
            "66\n",
            "19\n"
          ],
          "name": "stdout"
        }
      ]
    },
    {
      "cell_type": "code",
      "metadata": {
        "colab": {
          "base_uri": "https://localhost:8080/"
        },
        "id": "QZCJzJHaeZ8t",
        "outputId": "8fb55b0a-68c3-4940-b4e9-e5ea091341e4"
      },
      "source": [
        "mat[0:3,0:2]"
      ],
      "execution_count": null,
      "outputs": [
        {
          "output_type": "execute_result",
          "data": {
            "text/plain": [
              "array([[[79, 17, 30],\n",
              "        [18, 72, 29]],\n",
              "\n",
              "       [[65, 96, 35],\n",
              "        [89, 60, 84]],\n",
              "\n",
              "       [[95, 39, 45],\n",
              "        [55, 96, 36]]])"
            ]
          },
          "metadata": {
            "tags": []
          },
          "execution_count": 67
        }
      ]
    },
    {
      "cell_type": "code",
      "metadata": {
        "id": "oKG0xAJ3SVRT",
        "colab": {
          "base_uri": "https://localhost:8080/"
        },
        "outputId": "36077427-bde1-4cc9-c6c0-c34b333c4b16"
      },
      "source": [
        "mat[0:3,[1,3]]"
      ],
      "execution_count": null,
      "outputs": [
        {
          "output_type": "execute_result",
          "data": {
            "text/plain": [
              "array([[[18, 72, 29],\n",
              "        [71, 66, 81]],\n",
              "\n",
              "       [[89, 60, 84],\n",
              "        [60, 96, 54]],\n",
              "\n",
              "       [[55, 96, 36],\n",
              "        [78, 66, 29]]])"
            ]
          },
          "metadata": {
            "tags": []
          },
          "execution_count": 69
        }
      ]
    },
    {
      "cell_type": "code",
      "metadata": {
        "id": "NHTbe1weSVRT",
        "colab": {
          "base_uri": "https://localhost:8080/"
        },
        "outputId": "dfa80ada-2923-4c64-b3c8-b53016126161"
      },
      "source": [
        "print(\"\\nDouble bracket indexing\\n------------------------\")\n",
        "print(\"Element in row index 1 and column index 2:\", mat[1][1])\n",
        "mat"
      ],
      "execution_count": null,
      "outputs": [
        {
          "output_type": "stream",
          "text": [
            "\n",
            "Double bracket indexing\n",
            "------------------------\n",
            "Element in row index 1 and column index 2: [89 60 84]\n"
          ],
          "name": "stdout"
        },
        {
          "output_type": "execute_result",
          "data": {
            "text/plain": [
              "array([[[79, 17, 30],\n",
              "        [18, 72, 29],\n",
              "        [62, 35, 63],\n",
              "        [71, 66, 81],\n",
              "        [97, 19, 18]],\n",
              "\n",
              "       [[65, 96, 35],\n",
              "        [89, 60, 84],\n",
              "        [41, 10, 45],\n",
              "        [60, 96, 54],\n",
              "        [94, 98, 27]],\n",
              "\n",
              "       [[95, 39, 45],\n",
              "        [55, 96, 36],\n",
              "        [98, 52, 70],\n",
              "        [78, 66, 29],\n",
              "        [63, 15, 83]]])"
            ]
          },
          "metadata": {
            "tags": []
          },
          "execution_count": 70
        }
      ]
    },
    {
      "cell_type": "code",
      "metadata": {
        "id": "bTkdCOdVSVRU",
        "colab": {
          "base_uri": "https://localhost:8080/"
        },
        "outputId": "f96c2904-20be-4bb7-b30a-e87cdf256c7d"
      },
      "source": [
        "print(\"\\nSingle bracket with comma indexing\\n----------------------------------\")\n",
        "print(\"Element in row index 1 and column index 2:\", mat[1,2])\n",
        "print(\"\\nRow or column extract\\n----------------------\")\n"
      ],
      "execution_count": null,
      "outputs": [
        {
          "output_type": "stream",
          "text": [
            "\n",
            "Single bracket with comma indexing\n",
            "----------------------------------\n",
            "Element in row index 1 and column index 2: [41 10 45]\n",
            "\n",
            "Row or column extract\n",
            "----------------------\n"
          ],
          "name": "stdout"
        }
      ]
    },
    {
      "cell_type": "code",
      "metadata": {
        "id": "gdrjNTzfSVRU",
        "colab": {
          "base_uri": "https://localhost:8080/"
        },
        "outputId": "ce62fe97-3398-4895-d97f-871dea43b8d5"
      },
      "source": [
        "print(\"Entire row at index 2:\", mat[2])\n",
        "print(\"Entire column at index 3:\", mat[:,3])\n"
      ],
      "execution_count": null,
      "outputs": [
        {
          "output_type": "stream",
          "text": [
            "Entire row at index 2: [[95 39 45]\n",
            " [55 96 36]\n",
            " [98 52 70]\n",
            " [78 66 29]\n",
            " [63 15 83]]\n",
            "Entire column at index 3: [[71 66 81]\n",
            " [60 96 54]\n",
            " [78 66 29]]\n"
          ],
          "name": "stdout"
        }
      ]
    },
    {
      "cell_type": "code",
      "metadata": {
        "id": "P86cn1vmSVRV",
        "colab": {
          "base_uri": "https://localhost:8080/"
        },
        "outputId": "41b4b0be-0f52-4e3e-80dc-381cc8f8b13d"
      },
      "source": [
        "print(\"\\nSubsetting sub-matrices\\n--------------------------\")\n",
        "print(\"Matrix with row indices 1 and 2 and column indices 3 and 4\\n\", mat[1:3,3:5])\n"
      ],
      "execution_count": null,
      "outputs": [
        {
          "output_type": "stream",
          "text": [
            "\n",
            "Subsetting sub-matrices\n",
            "--------------------------\n",
            "Matrix with row indices 1 and 2 and column indices 3 and 4\n",
            " [[[60 96 54]\n",
            "  [94 98 27]]\n",
            "\n",
            " [[78 66 29]\n",
            "  [63 15 83]]]\n"
          ],
          "name": "stdout"
        }
      ]
    },
    {
      "cell_type": "code",
      "metadata": {
        "id": "LMuWnzX0SVRV",
        "colab": {
          "base_uri": "https://localhost:8080/"
        },
        "outputId": "96d95992-1711-4ed8-f5bc-7a7bdeb58152"
      },
      "source": [
        "print(\"Matrix with row indices 0 and 1 and column indices 1 and 3\\n\", mat[0:2,[1,3]])"
      ],
      "execution_count": null,
      "outputs": [
        {
          "output_type": "stream",
          "text": [
            "Matrix with row indices 0 and 1 and column indices 1 and 3\n",
            " [[[18 72 29]\n",
            "  [71 66 81]]\n",
            "\n",
            " [[89 60 84]\n",
            "  [60 96 54]]]\n"
          ],
          "name": "stdout"
        }
      ]
    },
    {
      "cell_type": "markdown",
      "metadata": {
        "id": "aHgn9LzsSVRV"
      },
      "source": [
        "# Subseting"
      ]
    },
    {
      "cell_type": "code",
      "metadata": {
        "id": "ugM_QbgGSVRW",
        "colab": {
          "base_uri": "https://localhost:8080/"
        },
        "outputId": "704bf7ff-3a9b-4034-902b-fbfa423431f6"
      },
      "source": [
        "mat = np.array(ri(10,100,15)).reshape(3,5)\n",
        "print(\"Matrix of random 2-digit numbers\\n--------------------------------\\n\",mat)\n",
        "mat>50"
      ],
      "execution_count": null,
      "outputs": [
        {
          "output_type": "stream",
          "text": [
            "Matrix of random 2-digit numbers\n",
            "--------------------------------\n",
            " [[11 76 63 35 15]\n",
            " [20 72 75 54 93]\n",
            " [48 51 89 84 58]]\n"
          ],
          "name": "stdout"
        },
        {
          "output_type": "execute_result",
          "data": {
            "text/plain": [
              "array([[False,  True,  True, False, False],\n",
              "       [False,  True,  True,  True,  True],\n",
              "       [False,  True,  True,  True,  True]])"
            ]
          },
          "metadata": {
            "tags": []
          },
          "execution_count": 75
        }
      ]
    },
    {
      "cell_type": "code",
      "metadata": {
        "id": "2920orYdSVRX"
      },
      "source": [
        "print (\"Elements greater than 50\\n\", mat[mat>50])"
      ],
      "execution_count": null,
      "outputs": []
    },
    {
      "cell_type": "markdown",
      "metadata": {
        "id": "QV9HBWVnSVRX"
      },
      "source": [
        "# Slicing"
      ]
    },
    {
      "cell_type": "code",
      "metadata": {
        "id": "FBnA7GIVSVRX"
      },
      "source": [
        "mat = np.array([[11,12,13],[21,22,23],[31,32,33]])\n",
        "print(\"Original matrix\")\n",
        "print(mat)\n"
      ],
      "execution_count": null,
      "outputs": []
    },
    {
      "cell_type": "code",
      "metadata": {
        "id": "Yvxsg57_SVRY"
      },
      "source": [
        "mat_slice = mat[:2,:2]\n",
        "print (\"\\nSliced matrix\")\n",
        "print(mat_slice)\n",
        "print (\"\\nChange the sliced matrix\")"
      ],
      "execution_count": null,
      "outputs": []
    },
    {
      "cell_type": "code",
      "metadata": {
        "id": "5XMvjW7BSVRZ"
      },
      "source": [
        "mat_slice[0,0] = 1000\n",
        "print (mat_slice)"
      ],
      "execution_count": null,
      "outputs": []
    },
    {
      "cell_type": "code",
      "metadata": {
        "id": "4qQRBQE3SVRZ"
      },
      "source": [
        "print(\"\\nBut the original matrix? WHOA! It got changed too!\")\n",
        "print(mat)\n"
      ],
      "execution_count": null,
      "outputs": []
    },
    {
      "cell_type": "code",
      "metadata": {
        "id": "ic2gxH6-SVRa"
      },
      "source": [
        "# Little different way to create a copy of the slixed matrix\n",
        "print (\"\\nDoing it again little differently now...\\n\")\n",
        "mat = np.array([[11,12,13],[21,22,23],[31,32,33]])\n",
        "print(\"Original matrix\")\n",
        "print(mat)\n"
      ],
      "execution_count": null,
      "outputs": []
    },
    {
      "cell_type": "code",
      "metadata": {
        "id": "5d9tBR4YSVRa"
      },
      "source": [
        "mat_slice = np.array(mat[:2,:2]) # Notice the np.array command to create a new array not just slicing\n",
        "print (\"\\nSliced matrix\")\n",
        "print(mat_slice)\n"
      ],
      "execution_count": null,
      "outputs": []
    },
    {
      "cell_type": "code",
      "metadata": {
        "id": "2d4j-yBgSVRa"
      },
      "source": [
        "print (\"\\nChange the sliced matrix\")\n",
        "mat_slice[0,0] = 1000\n",
        "print (mat_slice)\n"
      ],
      "execution_count": null,
      "outputs": []
    },
    {
      "cell_type": "code",
      "metadata": {
        "id": "DpIA187dSVRb"
      },
      "source": [
        "print(\"\\nBut the original matrix? NO CHANGE this time:)\")\n",
        "print(mat)"
      ],
      "execution_count": null,
      "outputs": []
    },
    {
      "cell_type": "markdown",
      "metadata": {
        "id": "3KJSN3WDSVRb"
      },
      "source": [
        "# Universal Functions"
      ]
    },
    {
      "cell_type": "code",
      "metadata": {
        "id": "9wsI-zrxSVRc",
        "colab": {
          "base_uri": "https://localhost:8080/"
        },
        "outputId": "0c9071b4-3ddf-4523-8df0-ecc534c06fbc"
      },
      "source": [
        "mat1 = np.array(ri(1,10,9)).reshape(3,3)\n",
        "mat2 = np.array(ri(1,10,9)).reshape(3,3)\n",
        "print(\"\\n1st Matrix of random single-digit numbers\\n----------------------------------------\\n\",mat1)\n",
        "print(\"\\n2nd Matrix of random single-digit numbers\\n----------------------------------------\\n\",mat2)\n"
      ],
      "execution_count": null,
      "outputs": [
        {
          "output_type": "stream",
          "text": [
            "\n",
            "1st Matrix of random single-digit numbers\n",
            "----------------------------------------\n",
            " [[8 4 3]\n",
            " [9 5 1]\n",
            " [6 8 5]]\n",
            "\n",
            "2nd Matrix of random single-digit numbers\n",
            "----------------------------------------\n",
            " [[9 7 8]\n",
            " [1 3 8]\n",
            " [8 2 7]]\n"
          ],
          "name": "stdout"
        }
      ]
    },
    {
      "cell_type": "code",
      "metadata": {
        "id": "DwtAMAtFSVRd",
        "colab": {
          "base_uri": "https://localhost:8080/"
        },
        "outputId": "1f7195a4-d65a-4d4f-dfa6-2dad8af9baba"
      },
      "source": [
        "mat1*mat2"
      ],
      "execution_count": null,
      "outputs": [
        {
          "output_type": "execute_result",
          "data": {
            "text/plain": [
              "array([[72, 28, 24],\n",
              "       [ 9, 15,  8],\n",
              "       [48, 16, 35]])"
            ]
          },
          "metadata": {
            "tags": []
          },
          "execution_count": 79
        }
      ]
    },
    {
      "cell_type": "code",
      "metadata": {
        "id": "V9ustaw4SVRe",
        "colab": {
          "base_uri": "https://localhost:8080/"
        },
        "outputId": "6887bd1e-ff59-4f09-8b9a-5ea1dc46f56b"
      },
      "source": [
        "mat1@mat2"
      ],
      "execution_count": null,
      "outputs": [
        {
          "output_type": "execute_result",
          "data": {
            "text/plain": [
              "array([[100,  74, 117],\n",
              "       [ 94,  80, 119],\n",
              "       [102,  76, 147]])"
            ]
          },
          "metadata": {
            "tags": []
          },
          "execution_count": 80
        }
      ]
    },
    {
      "cell_type": "code",
      "metadata": {
        "id": "ulMtbTjLSVRe",
        "colab": {
          "base_uri": "https://localhost:8080/"
        },
        "outputId": "b46556ec-f1e9-4a6a-b4b9-3476b45b5074"
      },
      "source": [
        "#print(\"\\nAddition\\n------------------\\n\", mat1+mat2)\n",
        "print(\"\\nMultiplication\\n------------------\\n\", mat1@mat2)\n"
      ],
      "execution_count": null,
      "outputs": [
        {
          "output_type": "stream",
          "text": [
            "\n",
            "Multiplication\n",
            "------------------\n",
            " [[100  74 117]\n",
            " [ 94  80 119]\n",
            " [102  76 147]]\n"
          ],
          "name": "stdout"
        }
      ]
    },
    {
      "cell_type": "code",
      "metadata": {
        "id": "fJ9bhe5rSVRe",
        "colab": {
          "base_uri": "https://localhost:8080/"
        },
        "outputId": "c92ea97e-59aa-4b55-8026-eb799cc55a8c"
      },
      "source": [
        "print(\"\\nDivision\\n------------------\\n\", mat1/0)\n",
        "#print(\"\\nLineaer combination: 3*A - 2*B\\n-----------------------------\\n\", 3*mat1-2*mat2)\n"
      ],
      "execution_count": null,
      "outputs": [
        {
          "output_type": "stream",
          "text": [
            "\n",
            "Division\n",
            "------------------\n",
            " [[inf inf inf]\n",
            " [inf inf inf]\n",
            " [inf inf inf]]\n"
          ],
          "name": "stdout"
        },
        {
          "output_type": "stream",
          "text": [
            "/usr/local/lib/python3.7/dist-packages/ipykernel_launcher.py:1: RuntimeWarning: divide by zero encountered in true_divide\n",
            "  \"\"\"Entry point for launching an IPython kernel.\n"
          ],
          "name": "stderr"
        }
      ]
    },
    {
      "cell_type": "code",
      "metadata": {
        "id": "_bMkG3CNSVRf",
        "colab": {
          "base_uri": "https://localhost:8080/"
        },
        "outputId": "253996e2-b1ef-43ee-ece5-61295a60c992"
      },
      "source": [
        "print(\"\\nAddition of a scalar (100)\\n-------------------------\\n\", 100+mat1)\n"
      ],
      "execution_count": null,
      "outputs": [
        {
          "output_type": "stream",
          "text": [
            "\n",
            "Addition of a scalar (100)\n",
            "-------------------------\n",
            " [[108 104 103]\n",
            " [109 105 101]\n",
            " [106 108 105]]\n"
          ],
          "name": "stdout"
        }
      ]
    },
    {
      "cell_type": "code",
      "metadata": {
        "id": "Zf30C4tDSVRf",
        "colab": {
          "base_uri": "https://localhost:8080/"
        },
        "outputId": "576880c6-47c6-45fd-f533-2e183f921779"
      },
      "source": [
        "print(\"\\nExponentiation, matrix cubed here\\n----------------------------------------\\n\", mat1**3)\n",
        "print(\"\\nExponentiation, sq-root using pow function\\n-------------------------------------------\\n\",pow(mat1,3))"
      ],
      "execution_count": null,
      "outputs": [
        {
          "output_type": "stream",
          "text": [
            "\n",
            "Exponentiation, matrix cubed here\n",
            "----------------------------------------\n",
            " [[512  64  27]\n",
            " [729 125   1]\n",
            " [216 512 125]]\n",
            "\n",
            "Exponentiation, sq-root using pow function\n",
            "-------------------------------------------\n",
            " [[512  64  27]\n",
            " [729 125   1]\n",
            " [216 512 125]]\n"
          ],
          "name": "stdout"
        }
      ]
    },
    {
      "cell_type": "markdown",
      "metadata": {
        "id": "DRmCd5iISVRg"
      },
      "source": [
        "# Broadcasting"
      ]
    },
    {
      "cell_type": "code",
      "metadata": {
        "collapsed": true,
        "id": "xOzFdJfLSVRg"
      },
      "source": [
        "#NumPy operations are usually done on pairs of arrays on an element-by-element basis. \n",
        "#In the simplest case, the two arrays must have exactly the same shape.\n",
        "#NumPy’s broadcasting rule relaxes this constraint when the arrays’ shapes meet certain constraints. \n",
        "#When operating on two arrays, NumPy compares their shapes element-wise. It starts with the trailing \n",
        "#dimensions, and works its way forward. Two dimensions are compatible when\n",
        "#they are equal, or one of them is 1"
      ],
      "execution_count": null,
      "outputs": []
    },
    {
      "cell_type": "code",
      "metadata": {
        "id": "5odw_0KdSVRh",
        "colab": {
          "base_uri": "https://localhost:8080/"
        },
        "outputId": "6e402d3c-64b8-48b9-a2d7-474743425cba"
      },
      "source": [
        "start = np.zeros((4,4))\n",
        "start= start+100\n",
        "start"
      ],
      "execution_count": null,
      "outputs": [
        {
          "output_type": "execute_result",
          "data": {
            "text/plain": [
              "array([[100., 100., 100., 100.],\n",
              "       [100., 100., 100., 100.],\n",
              "       [100., 100., 100., 100.],\n",
              "       [100., 100., 100., 100.]])"
            ]
          },
          "metadata": {
            "tags": []
          },
          "execution_count": 85
        }
      ]
    },
    {
      "cell_type": "code",
      "metadata": {
        "id": "kefQUrECSVRh",
        "colab": {
          "base_uri": "https://localhost:8080/"
        },
        "outputId": "b4522eb3-4724-4039-abc9-3a99e1f24cdd"
      },
      "source": [
        "# create a rank 1 ndarray with 3 values\n",
        "add_rows = np.array([1, 0, 2,5])\n",
        "print(add_rows)"
      ],
      "execution_count": null,
      "outputs": [
        {
          "output_type": "stream",
          "text": [
            "[1 0 2 5]\n"
          ],
          "name": "stdout"
        }
      ]
    },
    {
      "cell_type": "code",
      "metadata": {
        "id": "Xj_gHKoRSVRi",
        "colab": {
          "base_uri": "https://localhost:8080/"
        },
        "outputId": "3ad5253f-9932-4709-ea52-0bbd7283032d"
      },
      "source": [
        "y = start + add_rows  # add to each row of 'start' using broadcasting\n",
        "print(y)"
      ],
      "execution_count": null,
      "outputs": [
        {
          "output_type": "stream",
          "text": [
            "[[101. 100. 102. 105.]\n",
            " [101. 100. 102. 105.]\n",
            " [101. 100. 102. 105.]\n",
            " [101. 100. 102. 105.]]\n"
          ],
          "name": "stdout"
        }
      ]
    },
    {
      "cell_type": "code",
      "metadata": {
        "id": "NzHzDZLaSVRi",
        "colab": {
          "base_uri": "https://localhost:8080/"
        },
        "outputId": "bcda2910-a301-4c89-9ea3-5b2a7cd0cf69"
      },
      "source": [
        "# create an ndarray which is 4 x 1 to broadcast across columns\n",
        "add_cols = np.array([[0,1,2,3]])\n",
        "add_cols = add_cols.T\n",
        "print(add_cols)"
      ],
      "execution_count": null,
      "outputs": [
        {
          "output_type": "stream",
          "text": [
            "[[0]\n",
            " [1]\n",
            " [2]\n",
            " [3]]\n"
          ],
          "name": "stdout"
        }
      ]
    },
    {
      "cell_type": "code",
      "metadata": {
        "id": "ots4o3T2SVRj",
        "colab": {
          "base_uri": "https://localhost:8080/"
        },
        "outputId": "0df9648f-0064-4b11-c6de-ac720e61699b"
      },
      "source": [
        "# add to each column of 'start' using broadcasting\n",
        "y = start + add_cols \n",
        "print(y)"
      ],
      "execution_count": null,
      "outputs": [
        {
          "output_type": "stream",
          "text": [
            "[[100. 100. 100. 100.]\n",
            " [101. 101. 101. 101.]\n",
            " [102. 102. 102. 102.]\n",
            " [103. 103. 103. 103.]]\n"
          ],
          "name": "stdout"
        }
      ]
    },
    {
      "cell_type": "code",
      "metadata": {
        "id": "kpfu8xbnSVRj",
        "colab": {
          "base_uri": "https://localhost:8080/"
        },
        "outputId": "d5cea122-dbba-4438-98fd-aa4286cc1296"
      },
      "source": [
        "# this will just broadcast in both dimensions\n",
        "add_scalar = np.array([100])  \n",
        "print(start+y)"
      ],
      "execution_count": null,
      "outputs": [
        {
          "output_type": "stream",
          "text": [
            "[[200. 200. 200. 200.]\n",
            " [201. 201. 201. 201.]\n",
            " [202. 202. 202. 202.]\n",
            " [203. 203. 203. 203.]]\n"
          ],
          "name": "stdout"
        }
      ]
    },
    {
      "cell_type": "markdown",
      "metadata": {
        "id": "1w5vXDL5SVRk"
      },
      "source": [
        "# Array Math"
      ]
    },
    {
      "cell_type": "code",
      "metadata": {
        "id": "5SjTeciSSVRk",
        "colab": {
          "base_uri": "https://localhost:8080/"
        },
        "outputId": "7134fcc8-c970-4efc-f047-9918cf3f4e59"
      },
      "source": [
        "mat1 = np.array(ri(1,10,9)).reshape(3,3)\n",
        "mat2 = np.array(ri(1,10,9)).reshape(3,3)\n",
        "print(\"\\n1st Matrix of random single-digit numbers\\n\\n\",mat1)\n",
        "print(\"\\n2nd Matrix of random single-digit numbers\\n------------\\n\",mat2)\n"
      ],
      "execution_count": null,
      "outputs": [
        {
          "output_type": "stream",
          "text": [
            "\n",
            "1st Matrix of random single-digit numbers\n",
            "\n",
            " [[4 1 8]\n",
            " [1 7 7]\n",
            " [7 3 1]]\n",
            "\n",
            "2nd Matrix of random single-digit numbers\n",
            "------------\n",
            " [[1 4 5]\n",
            " [8 2 8]\n",
            " [2 5 7]]\n"
          ],
          "name": "stdout"
        }
      ]
    },
    {
      "cell_type": "code",
      "metadata": {
        "id": "Ef06D7z6SVRk",
        "colab": {
          "base_uri": "https://localhost:8080/"
        },
        "outputId": "d95f0508-02e1-49aa-8522-7d7cff0a768f"
      },
      "source": [
        "print(\"\\nSq-root of 1st matrix using np\\n------------------\\n\", np.sqrt(mat1))\n"
      ],
      "execution_count": null,
      "outputs": [
        {
          "output_type": "stream",
          "text": [
            "\n",
            "Sq-root of 1st matrix using np\n",
            "------------------\n",
            " [[2.         1.         2.82842712]\n",
            " [1.         2.64575131 2.64575131]\n",
            " [2.64575131 1.73205081 1.        ]]\n"
          ],
          "name": "stdout"
        }
      ]
    },
    {
      "cell_type": "code",
      "metadata": {
        "id": "6kufYNoPSVRl",
        "colab": {
          "base_uri": "https://localhost:8080/"
        },
        "outputId": "5623a043-47ab-47b7-ebd7-38f258749aa4"
      },
      "source": [
        "print(\"\\nExponential power of 1st matrix using np\\n\",'-'*50,\"\\n\", np.exp(mat1))\n"
      ],
      "execution_count": null,
      "outputs": [
        {
          "output_type": "stream",
          "text": [
            "\n",
            "Exponential power of 1st matrix using np\n",
            " -------------------------------------------------- \n",
            " [[5.45981500e+01 2.71828183e+00 2.98095799e+03]\n",
            " [2.71828183e+00 1.09663316e+03 1.09663316e+03]\n",
            " [1.09663316e+03 2.00855369e+01 2.71828183e+00]]\n"
          ],
          "name": "stdout"
        }
      ]
    },
    {
      "cell_type": "code",
      "metadata": {
        "id": "jPULOqmOSVRl",
        "colab": {
          "base_uri": "https://localhost:8080/"
        },
        "outputId": "a70add88-eab9-42a1-b2e8-b97e9172ee0f"
      },
      "source": [
        "print(\"\\n10-base logarithm on 1st matrix using np\\n\",'-'*50,\"\\n\", np.log10(mat1))\n",
        "print(mat1)\n",
        "print(mat2)"
      ],
      "execution_count": null,
      "outputs": [
        {
          "output_type": "stream",
          "text": [
            "\n",
            "10-base logarithm on 1st matrix using np\n",
            " -------------------------------------------------- \n",
            " [[0.60205999 0.         0.90308999]\n",
            " [0.         0.84509804 0.84509804]\n",
            " [0.84509804 0.47712125 0.        ]]\n",
            "[[4 1 8]\n",
            " [1 7 7]\n",
            " [7 3 1]]\n",
            "[[1 4 5]\n",
            " [8 2 8]\n",
            " [2 5 7]]\n"
          ],
          "name": "stdout"
        }
      ]
    },
    {
      "cell_type": "code",
      "metadata": {
        "id": "Ad5n-E8YSVRm",
        "colab": {
          "base_uri": "https://localhost:8080/"
        },
        "outputId": "618bfce8-4717-4b87-f483-daa18631b796"
      },
      "source": [
        "print(\"\\nModulo reminder using np\\n\",'-'*50,\"\\n\", np.fmod(mat1,mat2))\n",
        "mat1%mat2"
      ],
      "execution_count": null,
      "outputs": [
        {
          "output_type": "stream",
          "text": [
            "\n",
            "Modulo reminder using np\n",
            " -------------------------------------------------- \n",
            " [[0 1 3]\n",
            " [1 1 7]\n",
            " [1 3 1]]\n"
          ],
          "name": "stdout"
        },
        {
          "output_type": "execute_result",
          "data": {
            "text/plain": [
              "array([[0, 1, 3],\n",
              "       [1, 1, 7],\n",
              "       [1, 3, 1]])"
            ]
          },
          "metadata": {
            "tags": []
          },
          "execution_count": 95
        }
      ]
    },
    {
      "cell_type": "code",
      "metadata": {
        "id": "FShE0ezRSVRm",
        "colab": {
          "base_uri": "https://localhost:8080/"
        },
        "outputId": "581c8f2b-96ae-446c-c502-2fa200918364"
      },
      "source": [
        "print(\"\\nCombination of functions by shwoing exponetial decay of a sine wave\\n\",'-'*70)\n"
      ],
      "execution_count": null,
      "outputs": [
        {
          "output_type": "stream",
          "text": [
            "\n",
            "Combination of functions by shwoing exponetial decay of a sine wave\n",
            " ----------------------------------------------------------------------\n"
          ],
          "name": "stdout"
        }
      ]
    },
    {
      "cell_type": "code",
      "metadata": {
        "id": "TZ3u_SOPSVRn"
      },
      "source": [
        "A = np.linspace(0,12*np.pi,1001)\n"
      ],
      "execution_count": null,
      "outputs": []
    },
    {
      "cell_type": "code",
      "metadata": {
        "id": "yIsKeeDnSVRn",
        "colab": {
          "base_uri": "https://localhost:8080/"
        },
        "outputId": "6e88781f-2b58-4aed-adfe-c931879aa21c"
      },
      "source": [
        "A"
      ],
      "execution_count": null,
      "outputs": [
        {
          "output_type": "execute_result",
          "data": {
            "text/plain": [
              "array([ 0.        ,  0.03769911,  0.07539822, ..., 37.62371362,\n",
              "       37.66141273, 37.69911184])"
            ]
          },
          "metadata": {
            "tags": []
          },
          "execution_count": 98
        }
      ]
    },
    {
      "cell_type": "code",
      "metadata": {
        "id": "OnkFBZn7SVRo"
      },
      "source": [
        ""
      ],
      "execution_count": null,
      "outputs": []
    }
  ]
}