{
  "nbformat": 4,
  "nbformat_minor": 0,
  "metadata": {
    "kernelspec": {
      "display_name": "Python 3",
      "language": "python",
      "name": "python3"
    },
    "language_info": {
      "codemirror_mode": {
        "name": "ipython",
        "version": 3
      },
      "file_extension": ".py",
      "mimetype": "text/x-python",
      "name": "python",
      "nbconvert_exporter": "python",
      "pygments_lexer": "ipython3",
      "version": "3.7.4"
    },
    "colab": {
      "name": "Pandas 2 data manipulation class discussion notebook (1).ipynb",
      "provenance": [],
      "include_colab_link": true
    }
  },
  "cells": [
    {
      "cell_type": "markdown",
      "metadata": {
        "id": "view-in-github",
        "colab_type": "text"
      },
      "source": [
        "<a href=\"https://colab.research.google.com/github/KrishnaGande/Ineuron-Learning/blob/main/Pandas_2_data_manipulation_class_discussion_notebook_(1).ipynb\" target=\"_parent\"><img src=\"https://colab.research.google.com/assets/colab-badge.svg\" alt=\"Open In Colab\"/></a>"
      ]
    },
    {
      "cell_type": "code",
      "metadata": {
        "id": "rtl6wRlskwKB"
      },
      "source": [
        "import numpy as np\n",
        "import pandas as pd\n",
        "import os\n",
        "import matplotlib.pyplot as plt\n",
        "%matplotlib inline"
      ],
      "execution_count": null,
      "outputs": []
    },
    {
      "cell_type": "code",
      "metadata": {
        "scrolled": true,
        "id": "zZsYgRIckwK9",
        "outputId": "2b19f5c7-0591-4600-a563-fa3480fbe62e"
      },
      "source": [
        "df = pd.DataFrame({'A':[1,2,np.nan],'B':[5,np.nan,np.nan],'C':[1,2,3]})\n",
        "df['States']=\"CA NV AZ\".split()\n",
        "df.set_index('States',inplace=True)\n",
        "df"
      ],
      "execution_count": null,
      "outputs": [
        {
          "output_type": "execute_result",
          "data": {
            "text/html": [
              "<div>\n",
              "<style scoped>\n",
              "    .dataframe tbody tr th:only-of-type {\n",
              "        vertical-align: middle;\n",
              "    }\n",
              "\n",
              "    .dataframe tbody tr th {\n",
              "        vertical-align: top;\n",
              "    }\n",
              "\n",
              "    .dataframe thead th {\n",
              "        text-align: right;\n",
              "    }\n",
              "</style>\n",
              "<table border=\"1\" class=\"dataframe\">\n",
              "  <thead>\n",
              "    <tr style=\"text-align: right;\">\n",
              "      <th></th>\n",
              "      <th>A</th>\n",
              "      <th>B</th>\n",
              "      <th>C</th>\n",
              "    </tr>\n",
              "    <tr>\n",
              "      <th>States</th>\n",
              "      <th></th>\n",
              "      <th></th>\n",
              "      <th></th>\n",
              "    </tr>\n",
              "  </thead>\n",
              "  <tbody>\n",
              "    <tr>\n",
              "      <td>CA</td>\n",
              "      <td>1.0</td>\n",
              "      <td>5.0</td>\n",
              "      <td>1</td>\n",
              "    </tr>\n",
              "    <tr>\n",
              "      <td>NV</td>\n",
              "      <td>2.0</td>\n",
              "      <td>NaN</td>\n",
              "      <td>2</td>\n",
              "    </tr>\n",
              "    <tr>\n",
              "      <td>AZ</td>\n",
              "      <td>NaN</td>\n",
              "      <td>NaN</td>\n",
              "      <td>3</td>\n",
              "    </tr>\n",
              "  </tbody>\n",
              "</table>\n",
              "</div>"
            ],
            "text/plain": [
              "          A    B  C\n",
              "States             \n",
              "CA      1.0  5.0  1\n",
              "NV      2.0  NaN  2\n",
              "AZ      NaN  NaN  3"
            ]
          },
          "metadata": {
            "tags": []
          },
          "execution_count": 2
        }
      ]
    },
    {
      "cell_type": "code",
      "metadata": {
        "id": "BugOBA4kkwLA",
        "outputId": "568c835f-55e7-426d-ae1c-9f2e4b8ef260"
      },
      "source": [
        "df"
      ],
      "execution_count": null,
      "outputs": [
        {
          "output_type": "execute_result",
          "data": {
            "text/html": [
              "<div>\n",
              "<style scoped>\n",
              "    .dataframe tbody tr th:only-of-type {\n",
              "        vertical-align: middle;\n",
              "    }\n",
              "\n",
              "    .dataframe tbody tr th {\n",
              "        vertical-align: top;\n",
              "    }\n",
              "\n",
              "    .dataframe thead th {\n",
              "        text-align: right;\n",
              "    }\n",
              "</style>\n",
              "<table border=\"1\" class=\"dataframe\">\n",
              "  <thead>\n",
              "    <tr style=\"text-align: right;\">\n",
              "      <th></th>\n",
              "      <th>C</th>\n",
              "    </tr>\n",
              "    <tr>\n",
              "      <th>States</th>\n",
              "      <th></th>\n",
              "    </tr>\n",
              "  </thead>\n",
              "  <tbody>\n",
              "    <tr>\n",
              "      <td>CA</td>\n",
              "      <td>1</td>\n",
              "    </tr>\n",
              "    <tr>\n",
              "      <td>NV</td>\n",
              "      <td>2</td>\n",
              "    </tr>\n",
              "    <tr>\n",
              "      <td>AZ</td>\n",
              "      <td>3</td>\n",
              "    </tr>\n",
              "  </tbody>\n",
              "</table>\n",
              "</div>"
            ],
            "text/plain": [
              "        C\n",
              "States   \n",
              "CA      1\n",
              "NV      2\n",
              "AZ      3"
            ]
          },
          "metadata": {
            "tags": []
          },
          "execution_count": 15
        }
      ]
    },
    {
      "cell_type": "code",
      "metadata": {
        "id": "18EKVeB3kwLB"
      },
      "source": [
        "#Require that many non-NA values.\n",
        "df.dropna(thresh = 3,axis=1,inplace=True)"
      ],
      "execution_count": null,
      "outputs": []
    },
    {
      "cell_type": "code",
      "metadata": {
        "id": "hC50NLXXkwLC",
        "outputId": "67095344-edcb-42ea-d4f7-492c1462c7b7"
      },
      "source": [
        "print(\"\\nDropping any rows with a NaN value\\n\",'-'*35, sep='')\n",
        "print(df.dropna(axis=0))\n"
      ],
      "execution_count": null,
      "outputs": [
        {
          "output_type": "stream",
          "text": [
            "\n",
            "Dropping any rows with a NaN value\n",
            "-----------------------------------\n",
            "          A    B  C\n",
            "States             \n",
            "CA      1.0  5.0  1\n"
          ],
          "name": "stdout"
        }
      ]
    },
    {
      "cell_type": "code",
      "metadata": {
        "id": "yIcbWByIkwLD",
        "outputId": "d7b7649a-d589-44c4-b70d-075cf89805d8"
      },
      "source": [
        "print(\"\\nDropping any column with a NaN value\\n\",'-'*35, sep='')\n",
        "print(df.dropna(axis=1))\n"
      ],
      "execution_count": null,
      "outputs": [
        {
          "output_type": "stream",
          "text": [
            "\n",
            "Dropping any column with a NaN value\n",
            "-----------------------------------\n",
            "        C\n",
            "States   \n",
            "CA      1\n",
            "NV      2\n",
            "AZ      3\n"
          ],
          "name": "stdout"
        }
      ]
    },
    {
      "cell_type": "code",
      "metadata": {
        "id": "DuHMZGkZkwLE",
        "outputId": "bb98af0b-1d91-4d9b-ebec-4b6d4971a906"
      },
      "source": [
        "print(\"\\nDropping a row with a minimum 2 NaN value using 'thresh' parameter\\n\",'-'*68, sep='')\n",
        "print(df.dropna(axis=0, thresh=4))"
      ],
      "execution_count": null,
      "outputs": [
        {
          "output_type": "stream",
          "text": [
            "\n",
            "Dropping a row with a minimum 2 NaN value using 'thresh' parameter\n",
            "--------------------------------------------------------------------\n",
            "Empty DataFrame\n",
            "Columns: [A, B, C]\n",
            "Index: []\n"
          ],
          "name": "stdout"
        }
      ]
    },
    {
      "cell_type": "code",
      "metadata": {
        "id": "uU21pqk4kwLF",
        "outputId": "49c3da41-4a9e-4820-c5c6-97246528e8b9"
      },
      "source": [
        "df"
      ],
      "execution_count": null,
      "outputs": [
        {
          "output_type": "execute_result",
          "data": {
            "text/html": [
              "<div>\n",
              "<style scoped>\n",
              "    .dataframe tbody tr th:only-of-type {\n",
              "        vertical-align: middle;\n",
              "    }\n",
              "\n",
              "    .dataframe tbody tr th {\n",
              "        vertical-align: top;\n",
              "    }\n",
              "\n",
              "    .dataframe thead th {\n",
              "        text-align: right;\n",
              "    }\n",
              "</style>\n",
              "<table border=\"1\" class=\"dataframe\">\n",
              "  <thead>\n",
              "    <tr style=\"text-align: right;\">\n",
              "      <th></th>\n",
              "      <th>A</th>\n",
              "      <th>B</th>\n",
              "      <th>C</th>\n",
              "    </tr>\n",
              "    <tr>\n",
              "      <th>States</th>\n",
              "      <th></th>\n",
              "      <th></th>\n",
              "      <th></th>\n",
              "    </tr>\n",
              "  </thead>\n",
              "  <tbody>\n",
              "    <tr>\n",
              "      <td>CA</td>\n",
              "      <td>1.0</td>\n",
              "      <td>5.0</td>\n",
              "      <td>1</td>\n",
              "    </tr>\n",
              "    <tr>\n",
              "      <td>NV</td>\n",
              "      <td>2.0</td>\n",
              "      <td>NaN</td>\n",
              "      <td>2</td>\n",
              "    </tr>\n",
              "    <tr>\n",
              "      <td>AZ</td>\n",
              "      <td>NaN</td>\n",
              "      <td>NaN</td>\n",
              "      <td>3</td>\n",
              "    </tr>\n",
              "  </tbody>\n",
              "</table>\n",
              "</div>"
            ],
            "text/plain": [
              "          A    B  C\n",
              "States             \n",
              "CA      1.0  5.0  1\n",
              "NV      2.0  NaN  2\n",
              "AZ      NaN  NaN  3"
            ]
          },
          "metadata": {
            "tags": []
          },
          "execution_count": 3
        }
      ]
    },
    {
      "cell_type": "code",
      "metadata": {
        "id": "mtdbZEKQkwLG",
        "outputId": "05821cba-15fa-4e01-b06c-f74f3d8dc872"
      },
      "source": [
        "df.fillna(2)"
      ],
      "execution_count": null,
      "outputs": [
        {
          "output_type": "execute_result",
          "data": {
            "text/html": [
              "<div>\n",
              "<style scoped>\n",
              "    .dataframe tbody tr th:only-of-type {\n",
              "        vertical-align: middle;\n",
              "    }\n",
              "\n",
              "    .dataframe tbody tr th {\n",
              "        vertical-align: top;\n",
              "    }\n",
              "\n",
              "    .dataframe thead th {\n",
              "        text-align: right;\n",
              "    }\n",
              "</style>\n",
              "<table border=\"1\" class=\"dataframe\">\n",
              "  <thead>\n",
              "    <tr style=\"text-align: right;\">\n",
              "      <th></th>\n",
              "      <th>A</th>\n",
              "      <th>B</th>\n",
              "      <th>C</th>\n",
              "    </tr>\n",
              "    <tr>\n",
              "      <th>States</th>\n",
              "      <th></th>\n",
              "      <th></th>\n",
              "      <th></th>\n",
              "    </tr>\n",
              "  </thead>\n",
              "  <tbody>\n",
              "    <tr>\n",
              "      <td>CA</td>\n",
              "      <td>1.0</td>\n",
              "      <td>5.0</td>\n",
              "      <td>1</td>\n",
              "    </tr>\n",
              "    <tr>\n",
              "      <td>NV</td>\n",
              "      <td>2.0</td>\n",
              "      <td>2.0</td>\n",
              "      <td>2</td>\n",
              "    </tr>\n",
              "    <tr>\n",
              "      <td>AZ</td>\n",
              "      <td>2.0</td>\n",
              "      <td>2.0</td>\n",
              "      <td>3</td>\n",
              "    </tr>\n",
              "  </tbody>\n",
              "</table>\n",
              "</div>"
            ],
            "text/plain": [
              "          A    B  C\n",
              "States             \n",
              "CA      1.0  5.0  1\n",
              "NV      2.0  2.0  2\n",
              "AZ      2.0  2.0  3"
            ]
          },
          "metadata": {
            "tags": []
          },
          "execution_count": 5
        }
      ]
    },
    {
      "cell_type": "code",
      "metadata": {
        "id": "wAqz6YvSkwLH",
        "outputId": "58ef6b4d-c631-4f30-ba27-d6a3019f48ad"
      },
      "source": [
        "print(\"\\nFilling values with a default value\\n\",'-'*35, sep='')\n",
        "print(df.fillna(value='FILL VALUE'))\n"
      ],
      "execution_count": null,
      "outputs": [
        {
          "output_type": "stream",
          "text": [
            "\n",
            "Filling values with a default value\n",
            "-----------------------------------\n",
            "                 A           B  C\n",
            "States                           \n",
            "CA               1           5  1\n",
            "NV               2  FILL VALUE  2\n",
            "AZ      FILL VALUE  FILL VALUE  3\n"
          ],
          "name": "stdout"
        }
      ]
    },
    {
      "cell_type": "code",
      "metadata": {
        "id": "pSXWtAmWkwLH",
        "outputId": "bab0d3c4-7582-4404-a324-fdd2ac93c1b8"
      },
      "source": [
        "df.fillna(value=df['A'].mean())"
      ],
      "execution_count": null,
      "outputs": [
        {
          "output_type": "execute_result",
          "data": {
            "text/html": [
              "<div>\n",
              "<style scoped>\n",
              "    .dataframe tbody tr th:only-of-type {\n",
              "        vertical-align: middle;\n",
              "    }\n",
              "\n",
              "    .dataframe tbody tr th {\n",
              "        vertical-align: top;\n",
              "    }\n",
              "\n",
              "    .dataframe thead th {\n",
              "        text-align: right;\n",
              "    }\n",
              "</style>\n",
              "<table border=\"1\" class=\"dataframe\">\n",
              "  <thead>\n",
              "    <tr style=\"text-align: right;\">\n",
              "      <th></th>\n",
              "      <th>A</th>\n",
              "      <th>B</th>\n",
              "      <th>C</th>\n",
              "    </tr>\n",
              "    <tr>\n",
              "      <th>States</th>\n",
              "      <th></th>\n",
              "      <th></th>\n",
              "      <th></th>\n",
              "    </tr>\n",
              "  </thead>\n",
              "  <tbody>\n",
              "    <tr>\n",
              "      <td>CA</td>\n",
              "      <td>1.0</td>\n",
              "      <td>5.0</td>\n",
              "      <td>1</td>\n",
              "    </tr>\n",
              "    <tr>\n",
              "      <td>NV</td>\n",
              "      <td>2.0</td>\n",
              "      <td>1.5</td>\n",
              "      <td>2</td>\n",
              "    </tr>\n",
              "    <tr>\n",
              "      <td>AZ</td>\n",
              "      <td>1.5</td>\n",
              "      <td>1.5</td>\n",
              "      <td>3</td>\n",
              "    </tr>\n",
              "  </tbody>\n",
              "</table>\n",
              "</div>"
            ],
            "text/plain": [
              "          A    B  C\n",
              "States             \n",
              "CA      1.0  5.0  1\n",
              "NV      2.0  1.5  2\n",
              "AZ      1.5  1.5  3"
            ]
          },
          "metadata": {
            "tags": []
          },
          "execution_count": 6
        }
      ]
    },
    {
      "cell_type": "code",
      "metadata": {
        "id": "1KG4NgKFkwLI",
        "outputId": "0a9c809d-1761-4a4b-b446-4ab99ef0ea3e"
      },
      "source": [
        "print(\"\\nFilling values with a computed value (mean of column A here)\\n\",'-'*60, sep='')\n",
        "print(df.fillna(value=df['A'].mean()))"
      ],
      "execution_count": null,
      "outputs": [
        {
          "output_type": "stream",
          "text": [
            "\n",
            "Filling values with a computed value (mean of column A here)\n",
            "------------------------------------------------------------\n",
            "          A    B  C\n",
            "States             \n",
            "CA      1.0  5.0  1\n",
            "NV      2.0  1.5  2\n",
            "AZ      1.5  1.5  3\n"
          ],
          "name": "stdout"
        }
      ]
    },
    {
      "cell_type": "code",
      "metadata": {
        "id": "EcZgr7BxkwLJ",
        "outputId": "02ab9a6f-313a-4a2f-f23d-06cd8e54b9d7"
      },
      "source": [
        "# Create dataframe\n",
        "data = {'Company':['GOOG','GOOG','MSFT','MSFT','FB','FB'],\n",
        "       'Person':['Sam','Charlie','Amy','Vanessa','Carl','Sarah'],\n",
        "       'Sales':[200,120,340,124,243,350]}\n",
        "df = pd.DataFrame(data)\n",
        "df"
      ],
      "execution_count": null,
      "outputs": [
        {
          "output_type": "execute_result",
          "data": {
            "text/html": [
              "<div>\n",
              "<style scoped>\n",
              "    .dataframe tbody tr th:only-of-type {\n",
              "        vertical-align: middle;\n",
              "    }\n",
              "\n",
              "    .dataframe tbody tr th {\n",
              "        vertical-align: top;\n",
              "    }\n",
              "\n",
              "    .dataframe thead th {\n",
              "        text-align: right;\n",
              "    }\n",
              "</style>\n",
              "<table border=\"1\" class=\"dataframe\">\n",
              "  <thead>\n",
              "    <tr style=\"text-align: right;\">\n",
              "      <th></th>\n",
              "      <th>Company</th>\n",
              "      <th>Person</th>\n",
              "      <th>Sales</th>\n",
              "    </tr>\n",
              "  </thead>\n",
              "  <tbody>\n",
              "    <tr>\n",
              "      <td>0</td>\n",
              "      <td>GOOG</td>\n",
              "      <td>Sam</td>\n",
              "      <td>200</td>\n",
              "    </tr>\n",
              "    <tr>\n",
              "      <td>1</td>\n",
              "      <td>GOOG</td>\n",
              "      <td>Charlie</td>\n",
              "      <td>120</td>\n",
              "    </tr>\n",
              "    <tr>\n",
              "      <td>2</td>\n",
              "      <td>MSFT</td>\n",
              "      <td>Amy</td>\n",
              "      <td>340</td>\n",
              "    </tr>\n",
              "    <tr>\n",
              "      <td>3</td>\n",
              "      <td>MSFT</td>\n",
              "      <td>Vanessa</td>\n",
              "      <td>124</td>\n",
              "    </tr>\n",
              "    <tr>\n",
              "      <td>4</td>\n",
              "      <td>FB</td>\n",
              "      <td>Carl</td>\n",
              "      <td>243</td>\n",
              "    </tr>\n",
              "    <tr>\n",
              "      <td>5</td>\n",
              "      <td>FB</td>\n",
              "      <td>Sarah</td>\n",
              "      <td>350</td>\n",
              "    </tr>\n",
              "  </tbody>\n",
              "</table>\n",
              "</div>"
            ],
            "text/plain": [
              "  Company   Person  Sales\n",
              "0    GOOG      Sam    200\n",
              "1    GOOG  Charlie    120\n",
              "2    MSFT      Amy    340\n",
              "3    MSFT  Vanessa    124\n",
              "4      FB     Carl    243\n",
              "5      FB    Sarah    350"
            ]
          },
          "metadata": {
            "tags": []
          },
          "execution_count": 7
        }
      ]
    },
    {
      "cell_type": "code",
      "metadata": {
        "id": "_qgnpTh8kwLL",
        "outputId": "837fdb5e-3a32-43ca-cd7e-3115cd79b1a1"
      },
      "source": [
        "g = df.groupby('Company')\n",
        "g"
      ],
      "execution_count": null,
      "outputs": [
        {
          "output_type": "execute_result",
          "data": {
            "text/plain": [
              "<pandas.core.groupby.generic.DataFrameGroupBy object at 0x0000017560A27688>"
            ]
          },
          "metadata": {
            "tags": []
          },
          "execution_count": 11
        }
      ]
    },
    {
      "cell_type": "code",
      "metadata": {
        "id": "OZQke7t1kwLM",
        "outputId": "9ba8c1d3-b7a9-4e2e-9212-99cb0dfd8504"
      },
      "source": [
        "byComp = df.groupby('Company')\n",
        "print(\"\\nGrouping by 'Company' column and listing mean sales\\n\",'-'*55, sep='')\n",
        "print(byComp.mean())\n"
      ],
      "execution_count": null,
      "outputs": [
        {
          "output_type": "stream",
          "text": [
            "\n",
            "Grouping by 'Company' column and listing mean sales\n",
            "-------------------------------------------------------\n",
            "         Sales\n",
            "Company       \n",
            "FB       296.5\n",
            "GOOG     160.0\n",
            "MSFT     232.0\n"
          ],
          "name": "stdout"
        }
      ]
    },
    {
      "cell_type": "code",
      "metadata": {
        "id": "VpuSLoZ2kwLN",
        "outputId": "ea1e0a22-9fdd-4b91-9d6e-b281cc94df88"
      },
      "source": [
        "print(\"\\nGrouping by 'Company' column and listing sum of sales\\n\",'-'*55, sep='')\n",
        "print(byComp.sum())\n"
      ],
      "execution_count": null,
      "outputs": [
        {
          "output_type": "stream",
          "text": [
            "\n",
            "Grouping by 'Company' column and listing sum of sales\n",
            "-------------------------------------------------------\n",
            "         Sales\n",
            "Company       \n",
            "FB         593\n",
            "GOOG       320\n",
            "MSFT       464\n"
          ],
          "name": "stdout"
        }
      ]
    },
    {
      "cell_type": "code",
      "metadata": {
        "scrolled": true,
        "id": "bh-CfV6bkwLO",
        "outputId": "62bf7935-f7f6-4646-df5a-dde8c3fd02f8"
      },
      "source": [
        "print(\"\\nAll in one line of command (Stats for 'FB')\\n\",'-'*65, sep='')\n",
        "print(pd.DataFrame(df.groupby('Company').describe().loc['FB']).transpose())\n"
      ],
      "execution_count": null,
      "outputs": [
        {
          "output_type": "stream",
          "text": [
            "\n",
            "All in one line of command (Stats for 'FB')\n",
            "-----------------------------------------------------------------\n",
            "   Sales                                                       \n",
            "   count   mean        std    min     25%    50%     75%    max\n",
            "FB   2.0  296.5  75.660426  243.0  269.75  296.5  323.25  350.0\n"
          ],
          "name": "stdout"
        }
      ]
    },
    {
      "cell_type": "code",
      "metadata": {
        "id": "p8PxvgoLkwLP",
        "outputId": "d1e9ed62-65e4-4e85-b722-83c03eeff80d"
      },
      "source": [
        "df.groupby(\"Company\").describe().iloc[1:3,1:3]"
      ],
      "execution_count": null,
      "outputs": [
        {
          "output_type": "execute_result",
          "data": {
            "text/html": [
              "<div>\n",
              "<style scoped>\n",
              "    .dataframe tbody tr th:only-of-type {\n",
              "        vertical-align: middle;\n",
              "    }\n",
              "\n",
              "    .dataframe tbody tr th {\n",
              "        vertical-align: top;\n",
              "    }\n",
              "\n",
              "    .dataframe thead tr th {\n",
              "        text-align: left;\n",
              "    }\n",
              "\n",
              "    .dataframe thead tr:last-of-type th {\n",
              "        text-align: right;\n",
              "    }\n",
              "</style>\n",
              "<table border=\"1\" class=\"dataframe\">\n",
              "  <thead>\n",
              "    <tr>\n",
              "      <th></th>\n",
              "      <th colspan=\"2\" halign=\"left\">Sales</th>\n",
              "    </tr>\n",
              "    <tr>\n",
              "      <th></th>\n",
              "      <th>mean</th>\n",
              "      <th>std</th>\n",
              "    </tr>\n",
              "    <tr>\n",
              "      <th>Company</th>\n",
              "      <th></th>\n",
              "      <th></th>\n",
              "    </tr>\n",
              "  </thead>\n",
              "  <tbody>\n",
              "    <tr>\n",
              "      <td>GOOG</td>\n",
              "      <td>160.0</td>\n",
              "      <td>56.568542</td>\n",
              "    </tr>\n",
              "    <tr>\n",
              "      <td>MSFT</td>\n",
              "      <td>232.0</td>\n",
              "      <td>152.735065</td>\n",
              "    </tr>\n",
              "  </tbody>\n",
              "</table>\n",
              "</div>"
            ],
            "text/plain": [
              "         Sales            \n",
              "          mean         std\n",
              "Company                   \n",
              "GOOG     160.0   56.568542\n",
              "MSFT     232.0  152.735065"
            ]
          },
          "metadata": {
            "tags": []
          },
          "execution_count": 20
        }
      ]
    },
    {
      "cell_type": "code",
      "metadata": {
        "id": "yzM8tKQCkwLP",
        "outputId": "458d7600-5166-4a91-d541-1f2d3c4af43e"
      },
      "source": [
        "df.groupby('Company').describe().loc['GOOG']['Sales']['std']\n"
      ],
      "execution_count": null,
      "outputs": [
        {
          "output_type": "execute_result",
          "data": {
            "text/plain": [
              "56.568542494923804"
            ]
          },
          "metadata": {
            "tags": []
          },
          "execution_count": 41
        }
      ]
    },
    {
      "cell_type": "code",
      "metadata": {
        "id": "C0rxAvC4kwLQ",
        "outputId": "061eef53-8423-443b-ef53-8806d2eafcc2"
      },
      "source": [
        "df.groupby('Company').describe()['Sales'].loc[['GOOG','MSFT'],['mean','std']]"
      ],
      "execution_count": null,
      "outputs": [
        {
          "output_type": "execute_result",
          "data": {
            "text/html": [
              "<div>\n",
              "<style scoped>\n",
              "    .dataframe tbody tr th:only-of-type {\n",
              "        vertical-align: middle;\n",
              "    }\n",
              "\n",
              "    .dataframe tbody tr th {\n",
              "        vertical-align: top;\n",
              "    }\n",
              "\n",
              "    .dataframe thead th {\n",
              "        text-align: right;\n",
              "    }\n",
              "</style>\n",
              "<table border=\"1\" class=\"dataframe\">\n",
              "  <thead>\n",
              "    <tr style=\"text-align: right;\">\n",
              "      <th></th>\n",
              "      <th>mean</th>\n",
              "      <th>std</th>\n",
              "    </tr>\n",
              "    <tr>\n",
              "      <th>Company</th>\n",
              "      <th></th>\n",
              "      <th></th>\n",
              "    </tr>\n",
              "  </thead>\n",
              "  <tbody>\n",
              "    <tr>\n",
              "      <td>GOOG</td>\n",
              "      <td>160.0</td>\n",
              "      <td>56.568542</td>\n",
              "    </tr>\n",
              "    <tr>\n",
              "      <td>MSFT</td>\n",
              "      <td>232.0</td>\n",
              "      <td>152.735065</td>\n",
              "    </tr>\n",
              "  </tbody>\n",
              "</table>\n",
              "</div>"
            ],
            "text/plain": [
              "          mean         std\n",
              "Company                   \n",
              "GOOG     160.0   56.568542\n",
              "MSFT     232.0  152.735065"
            ]
          },
          "metadata": {
            "tags": []
          },
          "execution_count": 23
        }
      ]
    },
    {
      "cell_type": "code",
      "metadata": {
        "id": "EVPckSs8kwLQ",
        "outputId": "c84d1b23-cd03-4e87-ec13-042533b81f68"
      },
      "source": [
        "d = (df.groupby('Company').describe())\n",
        "df1 = d.T\n",
        "df1"
      ],
      "execution_count": null,
      "outputs": [
        {
          "output_type": "execute_result",
          "data": {
            "text/html": [
              "<div>\n",
              "<style scoped>\n",
              "    .dataframe tbody tr th:only-of-type {\n",
              "        vertical-align: middle;\n",
              "    }\n",
              "\n",
              "    .dataframe tbody tr th {\n",
              "        vertical-align: top;\n",
              "    }\n",
              "\n",
              "    .dataframe thead th {\n",
              "        text-align: right;\n",
              "    }\n",
              "</style>\n",
              "<table border=\"1\" class=\"dataframe\">\n",
              "  <thead>\n",
              "    <tr style=\"text-align: right;\">\n",
              "      <th></th>\n",
              "      <th>Company</th>\n",
              "      <th>FB</th>\n",
              "      <th>GOOG</th>\n",
              "      <th>MSFT</th>\n",
              "    </tr>\n",
              "  </thead>\n",
              "  <tbody>\n",
              "    <tr>\n",
              "      <td rowspan=\"8\" valign=\"top\">Sales</td>\n",
              "      <td>count</td>\n",
              "      <td>2.000000</td>\n",
              "      <td>2.000000</td>\n",
              "      <td>2.000000</td>\n",
              "    </tr>\n",
              "    <tr>\n",
              "      <td>mean</td>\n",
              "      <td>296.500000</td>\n",
              "      <td>160.000000</td>\n",
              "      <td>232.000000</td>\n",
              "    </tr>\n",
              "    <tr>\n",
              "      <td>std</td>\n",
              "      <td>75.660426</td>\n",
              "      <td>56.568542</td>\n",
              "      <td>152.735065</td>\n",
              "    </tr>\n",
              "    <tr>\n",
              "      <td>min</td>\n",
              "      <td>243.000000</td>\n",
              "      <td>120.000000</td>\n",
              "      <td>124.000000</td>\n",
              "    </tr>\n",
              "    <tr>\n",
              "      <td>25%</td>\n",
              "      <td>269.750000</td>\n",
              "      <td>140.000000</td>\n",
              "      <td>178.000000</td>\n",
              "    </tr>\n",
              "    <tr>\n",
              "      <td>50%</td>\n",
              "      <td>296.500000</td>\n",
              "      <td>160.000000</td>\n",
              "      <td>232.000000</td>\n",
              "    </tr>\n",
              "    <tr>\n",
              "      <td>75%</td>\n",
              "      <td>323.250000</td>\n",
              "      <td>180.000000</td>\n",
              "      <td>286.000000</td>\n",
              "    </tr>\n",
              "    <tr>\n",
              "      <td>max</td>\n",
              "      <td>350.000000</td>\n",
              "      <td>200.000000</td>\n",
              "      <td>340.000000</td>\n",
              "    </tr>\n",
              "  </tbody>\n",
              "</table>\n",
              "</div>"
            ],
            "text/plain": [
              "Company              FB        GOOG        MSFT\n",
              "Sales count    2.000000    2.000000    2.000000\n",
              "      mean   296.500000  160.000000  232.000000\n",
              "      std     75.660426   56.568542  152.735065\n",
              "      min    243.000000  120.000000  124.000000\n",
              "      25%    269.750000  140.000000  178.000000\n",
              "      50%    296.500000  160.000000  232.000000\n",
              "      75%    323.250000  180.000000  286.000000\n",
              "      max    350.000000  200.000000  340.000000"
            ]
          },
          "metadata": {
            "tags": []
          },
          "execution_count": 36
        }
      ]
    },
    {
      "cell_type": "code",
      "metadata": {
        "id": "k6ljCzmIkwLR",
        "outputId": "d99c0257-53f5-4368-916e-616286fccbe8"
      },
      "source": [
        "df1.loc['Sales'].loc['mean']"
      ],
      "execution_count": null,
      "outputs": [
        {
          "output_type": "execute_result",
          "data": {
            "text/plain": [
              "Company\n",
              "FB      296.5\n",
              "GOOG    160.0\n",
              "MSFT    232.0\n",
              "Name: mean, dtype: float64"
            ]
          },
          "metadata": {
            "tags": []
          },
          "execution_count": 35
        }
      ]
    },
    {
      "cell_type": "code",
      "metadata": {
        "id": "VKGyzdUTkwLR",
        "outputId": "9007107d-fb5c-411b-a3e4-579342e049cd"
      },
      "source": [
        "(pd.DataFrame(df.groupby('Company').describe().loc['FB'])).transpose()"
      ],
      "execution_count": null,
      "outputs": [
        {
          "output_type": "execute_result",
          "data": {
            "text/html": [
              "<div>\n",
              "<style scoped>\n",
              "    .dataframe tbody tr th:only-of-type {\n",
              "        vertical-align: middle;\n",
              "    }\n",
              "\n",
              "    .dataframe tbody tr th {\n",
              "        vertical-align: top;\n",
              "    }\n",
              "\n",
              "    .dataframe thead tr th {\n",
              "        text-align: left;\n",
              "    }\n",
              "</style>\n",
              "<table border=\"1\" class=\"dataframe\">\n",
              "  <thead>\n",
              "    <tr>\n",
              "      <th></th>\n",
              "      <th colspan=\"8\" halign=\"left\">Sales</th>\n",
              "    </tr>\n",
              "    <tr>\n",
              "      <th></th>\n",
              "      <th>count</th>\n",
              "      <th>mean</th>\n",
              "      <th>std</th>\n",
              "      <th>min</th>\n",
              "      <th>25%</th>\n",
              "      <th>50%</th>\n",
              "      <th>75%</th>\n",
              "      <th>max</th>\n",
              "    </tr>\n",
              "  </thead>\n",
              "  <tbody>\n",
              "    <tr>\n",
              "      <th>FB</th>\n",
              "      <td>2.0</td>\n",
              "      <td>296.5</td>\n",
              "      <td>75.660426</td>\n",
              "      <td>243.0</td>\n",
              "      <td>269.75</td>\n",
              "      <td>296.5</td>\n",
              "      <td>323.25</td>\n",
              "      <td>350.0</td>\n",
              "    </tr>\n",
              "  </tbody>\n",
              "</table>\n",
              "</div>"
            ],
            "text/plain": [
              "   Sales                                                       \n",
              "   count   mean        std    min     25%    50%     75%    max\n",
              "FB   2.0  296.5  75.660426  243.0  269.75  296.5  323.25  350.0"
            ]
          },
          "metadata": {
            "tags": []
          },
          "execution_count": 12
        }
      ]
    },
    {
      "cell_type": "code",
      "metadata": {
        "id": "rOhewZKDkwLS"
      },
      "source": [
        ""
      ],
      "execution_count": null,
      "outputs": []
    },
    {
      "cell_type": "code",
      "metadata": {
        "id": "-ukYiQZgkwLT",
        "outputId": "3f9cee96-1f1d-458b-a8f1-fceea169e2bc"
      },
      "source": [
        "(pd.DataFrame(df.groupby('Company').describe().loc['FB'])).transpose()"
      ],
      "execution_count": null,
      "outputs": [
        {
          "output_type": "execute_result",
          "data": {
            "text/html": [
              "<div>\n",
              "<style scoped>\n",
              "    .dataframe tbody tr th:only-of-type {\n",
              "        vertical-align: middle;\n",
              "    }\n",
              "\n",
              "    .dataframe tbody tr th {\n",
              "        vertical-align: top;\n",
              "    }\n",
              "\n",
              "    .dataframe thead tr th {\n",
              "        text-align: left;\n",
              "    }\n",
              "</style>\n",
              "<table border=\"1\" class=\"dataframe\">\n",
              "  <thead>\n",
              "    <tr>\n",
              "      <th></th>\n",
              "      <th colspan=\"8\" halign=\"left\">Sales</th>\n",
              "    </tr>\n",
              "    <tr>\n",
              "      <th></th>\n",
              "      <th>count</th>\n",
              "      <th>mean</th>\n",
              "      <th>std</th>\n",
              "      <th>min</th>\n",
              "      <th>25%</th>\n",
              "      <th>50%</th>\n",
              "      <th>75%</th>\n",
              "      <th>max</th>\n",
              "    </tr>\n",
              "  </thead>\n",
              "  <tbody>\n",
              "    <tr>\n",
              "      <th>FB</th>\n",
              "      <td>2.0</td>\n",
              "      <td>296.5</td>\n",
              "      <td>75.660426</td>\n",
              "      <td>243.0</td>\n",
              "      <td>269.75</td>\n",
              "      <td>296.5</td>\n",
              "      <td>323.25</td>\n",
              "      <td>350.0</td>\n",
              "    </tr>\n",
              "  </tbody>\n",
              "</table>\n",
              "</div>"
            ],
            "text/plain": [
              "   Sales                                                       \n",
              "   count   mean        std    min     25%    50%     75%    max\n",
              "FB   2.0  296.5  75.660426  243.0  269.75  296.5  323.25  350.0"
            ]
          },
          "metadata": {
            "tags": []
          },
          "execution_count": 13
        }
      ]
    },
    {
      "cell_type": "code",
      "metadata": {
        "id": "Wgzg64D5kwLT"
      },
      "source": [
        ""
      ],
      "execution_count": null,
      "outputs": []
    },
    {
      "cell_type": "code",
      "metadata": {
        "id": "OzwDw-mSkwLU"
      },
      "source": [
        ""
      ],
      "execution_count": null,
      "outputs": []
    },
    {
      "cell_type": "code",
      "metadata": {
        "id": "F7yarMEnkwLU",
        "outputId": "0c9564c1-0a79-4c2d-e0a0-7f3b3a89ad2e"
      },
      "source": [
        "print(\"\\nSame type of extraction with little different command\\n\",'-'*68, sep='')\n",
        "print(df.groupby('Company').describe().loc[['GOOG', 'MSFT']])"
      ],
      "execution_count": null,
      "outputs": [
        {
          "output_type": "stream",
          "text": [
            "\n",
            "Same type of extraction with little different command\n",
            "--------------------------------------------------------------------\n",
            "        Sales                                                      \n",
            "        count   mean         std    min    25%    50%    75%    max\n",
            "Company                                                            \n",
            "GOOG      2.0  160.0   56.568542  120.0  140.0  160.0  180.0  200.0\n",
            "MSFT      2.0  232.0  152.735065  124.0  178.0  232.0  286.0  340.0\n"
          ],
          "name": "stdout"
        }
      ]
    },
    {
      "cell_type": "code",
      "metadata": {
        "id": "z2UmTboGkwLV"
      },
      "source": [
        "# Merging two data frames\n",
        "# Creating data frames\n",
        "df1 = pd.DataFrame({'A': ['A0', 'A1', 'A2', 'A3'],\n",
        "                        'B': ['B0', 'B1', 'B2', 'B3'],\n",
        "                        'C': ['C0', 'C1', 'C2', 'C3'],\n",
        "                        'D': ['D0', 'D1', 'D2', 'D3']},\n",
        "                        index=[0, 1, 2, 3])\n"
      ],
      "execution_count": null,
      "outputs": []
    },
    {
      "cell_type": "code",
      "metadata": {
        "id": "EOX-KyLvkwLV",
        "outputId": "d381f5f5-f2af-4a81-dd60-dc03ba4c2222"
      },
      "source": [
        "df1"
      ],
      "execution_count": null,
      "outputs": [
        {
          "output_type": "execute_result",
          "data": {
            "text/html": [
              "<div>\n",
              "<style scoped>\n",
              "    .dataframe tbody tr th:only-of-type {\n",
              "        vertical-align: middle;\n",
              "    }\n",
              "\n",
              "    .dataframe tbody tr th {\n",
              "        vertical-align: top;\n",
              "    }\n",
              "\n",
              "    .dataframe thead th {\n",
              "        text-align: right;\n",
              "    }\n",
              "</style>\n",
              "<table border=\"1\" class=\"dataframe\">\n",
              "  <thead>\n",
              "    <tr style=\"text-align: right;\">\n",
              "      <th></th>\n",
              "      <th>A</th>\n",
              "      <th>B</th>\n",
              "      <th>C</th>\n",
              "      <th>D</th>\n",
              "    </tr>\n",
              "  </thead>\n",
              "  <tbody>\n",
              "    <tr>\n",
              "      <td>0</td>\n",
              "      <td>A0</td>\n",
              "      <td>B0</td>\n",
              "      <td>C0</td>\n",
              "      <td>D0</td>\n",
              "    </tr>\n",
              "    <tr>\n",
              "      <td>1</td>\n",
              "      <td>A1</td>\n",
              "      <td>B1</td>\n",
              "      <td>C1</td>\n",
              "      <td>D1</td>\n",
              "    </tr>\n",
              "    <tr>\n",
              "      <td>2</td>\n",
              "      <td>A2</td>\n",
              "      <td>B2</td>\n",
              "      <td>C2</td>\n",
              "      <td>D2</td>\n",
              "    </tr>\n",
              "    <tr>\n",
              "      <td>3</td>\n",
              "      <td>A3</td>\n",
              "      <td>B3</td>\n",
              "      <td>C3</td>\n",
              "      <td>D3</td>\n",
              "    </tr>\n",
              "  </tbody>\n",
              "</table>\n",
              "</div>"
            ],
            "text/plain": [
              "    A   B   C   D\n",
              "0  A0  B0  C0  D0\n",
              "1  A1  B1  C1  D1\n",
              "2  A2  B2  C2  D2\n",
              "3  A3  B3  C3  D3"
            ]
          },
          "metadata": {
            "tags": []
          },
          "execution_count": 43
        }
      ]
    },
    {
      "cell_type": "code",
      "metadata": {
        "id": "J0nnMS4hkwLW"
      },
      "source": [
        "df2 = pd.DataFrame({'AD': ['A4', 'A5', 'A6', 'A7'],\n",
        "                        'B': ['B4', 'B5', 'B6', 'B7'],\n",
        "                        'C': ['C4', 'C5', 'C6', 'C7'],\n",
        "                        'D': ['D4', 'D5', 'D6', 'D7']},\n",
        "                         index=[0, 1, 2, 3])\n"
      ],
      "execution_count": null,
      "outputs": []
    },
    {
      "cell_type": "code",
      "metadata": {
        "id": "H_0vguB5kwLX",
        "outputId": "ebe901b9-07f9-44d5-c37c-a063991d6570"
      },
      "source": [
        "df2"
      ],
      "execution_count": null,
      "outputs": [
        {
          "output_type": "execute_result",
          "data": {
            "text/html": [
              "<div>\n",
              "<style scoped>\n",
              "    .dataframe tbody tr th:only-of-type {\n",
              "        vertical-align: middle;\n",
              "    }\n",
              "\n",
              "    .dataframe tbody tr th {\n",
              "        vertical-align: top;\n",
              "    }\n",
              "\n",
              "    .dataframe thead th {\n",
              "        text-align: right;\n",
              "    }\n",
              "</style>\n",
              "<table border=\"1\" class=\"dataframe\">\n",
              "  <thead>\n",
              "    <tr style=\"text-align: right;\">\n",
              "      <th></th>\n",
              "      <th>AD</th>\n",
              "      <th>B</th>\n",
              "      <th>C</th>\n",
              "      <th>D</th>\n",
              "    </tr>\n",
              "  </thead>\n",
              "  <tbody>\n",
              "    <tr>\n",
              "      <td>0</td>\n",
              "      <td>A4</td>\n",
              "      <td>B4</td>\n",
              "      <td>C4</td>\n",
              "      <td>D4</td>\n",
              "    </tr>\n",
              "    <tr>\n",
              "      <td>1</td>\n",
              "      <td>A5</td>\n",
              "      <td>B5</td>\n",
              "      <td>C5</td>\n",
              "      <td>D5</td>\n",
              "    </tr>\n",
              "    <tr>\n",
              "      <td>2</td>\n",
              "      <td>A6</td>\n",
              "      <td>B6</td>\n",
              "      <td>C6</td>\n",
              "      <td>D6</td>\n",
              "    </tr>\n",
              "    <tr>\n",
              "      <td>3</td>\n",
              "      <td>A7</td>\n",
              "      <td>B7</td>\n",
              "      <td>C7</td>\n",
              "      <td>D7</td>\n",
              "    </tr>\n",
              "  </tbody>\n",
              "</table>\n",
              "</div>"
            ],
            "text/plain": [
              "   AD   B   C   D\n",
              "0  A4  B4  C4  D4\n",
              "1  A5  B5  C5  D5\n",
              "2  A6  B6  C6  D6\n",
              "3  A7  B7  C7  D7"
            ]
          },
          "metadata": {
            "tags": []
          },
          "execution_count": 63
        }
      ]
    },
    {
      "cell_type": "code",
      "metadata": {
        "id": "KohfGZknkwLX"
      },
      "source": [
        "df3 = pd.DataFrame({'A': ['A8', 'A9', 'A10', 'A11'],\n",
        "                        'B': ['B8', 'B9', 'B10', 'B11'],\n",
        "                        'C': ['C8', 'C9', 'C10', 'C11'],\n",
        "                        'D': ['D8', 'D9', 'D10', 'D11']},\n",
        "                        index=[0, 1, 2, 3])\n"
      ],
      "execution_count": null,
      "outputs": []
    },
    {
      "cell_type": "code",
      "metadata": {
        "id": "Zpar10fPkwLY",
        "outputId": "8a012d86-6023-42af-f0c4-ab42b7cda613"
      },
      "source": [
        "df3"
      ],
      "execution_count": null,
      "outputs": [
        {
          "output_type": "execute_result",
          "data": {
            "text/html": [
              "<div>\n",
              "<style scoped>\n",
              "    .dataframe tbody tr th:only-of-type {\n",
              "        vertical-align: middle;\n",
              "    }\n",
              "\n",
              "    .dataframe tbody tr th {\n",
              "        vertical-align: top;\n",
              "    }\n",
              "\n",
              "    .dataframe thead th {\n",
              "        text-align: right;\n",
              "    }\n",
              "</style>\n",
              "<table border=\"1\" class=\"dataframe\">\n",
              "  <thead>\n",
              "    <tr style=\"text-align: right;\">\n",
              "      <th></th>\n",
              "      <th>A</th>\n",
              "      <th>B</th>\n",
              "      <th>C</th>\n",
              "      <th>D</th>\n",
              "    </tr>\n",
              "  </thead>\n",
              "  <tbody>\n",
              "    <tr>\n",
              "      <td>0</td>\n",
              "      <td>A8</td>\n",
              "      <td>B8</td>\n",
              "      <td>C8</td>\n",
              "      <td>D8</td>\n",
              "    </tr>\n",
              "    <tr>\n",
              "      <td>1</td>\n",
              "      <td>A9</td>\n",
              "      <td>B9</td>\n",
              "      <td>C9</td>\n",
              "      <td>D9</td>\n",
              "    </tr>\n",
              "    <tr>\n",
              "      <td>2</td>\n",
              "      <td>A10</td>\n",
              "      <td>B10</td>\n",
              "      <td>C10</td>\n",
              "      <td>D10</td>\n",
              "    </tr>\n",
              "    <tr>\n",
              "      <td>3</td>\n",
              "      <td>A11</td>\n",
              "      <td>B11</td>\n",
              "      <td>C11</td>\n",
              "      <td>D11</td>\n",
              "    </tr>\n",
              "  </tbody>\n",
              "</table>\n",
              "</div>"
            ],
            "text/plain": [
              "     A    B    C    D\n",
              "0   A8   B8   C8   D8\n",
              "1   A9   B9   C9   D9\n",
              "2  A10  B10  C10  D10\n",
              "3  A11  B11  C11  D11"
            ]
          },
          "metadata": {
            "tags": []
          },
          "execution_count": 72
        }
      ]
    },
    {
      "cell_type": "code",
      "metadata": {
        "id": "Z0ubt0cTkwLY",
        "outputId": "bbc7e12d-bb88-4922-885e-78557a23ae78"
      },
      "source": [
        "print(\"\\nThe DataFrame number 1\\n\",'-'*30, sep='')\n",
        "print(df1)\n"
      ],
      "execution_count": null,
      "outputs": [
        {
          "output_type": "stream",
          "text": [
            "\n",
            "The DataFrame number 1\n",
            "------------------------------\n",
            "    A   B   C   D\n",
            "0  A0  B0  C0  D0\n",
            "1  A1  B1  C1  D1\n",
            "2  A2  B2  C2  D2\n",
            "3  A3  B3  C3  D3\n"
          ],
          "name": "stdout"
        }
      ]
    },
    {
      "cell_type": "code",
      "metadata": {
        "id": "hXIArkiTkwLZ",
        "outputId": "fb6fc268-d739-4876-ef26-fe2804613c82"
      },
      "source": [
        "print(\"\\nThe DataFrame number 2\\n\",'-'*30, sep='')\n",
        "print(df2)\n"
      ],
      "execution_count": null,
      "outputs": [
        {
          "output_type": "stream",
          "text": [
            "\n",
            "The DataFrame number 2\n",
            "------------------------------\n",
            "   AD   B   C   D\n",
            "0  A4  B4  C4  D4\n",
            "1  A5  B5  C5  D5\n",
            "2  A6  B6  C6  D6\n",
            "3  A7  B7  C7  D7\n"
          ],
          "name": "stdout"
        }
      ]
    },
    {
      "cell_type": "code",
      "metadata": {
        "id": "jrpayZACkwLa",
        "outputId": "bc5bce14-02c2-4f97-aedb-48b7bb9d9690"
      },
      "source": [
        "print(\"\\nThe DataFrame number 3\\n\",'-'*30, sep='')\n",
        "print(df3)"
      ],
      "execution_count": null,
      "outputs": [
        {
          "output_type": "stream",
          "text": [
            "\n",
            "The DataFrame number 3\n",
            "------------------------------\n",
            "     A    B    C    D\n",
            "0   A8   B8   C8   D8\n",
            "1   A9   B9   C9   D9\n",
            "2  A10  B10  C10  D10\n",
            "3  A11  B11  C11  D11\n"
          ],
          "name": "stdout"
        }
      ]
    },
    {
      "cell_type": "code",
      "metadata": {
        "scrolled": true,
        "id": "qPLDqisVkwLa",
        "outputId": "685b1d3a-70b1-4d09-8a4a-3ec2053d6f9d"
      },
      "source": [
        "#concatenation\n",
        "df_cat1 = pd.concat([df1,df2,df3], axis=1)\n",
        "print(\"\\nAfter concatenation along row\\n\",'-'*30, sep='')\n",
        "df_cat1"
      ],
      "execution_count": null,
      "outputs": [
        {
          "output_type": "stream",
          "text": [
            "\n",
            "After concatenation along row\n",
            "------------------------------\n"
          ],
          "name": "stdout"
        },
        {
          "output_type": "execute_result",
          "data": {
            "text/html": [
              "<div>\n",
              "<style scoped>\n",
              "    .dataframe tbody tr th:only-of-type {\n",
              "        vertical-align: middle;\n",
              "    }\n",
              "\n",
              "    .dataframe tbody tr th {\n",
              "        vertical-align: top;\n",
              "    }\n",
              "\n",
              "    .dataframe thead th {\n",
              "        text-align: right;\n",
              "    }\n",
              "</style>\n",
              "<table border=\"1\" class=\"dataframe\">\n",
              "  <thead>\n",
              "    <tr style=\"text-align: right;\">\n",
              "      <th></th>\n",
              "      <th>A</th>\n",
              "      <th>B</th>\n",
              "      <th>C</th>\n",
              "      <th>D</th>\n",
              "      <th>AD</th>\n",
              "      <th>B</th>\n",
              "      <th>C</th>\n",
              "      <th>D</th>\n",
              "      <th>A</th>\n",
              "      <th>B</th>\n",
              "      <th>C</th>\n",
              "      <th>D</th>\n",
              "    </tr>\n",
              "  </thead>\n",
              "  <tbody>\n",
              "    <tr>\n",
              "      <td>0</td>\n",
              "      <td>A0</td>\n",
              "      <td>B0</td>\n",
              "      <td>C0</td>\n",
              "      <td>D0</td>\n",
              "      <td>A4</td>\n",
              "      <td>B4</td>\n",
              "      <td>C4</td>\n",
              "      <td>D4</td>\n",
              "      <td>A8</td>\n",
              "      <td>B8</td>\n",
              "      <td>C8</td>\n",
              "      <td>D8</td>\n",
              "    </tr>\n",
              "    <tr>\n",
              "      <td>1</td>\n",
              "      <td>A1</td>\n",
              "      <td>B1</td>\n",
              "      <td>C1</td>\n",
              "      <td>D1</td>\n",
              "      <td>A5</td>\n",
              "      <td>B5</td>\n",
              "      <td>C5</td>\n",
              "      <td>D5</td>\n",
              "      <td>A9</td>\n",
              "      <td>B9</td>\n",
              "      <td>C9</td>\n",
              "      <td>D9</td>\n",
              "    </tr>\n",
              "    <tr>\n",
              "      <td>2</td>\n",
              "      <td>A2</td>\n",
              "      <td>B2</td>\n",
              "      <td>C2</td>\n",
              "      <td>D2</td>\n",
              "      <td>A6</td>\n",
              "      <td>B6</td>\n",
              "      <td>C6</td>\n",
              "      <td>D6</td>\n",
              "      <td>A10</td>\n",
              "      <td>B10</td>\n",
              "      <td>C10</td>\n",
              "      <td>D10</td>\n",
              "    </tr>\n",
              "    <tr>\n",
              "      <td>3</td>\n",
              "      <td>A3</td>\n",
              "      <td>B3</td>\n",
              "      <td>C3</td>\n",
              "      <td>D3</td>\n",
              "      <td>A7</td>\n",
              "      <td>B7</td>\n",
              "      <td>C7</td>\n",
              "      <td>D7</td>\n",
              "      <td>A11</td>\n",
              "      <td>B11</td>\n",
              "      <td>C11</td>\n",
              "      <td>D11</td>\n",
              "    </tr>\n",
              "  </tbody>\n",
              "</table>\n",
              "</div>"
            ],
            "text/plain": [
              "    A   B   C   D  AD   B   C   D    A    B    C    D\n",
              "0  A0  B0  C0  D0  A4  B4  C4  D4   A8   B8   C8   D8\n",
              "1  A1  B1  C1  D1  A5  B5  C5  D5   A9   B9   C9   D9\n",
              "2  A2  B2  C2  D2  A6  B6  C6  D6  A10  B10  C10  D10\n",
              "3  A3  B3  C3  D3  A7  B7  C7  D7  A11  B11  C11  D11"
            ]
          },
          "metadata": {
            "tags": []
          },
          "execution_count": 76
        }
      ]
    },
    {
      "cell_type": "code",
      "metadata": {
        "id": "ffTnhCuIkwLb",
        "outputId": "bb975467-9dc0-477f-f6a3-45b84c3d695a"
      },
      "source": [
        "df_cat1.iloc[3]"
      ],
      "execution_count": null,
      "outputs": [
        {
          "output_type": "execute_result",
          "data": {
            "text/plain": [
              "A      A3\n",
              "B      B3\n",
              "C      C3\n",
              "D      D3\n",
              "AD     A7\n",
              "B      B7\n",
              "C      C7\n",
              "D      D7\n",
              "A     A11\n",
              "B     B11\n",
              "C     C11\n",
              "D     D11\n",
              "Name: 3, dtype: object"
            ]
          },
          "metadata": {
            "tags": []
          },
          "execution_count": 77
        }
      ]
    },
    {
      "cell_type": "code",
      "metadata": {
        "id": "X8ES8fS4kwLc",
        "outputId": "88565e02-c6ae-4ff2-af8c-5a980f3cef85"
      },
      "source": [
        "df_cat1.iloc[4]"
      ],
      "execution_count": null,
      "outputs": [
        {
          "output_type": "execute_result",
          "data": {
            "text/plain": [
              "A    A4\n",
              "B    B4\n",
              "C    C4\n",
              "D    D4\n",
              "Name: 0, dtype: object"
            ]
          },
          "metadata": {
            "tags": []
          },
          "execution_count": 25
        }
      ]
    },
    {
      "cell_type": "code",
      "metadata": {
        "id": "B8tmaoUKkwLc"
      },
      "source": [
        ""
      ],
      "execution_count": null,
      "outputs": []
    },
    {
      "cell_type": "code",
      "metadata": {
        "id": "QSxUhsAckwLd"
      },
      "source": [
        ""
      ],
      "execution_count": null,
      "outputs": []
    },
    {
      "cell_type": "code",
      "metadata": {
        "id": "K0yYydtdkwLd",
        "outputId": "ddf030db-644d-4495-c461-142901c26035"
      },
      "source": [
        "df_cat2 = pd.concat([df1,df2,df3], axis=1)\n",
        "print(\"\\nAfter concatenation along column\\n\",'-'*60, sep='')\n",
        "print(df_cat2)\n"
      ],
      "execution_count": null,
      "outputs": [
        {
          "output_type": "stream",
          "text": [
            "\n",
            "After concatenation along column\n",
            "------------------------------------------------------------\n",
            "      A    B    C    D    A    B    C    D    A    B    C    D\n",
            "0    A0   B0   C0   D0   A4   B4   C4   D4  NaN  NaN  NaN  NaN\n",
            "1    A1   B1   C1   D1   A5   B5   C5   D5  NaN  NaN  NaN  NaN\n",
            "2    A2   B2   C2   D2   A6   B6   C6   D6  NaN  NaN  NaN  NaN\n",
            "3    A3   B3   C3   D3   A7   B7   C7   D7  NaN  NaN  NaN  NaN\n",
            "8   NaN  NaN  NaN  NaN  NaN  NaN  NaN  NaN   A8   B8   C8   D8\n",
            "9   NaN  NaN  NaN  NaN  NaN  NaN  NaN  NaN   A9   B9   C9   D9\n",
            "10  NaN  NaN  NaN  NaN  NaN  NaN  NaN  NaN  A10  B10  C10  D10\n",
            "11  NaN  NaN  NaN  NaN  NaN  NaN  NaN  NaN  A11  B11  C11  D11\n"
          ],
          "name": "stdout"
        }
      ]
    },
    {
      "cell_type": "code",
      "metadata": {
        "id": "YY4qyR2HkwLe",
        "outputId": "46f281c8-8570-411b-f785-df96bb3cf55f"
      },
      "source": [
        "df_cat1.fillna(value=0, inplace=True)\n",
        "print(\"\\nAfter filling missing values with zero\\n\",'-'*60, sep='')\n",
        "print(df_cat1)"
      ],
      "execution_count": null,
      "outputs": [
        {
          "output_type": "stream",
          "text": [
            "\n",
            "After filling missing values with zero\n",
            "------------------------------------------------------------\n",
            "    A   B   C   D  AD   B   C   D    A    B    C    D\n",
            "0  A0  B0  C0  D0  A4  B4  C4  D4   A8   B8   C8   D8\n",
            "1  A1  B1  C1  D1  A5  B5  C5  D5   A9   B9   C9   D9\n",
            "2  A2  B2  C2  D2  A6  B6  C6  D6  A10  B10  C10  D10\n",
            "3  A3  B3  C3  D3  A7  B7  C7  D7  A11  B11  C11  D11\n"
          ],
          "name": "stdout"
        }
      ]
    },
    {
      "cell_type": "code",
      "metadata": {
        "id": "xvjdC_-ekwLf"
      },
      "source": [
        "# merging by a common key"
      ],
      "execution_count": null,
      "outputs": []
    },
    {
      "cell_type": "code",
      "metadata": {
        "id": "rWiJml7LkwLf"
      },
      "source": [
        "df1 = pd.DataFrame({'key1': ['K0', 'K8', 'K2', 'K3'],\n",
        "                     'A': ['A0', 'A1', 'A2', 'A3'],\n",
        "                    'C': ['A0', 'A1', 'A2', 'A3'],\n",
        "                     'B': ['B0', 'B1', 'B2', 'B3']})\n",
        "   \n",
        "df2 = pd.DataFrame({'key2': ['K0', 'K1', 'K2', 'K3'],\n",
        "                          'C': ['C0', 'C1', 'C2', 'C3'],\n",
        "                          'D': ['D0', 'D1', 'D2', 'D3']})\n"
      ],
      "execution_count": null,
      "outputs": []
    },
    {
      "cell_type": "code",
      "metadata": {
        "id": "t13PdHADkwLg",
        "outputId": "6fd8e709-f5c4-4b27-e7ce-d77beb87d10f"
      },
      "source": [
        "df1"
      ],
      "execution_count": null,
      "outputs": [
        {
          "output_type": "execute_result",
          "data": {
            "text/html": [
              "<div>\n",
              "<style scoped>\n",
              "    .dataframe tbody tr th:only-of-type {\n",
              "        vertical-align: middle;\n",
              "    }\n",
              "\n",
              "    .dataframe tbody tr th {\n",
              "        vertical-align: top;\n",
              "    }\n",
              "\n",
              "    .dataframe thead th {\n",
              "        text-align: right;\n",
              "    }\n",
              "</style>\n",
              "<table border=\"1\" class=\"dataframe\">\n",
              "  <thead>\n",
              "    <tr style=\"text-align: right;\">\n",
              "      <th></th>\n",
              "      <th>key1</th>\n",
              "      <th>A</th>\n",
              "      <th>C</th>\n",
              "      <th>B</th>\n",
              "    </tr>\n",
              "  </thead>\n",
              "  <tbody>\n",
              "    <tr>\n",
              "      <td>0</td>\n",
              "      <td>K0</td>\n",
              "      <td>A0</td>\n",
              "      <td>A0</td>\n",
              "      <td>B0</td>\n",
              "    </tr>\n",
              "    <tr>\n",
              "      <td>1</td>\n",
              "      <td>K8</td>\n",
              "      <td>A1</td>\n",
              "      <td>A1</td>\n",
              "      <td>B1</td>\n",
              "    </tr>\n",
              "    <tr>\n",
              "      <td>2</td>\n",
              "      <td>K2</td>\n",
              "      <td>A2</td>\n",
              "      <td>A2</td>\n",
              "      <td>B2</td>\n",
              "    </tr>\n",
              "    <tr>\n",
              "      <td>3</td>\n",
              "      <td>K3</td>\n",
              "      <td>A3</td>\n",
              "      <td>A3</td>\n",
              "      <td>B3</td>\n",
              "    </tr>\n",
              "  </tbody>\n",
              "</table>\n",
              "</div>"
            ],
            "text/plain": [
              "  key1   A   C   B\n",
              "0   K0  A0  A0  B0\n",
              "1   K8  A1  A1  B1\n",
              "2   K2  A2  A2  B2\n",
              "3   K3  A3  A3  B3"
            ]
          },
          "metadata": {
            "tags": []
          },
          "execution_count": 95
        }
      ]
    },
    {
      "cell_type": "code",
      "metadata": {
        "id": "OePaFdUNkwLg",
        "outputId": "463e5c0f-325c-4604-de31-b350b1ed1528"
      },
      "source": [
        "df2"
      ],
      "execution_count": null,
      "outputs": [
        {
          "output_type": "execute_result",
          "data": {
            "text/html": [
              "<div>\n",
              "<style scoped>\n",
              "    .dataframe tbody tr th:only-of-type {\n",
              "        vertical-align: middle;\n",
              "    }\n",
              "\n",
              "    .dataframe tbody tr th {\n",
              "        vertical-align: top;\n",
              "    }\n",
              "\n",
              "    .dataframe thead th {\n",
              "        text-align: right;\n",
              "    }\n",
              "</style>\n",
              "<table border=\"1\" class=\"dataframe\">\n",
              "  <thead>\n",
              "    <tr style=\"text-align: right;\">\n",
              "      <th></th>\n",
              "      <th>key2</th>\n",
              "      <th>C</th>\n",
              "      <th>D</th>\n",
              "    </tr>\n",
              "  </thead>\n",
              "  <tbody>\n",
              "    <tr>\n",
              "      <td>0</td>\n",
              "      <td>K0</td>\n",
              "      <td>C0</td>\n",
              "      <td>D0</td>\n",
              "    </tr>\n",
              "    <tr>\n",
              "      <td>1</td>\n",
              "      <td>K1</td>\n",
              "      <td>C1</td>\n",
              "      <td>D1</td>\n",
              "    </tr>\n",
              "    <tr>\n",
              "      <td>2</td>\n",
              "      <td>K2</td>\n",
              "      <td>C2</td>\n",
              "      <td>D2</td>\n",
              "    </tr>\n",
              "    <tr>\n",
              "      <td>3</td>\n",
              "      <td>K3</td>\n",
              "      <td>C3</td>\n",
              "      <td>D3</td>\n",
              "    </tr>\n",
              "  </tbody>\n",
              "</table>\n",
              "</div>"
            ],
            "text/plain": [
              "  key2   C   D\n",
              "0   K0  C0  D0\n",
              "1   K1  C1  D1\n",
              "2   K2  C2  D2\n",
              "3   K3  C3  D3"
            ]
          },
          "metadata": {
            "tags": []
          },
          "execution_count": 96
        }
      ]
    },
    {
      "cell_type": "code",
      "metadata": {
        "id": "P9Ry16K8kwLh",
        "outputId": "6c67673c-5008-4115-bea4-d4640f2663d1"
      },
      "source": [
        "pd.merge(df1,df2,how='left',left_on = 'key1',right_on='key2')"
      ],
      "execution_count": null,
      "outputs": [
        {
          "output_type": "execute_result",
          "data": {
            "text/html": [
              "<div>\n",
              "<style scoped>\n",
              "    .dataframe tbody tr th:only-of-type {\n",
              "        vertical-align: middle;\n",
              "    }\n",
              "\n",
              "    .dataframe tbody tr th {\n",
              "        vertical-align: top;\n",
              "    }\n",
              "\n",
              "    .dataframe thead th {\n",
              "        text-align: right;\n",
              "    }\n",
              "</style>\n",
              "<table border=\"1\" class=\"dataframe\">\n",
              "  <thead>\n",
              "    <tr style=\"text-align: right;\">\n",
              "      <th></th>\n",
              "      <th>key1</th>\n",
              "      <th>A</th>\n",
              "      <th>C_x</th>\n",
              "      <th>B</th>\n",
              "      <th>key2</th>\n",
              "      <th>C_y</th>\n",
              "      <th>D</th>\n",
              "    </tr>\n",
              "  </thead>\n",
              "  <tbody>\n",
              "    <tr>\n",
              "      <td>0</td>\n",
              "      <td>K0</td>\n",
              "      <td>A0</td>\n",
              "      <td>A0</td>\n",
              "      <td>B0</td>\n",
              "      <td>K0</td>\n",
              "      <td>C0</td>\n",
              "      <td>D0</td>\n",
              "    </tr>\n",
              "    <tr>\n",
              "      <td>1</td>\n",
              "      <td>K8</td>\n",
              "      <td>A1</td>\n",
              "      <td>A1</td>\n",
              "      <td>B1</td>\n",
              "      <td>NaN</td>\n",
              "      <td>NaN</td>\n",
              "      <td>NaN</td>\n",
              "    </tr>\n",
              "    <tr>\n",
              "      <td>2</td>\n",
              "      <td>K2</td>\n",
              "      <td>A2</td>\n",
              "      <td>A2</td>\n",
              "      <td>B2</td>\n",
              "      <td>K2</td>\n",
              "      <td>C2</td>\n",
              "      <td>D2</td>\n",
              "    </tr>\n",
              "    <tr>\n",
              "      <td>3</td>\n",
              "      <td>K3</td>\n",
              "      <td>A3</td>\n",
              "      <td>A3</td>\n",
              "      <td>B3</td>\n",
              "      <td>K3</td>\n",
              "      <td>C3</td>\n",
              "      <td>D3</td>\n",
              "    </tr>\n",
              "  </tbody>\n",
              "</table>\n",
              "</div>"
            ],
            "text/plain": [
              "  key1   A C_x   B key2  C_y    D\n",
              "0   K0  A0  A0  B0   K0   C0   D0\n",
              "1   K8  A1  A1  B1  NaN  NaN  NaN\n",
              "2   K2  A2  A2  B2   K2   C2   D2\n",
              "3   K3  A3  A3  B3   K3   C3   D3"
            ]
          },
          "metadata": {
            "tags": []
          },
          "execution_count": 97
        }
      ]
    },
    {
      "cell_type": "code",
      "metadata": {
        "id": "0MUjlShukwLi",
        "outputId": "ef87f2d9-14ba-4c88-9a16-dd588e995157"
      },
      "source": [
        ""
      ],
      "execution_count": null,
      "outputs": [
        {
          "output_type": "stream",
          "text": [
            "\n",
            "The DataFrame 'right'\n",
            "------------------------------\n",
            "  key   C   D\n",
            "0  K0  C0  D0\n",
            "1  K1  C1  D1\n",
            "2  K2  C2  D2\n",
            "3  K3  C3  D3\n"
          ],
          "name": "stdout"
        }
      ]
    },
    {
      "cell_type": "code",
      "metadata": {
        "id": "obFH7_EdkwLi",
        "outputId": "293eaacd-d855-4684-f054-6f8760c0a14e"
      },
      "source": [
        "merge1= pd.merge(left,right,how='inner',on='key')\n",
        "print(\"\\nAfter simple merging with 'inner' method\\n\",'-'*50, sep='')\n",
        "print(merge1)"
      ],
      "execution_count": null,
      "outputs": [
        {
          "output_type": "stream",
          "text": [
            "\n",
            "After simple merging with 'inner' method\n",
            "--------------------------------------------------\n",
            "  key   A   B   C   D\n",
            "0  K0  A0  B0  C0  D0\n",
            "1  K2  A2  B2  C2  D2\n",
            "2  K3  A3  B3  C3  D3\n"
          ],
          "name": "stdout"
        }
      ]
    },
    {
      "cell_type": "code",
      "metadata": {
        "id": "HQ-HrdrJkwLj"
      },
      "source": [
        "left = pd.DataFrame({'key1': ['K0', 'K0', 'K1', 'K2'],\n",
        "                     'key2': ['K0', 'K1', 'K0', 'K1'],\n",
        "                        'A': ['A0', 'A1', 'A2', 'A3'],\n",
        "                        'B': ['B0', 'B1', 'B2', 'B3']})\n",
        "    \n",
        "right = pd.DataFrame({'key1': ['K0', 'K1', 'K1', 'K2'],\n",
        "                               'key2': ['K0', 'K0', 'K0', 'K0'],\n",
        "                                  'C': ['C0', 'C1', 'C2', 'C3'],\n",
        "                                  'D': ['D0', 'D1', 'D2', 'D3']})"
      ],
      "execution_count": null,
      "outputs": []
    },
    {
      "cell_type": "code",
      "metadata": {
        "id": "zi4Jnpf-kwLj",
        "outputId": "9c3f03b8-e436-4fd6-e005-9078356fe1df"
      },
      "source": [
        "left"
      ],
      "execution_count": null,
      "outputs": [
        {
          "output_type": "execute_result",
          "data": {
            "text/html": [
              "<div>\n",
              "<style scoped>\n",
              "    .dataframe tbody tr th:only-of-type {\n",
              "        vertical-align: middle;\n",
              "    }\n",
              "\n",
              "    .dataframe tbody tr th {\n",
              "        vertical-align: top;\n",
              "    }\n",
              "\n",
              "    .dataframe thead th {\n",
              "        text-align: right;\n",
              "    }\n",
              "</style>\n",
              "<table border=\"1\" class=\"dataframe\">\n",
              "  <thead>\n",
              "    <tr style=\"text-align: right;\">\n",
              "      <th></th>\n",
              "      <th>key1</th>\n",
              "      <th>key2</th>\n",
              "      <th>A</th>\n",
              "      <th>B</th>\n",
              "    </tr>\n",
              "  </thead>\n",
              "  <tbody>\n",
              "    <tr>\n",
              "      <td>0</td>\n",
              "      <td>K0</td>\n",
              "      <td>K0</td>\n",
              "      <td>A0</td>\n",
              "      <td>B0</td>\n",
              "    </tr>\n",
              "    <tr>\n",
              "      <td>1</td>\n",
              "      <td>K0</td>\n",
              "      <td>K1</td>\n",
              "      <td>A1</td>\n",
              "      <td>B1</td>\n",
              "    </tr>\n",
              "    <tr>\n",
              "      <td>2</td>\n",
              "      <td>K1</td>\n",
              "      <td>K0</td>\n",
              "      <td>A2</td>\n",
              "      <td>B2</td>\n",
              "    </tr>\n",
              "    <tr>\n",
              "      <td>3</td>\n",
              "      <td>K2</td>\n",
              "      <td>K1</td>\n",
              "      <td>A3</td>\n",
              "      <td>B3</td>\n",
              "    </tr>\n",
              "  </tbody>\n",
              "</table>\n",
              "</div>"
            ],
            "text/plain": [
              "  key1 key2   A   B\n",
              "0   K0   K0  A0  B0\n",
              "1   K0   K1  A1  B1\n",
              "2   K1   K0  A2  B2\n",
              "3   K2   K1  A3  B3"
            ]
          },
          "metadata": {
            "tags": []
          },
          "execution_count": 99
        }
      ]
    },
    {
      "cell_type": "code",
      "metadata": {
        "id": "CJ0UgUKikwLk",
        "outputId": "f962a273-c5b9-46c5-91b8-4b1c83a98fa8"
      },
      "source": [
        "right"
      ],
      "execution_count": null,
      "outputs": [
        {
          "output_type": "execute_result",
          "data": {
            "text/html": [
              "<div>\n",
              "<style scoped>\n",
              "    .dataframe tbody tr th:only-of-type {\n",
              "        vertical-align: middle;\n",
              "    }\n",
              "\n",
              "    .dataframe tbody tr th {\n",
              "        vertical-align: top;\n",
              "    }\n",
              "\n",
              "    .dataframe thead th {\n",
              "        text-align: right;\n",
              "    }\n",
              "</style>\n",
              "<table border=\"1\" class=\"dataframe\">\n",
              "  <thead>\n",
              "    <tr style=\"text-align: right;\">\n",
              "      <th></th>\n",
              "      <th>key1</th>\n",
              "      <th>key2</th>\n",
              "      <th>C</th>\n",
              "      <th>D</th>\n",
              "    </tr>\n",
              "  </thead>\n",
              "  <tbody>\n",
              "    <tr>\n",
              "      <td>0</td>\n",
              "      <td>K0</td>\n",
              "      <td>K0</td>\n",
              "      <td>C0</td>\n",
              "      <td>D0</td>\n",
              "    </tr>\n",
              "    <tr>\n",
              "      <td>1</td>\n",
              "      <td>K1</td>\n",
              "      <td>K0</td>\n",
              "      <td>C1</td>\n",
              "      <td>D1</td>\n",
              "    </tr>\n",
              "    <tr>\n",
              "      <td>2</td>\n",
              "      <td>K1</td>\n",
              "      <td>K0</td>\n",
              "      <td>C2</td>\n",
              "      <td>D2</td>\n",
              "    </tr>\n",
              "    <tr>\n",
              "      <td>3</td>\n",
              "      <td>K2</td>\n",
              "      <td>K0</td>\n",
              "      <td>C3</td>\n",
              "      <td>D3</td>\n",
              "    </tr>\n",
              "  </tbody>\n",
              "</table>\n",
              "</div>"
            ],
            "text/plain": [
              "  key1 key2   C   D\n",
              "0   K0   K0  C0  D0\n",
              "1   K1   K0  C1  D1\n",
              "2   K1   K0  C2  D2\n",
              "3   K2   K0  C3  D3"
            ]
          },
          "metadata": {
            "tags": []
          },
          "execution_count": 100
        }
      ]
    },
    {
      "cell_type": "code",
      "metadata": {
        "id": "Q2O5PVGOkwLk",
        "outputId": "1f945c88-5338-42dd-b21c-18d8f425be9c"
      },
      "source": [
        "pd.merge(left, right, on=['key1', 'key2'])"
      ],
      "execution_count": null,
      "outputs": [
        {
          "output_type": "execute_result",
          "data": {
            "text/html": [
              "<div>\n",
              "<style scoped>\n",
              "    .dataframe tbody tr th:only-of-type {\n",
              "        vertical-align: middle;\n",
              "    }\n",
              "\n",
              "    .dataframe tbody tr th {\n",
              "        vertical-align: top;\n",
              "    }\n",
              "\n",
              "    .dataframe thead th {\n",
              "        text-align: right;\n",
              "    }\n",
              "</style>\n",
              "<table border=\"1\" class=\"dataframe\">\n",
              "  <thead>\n",
              "    <tr style=\"text-align: right;\">\n",
              "      <th></th>\n",
              "      <th>key1</th>\n",
              "      <th>key2</th>\n",
              "      <th>A</th>\n",
              "      <th>B</th>\n",
              "      <th>C</th>\n",
              "      <th>D</th>\n",
              "    </tr>\n",
              "  </thead>\n",
              "  <tbody>\n",
              "    <tr>\n",
              "      <td>0</td>\n",
              "      <td>K0</td>\n",
              "      <td>K0</td>\n",
              "      <td>A0</td>\n",
              "      <td>B0</td>\n",
              "      <td>C0</td>\n",
              "      <td>D0</td>\n",
              "    </tr>\n",
              "    <tr>\n",
              "      <td>1</td>\n",
              "      <td>K1</td>\n",
              "      <td>K0</td>\n",
              "      <td>A2</td>\n",
              "      <td>B2</td>\n",
              "      <td>C1</td>\n",
              "      <td>D1</td>\n",
              "    </tr>\n",
              "    <tr>\n",
              "      <td>2</td>\n",
              "      <td>K1</td>\n",
              "      <td>K0</td>\n",
              "      <td>A2</td>\n",
              "      <td>B2</td>\n",
              "      <td>C2</td>\n",
              "      <td>D2</td>\n",
              "    </tr>\n",
              "  </tbody>\n",
              "</table>\n",
              "</div>"
            ],
            "text/plain": [
              "  key1 key2   A   B   C   D\n",
              "0   K0   K0  A0  B0  C0  D0\n",
              "1   K1   K0  A2  B2  C1  D1\n",
              "2   K1   K0  A2  B2  C2  D2"
            ]
          },
          "metadata": {
            "tags": []
          },
          "execution_count": 101
        }
      ]
    },
    {
      "cell_type": "code",
      "metadata": {
        "id": "uB1NhTgFkwLk",
        "outputId": "d992cec9-c8bf-47a5-f363-f9683ae55d24"
      },
      "source": [
        "pd.merge(left, right, how='left',on=['key1', 'key2'])"
      ],
      "execution_count": null,
      "outputs": [
        {
          "output_type": "execute_result",
          "data": {
            "text/html": [
              "<div>\n",
              "<style scoped>\n",
              "    .dataframe tbody tr th:only-of-type {\n",
              "        vertical-align: middle;\n",
              "    }\n",
              "\n",
              "    .dataframe tbody tr th {\n",
              "        vertical-align: top;\n",
              "    }\n",
              "\n",
              "    .dataframe thead th {\n",
              "        text-align: right;\n",
              "    }\n",
              "</style>\n",
              "<table border=\"1\" class=\"dataframe\">\n",
              "  <thead>\n",
              "    <tr style=\"text-align: right;\">\n",
              "      <th></th>\n",
              "      <th>key1</th>\n",
              "      <th>key2</th>\n",
              "      <th>A</th>\n",
              "      <th>B</th>\n",
              "      <th>C</th>\n",
              "      <th>D</th>\n",
              "    </tr>\n",
              "  </thead>\n",
              "  <tbody>\n",
              "    <tr>\n",
              "      <th>0</th>\n",
              "      <td>K0</td>\n",
              "      <td>K0</td>\n",
              "      <td>A0</td>\n",
              "      <td>B0</td>\n",
              "      <td>C0</td>\n",
              "      <td>D0</td>\n",
              "    </tr>\n",
              "    <tr>\n",
              "      <th>1</th>\n",
              "      <td>K0</td>\n",
              "      <td>K1</td>\n",
              "      <td>A1</td>\n",
              "      <td>B1</td>\n",
              "      <td>NaN</td>\n",
              "      <td>NaN</td>\n",
              "    </tr>\n",
              "    <tr>\n",
              "      <th>2</th>\n",
              "      <td>K1</td>\n",
              "      <td>K0</td>\n",
              "      <td>A2</td>\n",
              "      <td>B2</td>\n",
              "      <td>C1</td>\n",
              "      <td>D1</td>\n",
              "    </tr>\n",
              "    <tr>\n",
              "      <th>3</th>\n",
              "      <td>K1</td>\n",
              "      <td>K0</td>\n",
              "      <td>A2</td>\n",
              "      <td>B2</td>\n",
              "      <td>C2</td>\n",
              "      <td>D2</td>\n",
              "    </tr>\n",
              "    <tr>\n",
              "      <th>4</th>\n",
              "      <td>K2</td>\n",
              "      <td>K1</td>\n",
              "      <td>A3</td>\n",
              "      <td>B3</td>\n",
              "      <td>NaN</td>\n",
              "      <td>NaN</td>\n",
              "    </tr>\n",
              "  </tbody>\n",
              "</table>\n",
              "</div>"
            ],
            "text/plain": [
              "  key1 key2   A   B    C    D\n",
              "0   K0   K0  A0  B0   C0   D0\n",
              "1   K0   K1  A1  B1  NaN  NaN\n",
              "2   K1   K0  A2  B2   C1   D1\n",
              "3   K1   K0  A2  B2   C2   D2\n",
              "4   K2   K1  A3  B3  NaN  NaN"
            ]
          },
          "metadata": {
            "tags": []
          },
          "execution_count": 39
        }
      ]
    },
    {
      "cell_type": "code",
      "metadata": {
        "id": "Ye_VO4MqkwLl",
        "outputId": "0d821cf1-2dca-44be-f457-8dcda4242f14"
      },
      "source": [
        "pd.merge(left, right, how='right',on=['key1', 'key2'])"
      ],
      "execution_count": null,
      "outputs": [
        {
          "output_type": "execute_result",
          "data": {
            "text/html": [
              "<div>\n",
              "<style scoped>\n",
              "    .dataframe tbody tr th:only-of-type {\n",
              "        vertical-align: middle;\n",
              "    }\n",
              "\n",
              "    .dataframe tbody tr th {\n",
              "        vertical-align: top;\n",
              "    }\n",
              "\n",
              "    .dataframe thead th {\n",
              "        text-align: right;\n",
              "    }\n",
              "</style>\n",
              "<table border=\"1\" class=\"dataframe\">\n",
              "  <thead>\n",
              "    <tr style=\"text-align: right;\">\n",
              "      <th></th>\n",
              "      <th>key1</th>\n",
              "      <th>key2</th>\n",
              "      <th>A</th>\n",
              "      <th>B</th>\n",
              "      <th>C</th>\n",
              "      <th>D</th>\n",
              "    </tr>\n",
              "  </thead>\n",
              "  <tbody>\n",
              "    <tr>\n",
              "      <th>0</th>\n",
              "      <td>K0</td>\n",
              "      <td>K0</td>\n",
              "      <td>A0</td>\n",
              "      <td>B0</td>\n",
              "      <td>C0</td>\n",
              "      <td>D0</td>\n",
              "    </tr>\n",
              "    <tr>\n",
              "      <th>1</th>\n",
              "      <td>K1</td>\n",
              "      <td>K0</td>\n",
              "      <td>A2</td>\n",
              "      <td>B2</td>\n",
              "      <td>C1</td>\n",
              "      <td>D1</td>\n",
              "    </tr>\n",
              "    <tr>\n",
              "      <th>2</th>\n",
              "      <td>K1</td>\n",
              "      <td>K0</td>\n",
              "      <td>A2</td>\n",
              "      <td>B2</td>\n",
              "      <td>C2</td>\n",
              "      <td>D2</td>\n",
              "    </tr>\n",
              "    <tr>\n",
              "      <th>3</th>\n",
              "      <td>K2</td>\n",
              "      <td>K0</td>\n",
              "      <td>NaN</td>\n",
              "      <td>NaN</td>\n",
              "      <td>C3</td>\n",
              "      <td>D3</td>\n",
              "    </tr>\n",
              "  </tbody>\n",
              "</table>\n",
              "</div>"
            ],
            "text/plain": [
              "  key1 key2    A    B   C   D\n",
              "0   K0   K0   A0   B0  C0  D0\n",
              "1   K1   K0   A2   B2  C1  D1\n",
              "2   K1   K0   A2   B2  C2  D2\n",
              "3   K2   K0  NaN  NaN  C3  D3"
            ]
          },
          "metadata": {
            "tags": []
          },
          "execution_count": 40
        }
      ]
    },
    {
      "cell_type": "code",
      "metadata": {
        "id": "g0vHKJBKkwLl"
      },
      "source": [
        "#join operators\n",
        "left = pd.DataFrame({'A': ['A0', 'A1', 'A2'],\n",
        "                     'B': ['B0', 'B1', 'B2']},\n",
        "                      index=['K0', 'K1', 'K2']) \n",
        "\n",
        "right = pd.DataFrame({'C': ['C0', 'C2', 'C3'],\n",
        "                    'D': ['D0', 'D2', 'D3']},\n",
        "                      index=['K0', 'K2', 'K3'])"
      ],
      "execution_count": null,
      "outputs": []
    },
    {
      "cell_type": "code",
      "metadata": {
        "id": "SghsIEDjkwLm",
        "outputId": "22809934-2548-4b8b-e441-1aa6fd1e301c"
      },
      "source": [
        "left"
      ],
      "execution_count": null,
      "outputs": [
        {
          "output_type": "execute_result",
          "data": {
            "text/html": [
              "<div>\n",
              "<style scoped>\n",
              "    .dataframe tbody tr th:only-of-type {\n",
              "        vertical-align: middle;\n",
              "    }\n",
              "\n",
              "    .dataframe tbody tr th {\n",
              "        vertical-align: top;\n",
              "    }\n",
              "\n",
              "    .dataframe thead th {\n",
              "        text-align: right;\n",
              "    }\n",
              "</style>\n",
              "<table border=\"1\" class=\"dataframe\">\n",
              "  <thead>\n",
              "    <tr style=\"text-align: right;\">\n",
              "      <th></th>\n",
              "      <th>A</th>\n",
              "      <th>B</th>\n",
              "    </tr>\n",
              "  </thead>\n",
              "  <tbody>\n",
              "    <tr>\n",
              "      <td>K0</td>\n",
              "      <td>A0</td>\n",
              "      <td>B0</td>\n",
              "    </tr>\n",
              "    <tr>\n",
              "      <td>K1</td>\n",
              "      <td>A1</td>\n",
              "      <td>B1</td>\n",
              "    </tr>\n",
              "    <tr>\n",
              "      <td>K2</td>\n",
              "      <td>A2</td>\n",
              "      <td>B2</td>\n",
              "    </tr>\n",
              "  </tbody>\n",
              "</table>\n",
              "</div>"
            ],
            "text/plain": [
              "     A   B\n",
              "K0  A0  B0\n",
              "K1  A1  B1\n",
              "K2  A2  B2"
            ]
          },
          "metadata": {
            "tags": []
          },
          "execution_count": 103
        }
      ]
    },
    {
      "cell_type": "code",
      "metadata": {
        "id": "SKike40nkwLm",
        "outputId": "2fb8cefc-ab66-4257-91a5-63a487b35b6a"
      },
      "source": [
        "right"
      ],
      "execution_count": null,
      "outputs": [
        {
          "output_type": "execute_result",
          "data": {
            "text/html": [
              "<div>\n",
              "<style scoped>\n",
              "    .dataframe tbody tr th:only-of-type {\n",
              "        vertical-align: middle;\n",
              "    }\n",
              "\n",
              "    .dataframe tbody tr th {\n",
              "        vertical-align: top;\n",
              "    }\n",
              "\n",
              "    .dataframe thead th {\n",
              "        text-align: right;\n",
              "    }\n",
              "</style>\n",
              "<table border=\"1\" class=\"dataframe\">\n",
              "  <thead>\n",
              "    <tr style=\"text-align: right;\">\n",
              "      <th></th>\n",
              "      <th>C</th>\n",
              "      <th>D</th>\n",
              "    </tr>\n",
              "  </thead>\n",
              "  <tbody>\n",
              "    <tr>\n",
              "      <td>K0</td>\n",
              "      <td>C0</td>\n",
              "      <td>D0</td>\n",
              "    </tr>\n",
              "    <tr>\n",
              "      <td>K2</td>\n",
              "      <td>C2</td>\n",
              "      <td>D2</td>\n",
              "    </tr>\n",
              "    <tr>\n",
              "      <td>K3</td>\n",
              "      <td>C3</td>\n",
              "      <td>D3</td>\n",
              "    </tr>\n",
              "  </tbody>\n",
              "</table>\n",
              "</div>"
            ],
            "text/plain": [
              "     C   D\n",
              "K0  C0  D0\n",
              "K2  C2  D2\n",
              "K3  C3  D3"
            ]
          },
          "metadata": {
            "tags": []
          },
          "execution_count": 104
        }
      ]
    },
    {
      "cell_type": "code",
      "metadata": {
        "id": "OsVSjdp_kwLn",
        "outputId": "b062d1ed-5949-4b4d-f42d-2ef0e65a5e75"
      },
      "source": [
        "left.join(right)"
      ],
      "execution_count": null,
      "outputs": [
        {
          "output_type": "execute_result",
          "data": {
            "text/html": [
              "<div>\n",
              "<style scoped>\n",
              "    .dataframe tbody tr th:only-of-type {\n",
              "        vertical-align: middle;\n",
              "    }\n",
              "\n",
              "    .dataframe tbody tr th {\n",
              "        vertical-align: top;\n",
              "    }\n",
              "\n",
              "    .dataframe thead th {\n",
              "        text-align: right;\n",
              "    }\n",
              "</style>\n",
              "<table border=\"1\" class=\"dataframe\">\n",
              "  <thead>\n",
              "    <tr style=\"text-align: right;\">\n",
              "      <th></th>\n",
              "      <th>A</th>\n",
              "      <th>B</th>\n",
              "      <th>C</th>\n",
              "      <th>D</th>\n",
              "    </tr>\n",
              "  </thead>\n",
              "  <tbody>\n",
              "    <tr>\n",
              "      <th>K0</th>\n",
              "      <td>A0</td>\n",
              "      <td>B0</td>\n",
              "      <td>C0</td>\n",
              "      <td>D0</td>\n",
              "    </tr>\n",
              "    <tr>\n",
              "      <th>K1</th>\n",
              "      <td>A1</td>\n",
              "      <td>B1</td>\n",
              "      <td>NaN</td>\n",
              "      <td>NaN</td>\n",
              "    </tr>\n",
              "    <tr>\n",
              "      <th>K2</th>\n",
              "      <td>A2</td>\n",
              "      <td>B2</td>\n",
              "      <td>C2</td>\n",
              "      <td>D2</td>\n",
              "    </tr>\n",
              "  </tbody>\n",
              "</table>\n",
              "</div>"
            ],
            "text/plain": [
              "     A   B    C    D\n",
              "K0  A0  B0   C0   D0\n",
              "K1  A1  B1  NaN  NaN\n",
              "K2  A2  B2   C2   D2"
            ]
          },
          "metadata": {
            "tags": []
          },
          "execution_count": 44
        }
      ]
    },
    {
      "cell_type": "code",
      "metadata": {
        "id": "tf0vqDFUkwLn",
        "outputId": "9ca6ff9b-fb0b-4e6f-d8cb-80a6e2dd091c"
      },
      "source": [
        "left.join(right, how='outer')"
      ],
      "execution_count": null,
      "outputs": [
        {
          "output_type": "execute_result",
          "data": {
            "text/html": [
              "<div>\n",
              "<style scoped>\n",
              "    .dataframe tbody tr th:only-of-type {\n",
              "        vertical-align: middle;\n",
              "    }\n",
              "\n",
              "    .dataframe tbody tr th {\n",
              "        vertical-align: top;\n",
              "    }\n",
              "\n",
              "    .dataframe thead th {\n",
              "        text-align: right;\n",
              "    }\n",
              "</style>\n",
              "<table border=\"1\" class=\"dataframe\">\n",
              "  <thead>\n",
              "    <tr style=\"text-align: right;\">\n",
              "      <th></th>\n",
              "      <th>A</th>\n",
              "      <th>B</th>\n",
              "      <th>C</th>\n",
              "      <th>D</th>\n",
              "    </tr>\n",
              "  </thead>\n",
              "  <tbody>\n",
              "    <tr>\n",
              "      <th>K0</th>\n",
              "      <td>A0</td>\n",
              "      <td>B0</td>\n",
              "      <td>C0</td>\n",
              "      <td>D0</td>\n",
              "    </tr>\n",
              "    <tr>\n",
              "      <th>K1</th>\n",
              "      <td>A1</td>\n",
              "      <td>B1</td>\n",
              "      <td>NaN</td>\n",
              "      <td>NaN</td>\n",
              "    </tr>\n",
              "    <tr>\n",
              "      <th>K2</th>\n",
              "      <td>A2</td>\n",
              "      <td>B2</td>\n",
              "      <td>C2</td>\n",
              "      <td>D2</td>\n",
              "    </tr>\n",
              "    <tr>\n",
              "      <th>K3</th>\n",
              "      <td>NaN</td>\n",
              "      <td>NaN</td>\n",
              "      <td>C3</td>\n",
              "      <td>D3</td>\n",
              "    </tr>\n",
              "  </tbody>\n",
              "</table>\n",
              "</div>"
            ],
            "text/plain": [
              "      A    B    C    D\n",
              "K0   A0   B0   C0   D0\n",
              "K1   A1   B1  NaN  NaN\n",
              "K2   A2   B2   C2   D2\n",
              "K3  NaN  NaN   C3   D3"
            ]
          },
          "metadata": {
            "tags": []
          },
          "execution_count": 45
        }
      ]
    },
    {
      "cell_type": "code",
      "metadata": {
        "scrolled": true,
        "id": "q_ZUYPDvkwLo",
        "outputId": "7ddaed0c-bccf-486f-f428-61c96ca57f55"
      },
      "source": [
        "d1 = pd.DataFrame({'key1': ['K0', 'K1', 'K2', 'K3'],\n",
        "                     'A': ['A0', 'A1', 'A2', 'A3'],\n",
        "                     'B': ['B0', 'B1', 'B2', 'B3']})\n",
        "   \n",
        "d2 = pd.DataFrame({'key2': ['K0', 'K1', 'K2', 'K3'],\n",
        "                          'C': ['C0', 'C1', 'C2', 'C3'],\n",
        "                          'D': ['D0', 'D1', 'D2', 'D3']})\n",
        "d3 = pd.DataFrame({'key3': ['K0', 'K1', 'K2', 'K3'],\n",
        "                     'A': ['A0', 'A1', 'A2', 'A3'],\n",
        "                     'B': ['B0', 'B1', 'B2', 'B3']})\n",
        "df_cat1 = pd.concat([d1,d2,d3], axis=1)  \n",
        "df_cat1 = pd.concat([d1,d2,d3])\n",
        "merge1= pd.merge(d1,d2,how='outer',left_on='key1',right_on='key2')\n",
        "\n"
      ],
      "execution_count": null,
      "outputs": [
        {
          "output_type": "stream",
          "text": [
            "D:\\Anaconda3\\lib\\site-packages\\ipykernel_launcher.py:12: FutureWarning: Sorting because non-concatenation axis is not aligned. A future version\n",
            "of pandas will change to not sort by default.\n",
            "\n",
            "To accept the future behavior, pass 'sort=False'.\n",
            "\n",
            "To retain the current behavior and silence the warning, pass 'sort=True'.\n",
            "\n",
            "  if sys.path[0] == '':\n"
          ],
          "name": "stderr"
        }
      ]
    },
    {
      "cell_type": "code",
      "metadata": {
        "id": "5P4H3NBskwLp",
        "outputId": "54931dc6-00a1-4d27-a0a6-6ab39a059a97"
      },
      "source": [
        "merge1"
      ],
      "execution_count": null,
      "outputs": [
        {
          "output_type": "execute_result",
          "data": {
            "text/html": [
              "<div>\n",
              "<style scoped>\n",
              "    .dataframe tbody tr th:only-of-type {\n",
              "        vertical-align: middle;\n",
              "    }\n",
              "\n",
              "    .dataframe tbody tr th {\n",
              "        vertical-align: top;\n",
              "    }\n",
              "\n",
              "    .dataframe thead th {\n",
              "        text-align: right;\n",
              "    }\n",
              "</style>\n",
              "<table border=\"1\" class=\"dataframe\">\n",
              "  <thead>\n",
              "    <tr style=\"text-align: right;\">\n",
              "      <th></th>\n",
              "      <th>key1</th>\n",
              "      <th>A</th>\n",
              "      <th>B</th>\n",
              "      <th>key2</th>\n",
              "      <th>C</th>\n",
              "      <th>D</th>\n",
              "    </tr>\n",
              "  </thead>\n",
              "  <tbody>\n",
              "    <tr>\n",
              "      <td>0</td>\n",
              "      <td>K0</td>\n",
              "      <td>A0</td>\n",
              "      <td>B0</td>\n",
              "      <td>K0</td>\n",
              "      <td>C0</td>\n",
              "      <td>D0</td>\n",
              "    </tr>\n",
              "    <tr>\n",
              "      <td>1</td>\n",
              "      <td>K1</td>\n",
              "      <td>A1</td>\n",
              "      <td>B1</td>\n",
              "      <td>K1</td>\n",
              "      <td>C1</td>\n",
              "      <td>D1</td>\n",
              "    </tr>\n",
              "    <tr>\n",
              "      <td>2</td>\n",
              "      <td>K2</td>\n",
              "      <td>A2</td>\n",
              "      <td>B2</td>\n",
              "      <td>K2</td>\n",
              "      <td>C2</td>\n",
              "      <td>D2</td>\n",
              "    </tr>\n",
              "    <tr>\n",
              "      <td>3</td>\n",
              "      <td>K3</td>\n",
              "      <td>A3</td>\n",
              "      <td>B3</td>\n",
              "      <td>K3</td>\n",
              "      <td>C3</td>\n",
              "      <td>D3</td>\n",
              "    </tr>\n",
              "  </tbody>\n",
              "</table>\n",
              "</div>"
            ],
            "text/plain": [
              "  key1   A   B key2   C   D\n",
              "0   K0  A0  B0   K0  C0  D0\n",
              "1   K1  A1  B1   K1  C1  D1\n",
              "2   K2  A2  B2   K2  C2  D2\n",
              "3   K3  A3  B3   K3  C3  D3"
            ]
          },
          "metadata": {
            "tags": []
          },
          "execution_count": 109
        }
      ]
    },
    {
      "cell_type": "code",
      "metadata": {
        "id": "K_bsrySCkwLq",
        "outputId": "081f3651-0bb7-4144-e0ab-bdc6bce8f155"
      },
      "source": [
        "df_cat1 = pd.concat([d1,d2,d3])"
      ],
      "execution_count": null,
      "outputs": [
        {
          "output_type": "stream",
          "text": [
            "D:\\Anaconda3\\lib\\site-packages\\ipykernel_launcher.py:1: FutureWarning: Sorting because non-concatenation axis is not aligned. A future version\n",
            "of pandas will change to not sort by default.\n",
            "\n",
            "To accept the future behavior, pass 'sort=False'.\n",
            "\n",
            "To retain the current behavior and silence the warning, pass 'sort=True'.\n",
            "\n",
            "  \"\"\"Entry point for launching an IPython kernel.\n"
          ],
          "name": "stderr"
        }
      ]
    },
    {
      "cell_type": "code",
      "metadata": {
        "id": "4QktihOrkwLr"
      },
      "source": [
        "df_cat1 = pd.concat([d1,d2,d3], axis=1)  "
      ],
      "execution_count": null,
      "outputs": []
    },
    {
      "cell_type": "code",
      "metadata": {
        "id": "taPTpIfOkwLr"
      },
      "source": [
        "# use of apply functions"
      ],
      "execution_count": null,
      "outputs": []
    },
    {
      "cell_type": "code",
      "metadata": {
        "id": "fWjic0HykwLs"
      },
      "source": [
        "# Define a function\n",
        "def testfunc(x):\n",
        "    if (x> 500):\n",
        "        return (10*np.log10(x))\n",
        "    else:\n",
        "        return (x/10)"
      ],
      "execution_count": null,
      "outputs": []
    },
    {
      "cell_type": "code",
      "metadata": {
        "id": "UQ827CIdkwLs",
        "outputId": "b680c3cb-e221-4de6-db59-50c74597d056"
      },
      "source": [
        "df = pd.DataFrame({'col1':[1,2,3,4,5,6,7,8,9,10],\n",
        "                   'col2':[444,555,666,444,333,222,666,777,666,555],\n",
        "                   'col3':'aaa bb c dd eeee fff gg h iii j'.split()})\n",
        "df.columns"
      ],
      "execution_count": null,
      "outputs": [
        {
          "output_type": "execute_result",
          "data": {
            "text/plain": [
              "Index(['col1', 'col2', 'col3'], dtype='object')"
            ]
          },
          "metadata": {
            "tags": []
          },
          "execution_count": 142
        }
      ]
    },
    {
      "cell_type": "code",
      "metadata": {
        "id": "6mfbpUP8kwLt",
        "outputId": "1c6ce801-4f7f-4242-cc63-9b96c604ae1f"
      },
      "source": [
        "df['col20'] = df['col2'].apply(testfunc)\n",
        "df"
      ],
      "execution_count": null,
      "outputs": [
        {
          "output_type": "execute_result",
          "data": {
            "text/html": [
              "<div>\n",
              "<style scoped>\n",
              "    .dataframe tbody tr th:only-of-type {\n",
              "        vertical-align: middle;\n",
              "    }\n",
              "\n",
              "    .dataframe tbody tr th {\n",
              "        vertical-align: top;\n",
              "    }\n",
              "\n",
              "    .dataframe thead th {\n",
              "        text-align: right;\n",
              "    }\n",
              "</style>\n",
              "<table border=\"1\" class=\"dataframe\">\n",
              "  <thead>\n",
              "    <tr style=\"text-align: right;\">\n",
              "      <th></th>\n",
              "      <th>col1</th>\n",
              "      <th>col2</th>\n",
              "      <th>col3</th>\n",
              "      <th>col20</th>\n",
              "    </tr>\n",
              "  </thead>\n",
              "  <tbody>\n",
              "    <tr>\n",
              "      <td>0</td>\n",
              "      <td>1</td>\n",
              "      <td>444</td>\n",
              "      <td>aaa</td>\n",
              "      <td>44.400000</td>\n",
              "    </tr>\n",
              "    <tr>\n",
              "      <td>1</td>\n",
              "      <td>2</td>\n",
              "      <td>555</td>\n",
              "      <td>bb</td>\n",
              "      <td>27.442930</td>\n",
              "    </tr>\n",
              "    <tr>\n",
              "      <td>2</td>\n",
              "      <td>3</td>\n",
              "      <td>666</td>\n",
              "      <td>c</td>\n",
              "      <td>28.234742</td>\n",
              "    </tr>\n",
              "    <tr>\n",
              "      <td>3</td>\n",
              "      <td>4</td>\n",
              "      <td>444</td>\n",
              "      <td>dd</td>\n",
              "      <td>44.400000</td>\n",
              "    </tr>\n",
              "    <tr>\n",
              "      <td>4</td>\n",
              "      <td>5</td>\n",
              "      <td>333</td>\n",
              "      <td>eeee</td>\n",
              "      <td>33.300000</td>\n",
              "    </tr>\n",
              "    <tr>\n",
              "      <td>5</td>\n",
              "      <td>6</td>\n",
              "      <td>222</td>\n",
              "      <td>fff</td>\n",
              "      <td>22.200000</td>\n",
              "    </tr>\n",
              "    <tr>\n",
              "      <td>6</td>\n",
              "      <td>7</td>\n",
              "      <td>666</td>\n",
              "      <td>gg</td>\n",
              "      <td>28.234742</td>\n",
              "    </tr>\n",
              "    <tr>\n",
              "      <td>7</td>\n",
              "      <td>8</td>\n",
              "      <td>777</td>\n",
              "      <td>h</td>\n",
              "      <td>28.904210</td>\n",
              "    </tr>\n",
              "    <tr>\n",
              "      <td>8</td>\n",
              "      <td>9</td>\n",
              "      <td>666</td>\n",
              "      <td>iii</td>\n",
              "      <td>28.234742</td>\n",
              "    </tr>\n",
              "    <tr>\n",
              "      <td>9</td>\n",
              "      <td>10</td>\n",
              "      <td>555</td>\n",
              "      <td>j</td>\n",
              "      <td>27.442930</td>\n",
              "    </tr>\n",
              "  </tbody>\n",
              "</table>\n",
              "</div>"
            ],
            "text/plain": [
              "   col1  col2  col3      col20\n",
              "0     1   444   aaa  44.400000\n",
              "1     2   555    bb  27.442930\n",
              "2     3   666     c  28.234742\n",
              "3     4   444    dd  44.400000\n",
              "4     5   333  eeee  33.300000\n",
              "5     6   222   fff  22.200000\n",
              "6     7   666    gg  28.234742\n",
              "7     8   777     h  28.904210\n",
              "8     9   666   iii  28.234742\n",
              "9    10   555     j  27.442930"
            ]
          },
          "metadata": {
            "tags": []
          },
          "execution_count": 141
        }
      ]
    },
    {
      "cell_type": "code",
      "metadata": {
        "id": "QpUuoKtDkwLu",
        "outputId": "aec13116-d5e8-417d-9dd1-8d8c644cd810"
      },
      "source": [
        "df['FuncApplied'] = df['col2'].apply(lambda x : np.log(x))\n",
        "print(df)"
      ],
      "execution_count": null,
      "outputs": [
        {
          "output_type": "stream",
          "text": [
            "   col1  col2  col3  FuncApplied\n",
            "0     1   444   aaa     6.095825\n",
            "1     2   555    bb     6.318968\n",
            "2     3   666     c     6.501290\n",
            "3     4   444    dd     6.095825\n",
            "4     5   333  eeee     5.808142\n",
            "5     6   222   fff     5.402677\n",
            "6     7   666    gg     6.501290\n",
            "7     8   777     h     6.655440\n",
            "8     9   666   iii     6.501290\n",
            "9    10   555     j     6.318968\n"
          ],
          "name": "stdout"
        }
      ]
    },
    {
      "cell_type": "code",
      "metadata": {
        "id": "k3nPbDk7kwLx",
        "outputId": "3b231255-8191-47f6-f4e1-47c099e1c95a"
      },
      "source": [
        "df['col3length']= df['col3'].apply(len)\n",
        "print(df)"
      ],
      "execution_count": null,
      "outputs": [
        {
          "output_type": "stream",
          "text": [
            "   col1  col2  col3  col10      col20  FuncApplied  col3length\n",
            "0     1   444   aaa     10  44.400000     6.095825           3\n",
            "1     2   555    bb     20  27.442930     6.318968           2\n",
            "2     3   666     c     30  28.234742     6.501290           1\n",
            "3     4   444    dd     40  44.400000     6.095825           2\n",
            "4     5   333  eeee     50  33.300000     5.808142           4\n",
            "5     6   222   fff     60  22.200000     5.402677           3\n",
            "6     7   666    gg     70  28.234742     6.501290           2\n",
            "7     8   777     h     80  28.904210     6.655440           1\n",
            "8     9   666   iii     90  28.234742     6.501290           3\n",
            "9    10   555     j    100  27.442930     6.318968           1\n"
          ],
          "name": "stdout"
        }
      ]
    },
    {
      "cell_type": "code",
      "metadata": {
        "id": "hqW-OcFZkwLy",
        "outputId": "5c5182fe-435f-413d-a25d-14131fb16fd1"
      },
      "source": [
        "df['test']= df['FuncApplied'].apply(lambda x: np.sqrt(x))\n",
        "df"
      ],
      "execution_count": null,
      "outputs": [
        {
          "output_type": "execute_result",
          "data": {
            "text/html": [
              "<div>\n",
              "<style scoped>\n",
              "    .dataframe tbody tr th:only-of-type {\n",
              "        vertical-align: middle;\n",
              "    }\n",
              "\n",
              "    .dataframe tbody tr th {\n",
              "        vertical-align: top;\n",
              "    }\n",
              "\n",
              "    .dataframe thead th {\n",
              "        text-align: right;\n",
              "    }\n",
              "</style>\n",
              "<table border=\"1\" class=\"dataframe\">\n",
              "  <thead>\n",
              "    <tr style=\"text-align: right;\">\n",
              "      <th></th>\n",
              "      <th>col1</th>\n",
              "      <th>col2</th>\n",
              "      <th>col3</th>\n",
              "      <th>col10</th>\n",
              "      <th>col20</th>\n",
              "      <th>FuncApplied</th>\n",
              "      <th>col3length</th>\n",
              "      <th>test</th>\n",
              "    </tr>\n",
              "  </thead>\n",
              "  <tbody>\n",
              "    <tr>\n",
              "      <td>0</td>\n",
              "      <td>1</td>\n",
              "      <td>444</td>\n",
              "      <td>aaa</td>\n",
              "      <td>10</td>\n",
              "      <td>44.400000</td>\n",
              "      <td>6.095825</td>\n",
              "      <td>3</td>\n",
              "      <td>2.468972</td>\n",
              "    </tr>\n",
              "    <tr>\n",
              "      <td>1</td>\n",
              "      <td>2</td>\n",
              "      <td>555</td>\n",
              "      <td>bb</td>\n",
              "      <td>20</td>\n",
              "      <td>27.442930</td>\n",
              "      <td>6.318968</td>\n",
              "      <td>2</td>\n",
              "      <td>2.513756</td>\n",
              "    </tr>\n",
              "    <tr>\n",
              "      <td>2</td>\n",
              "      <td>3</td>\n",
              "      <td>666</td>\n",
              "      <td>c</td>\n",
              "      <td>30</td>\n",
              "      <td>28.234742</td>\n",
              "      <td>6.501290</td>\n",
              "      <td>1</td>\n",
              "      <td>2.549763</td>\n",
              "    </tr>\n",
              "    <tr>\n",
              "      <td>3</td>\n",
              "      <td>4</td>\n",
              "      <td>444</td>\n",
              "      <td>dd</td>\n",
              "      <td>40</td>\n",
              "      <td>44.400000</td>\n",
              "      <td>6.095825</td>\n",
              "      <td>2</td>\n",
              "      <td>2.468972</td>\n",
              "    </tr>\n",
              "    <tr>\n",
              "      <td>4</td>\n",
              "      <td>5</td>\n",
              "      <td>333</td>\n",
              "      <td>eeee</td>\n",
              "      <td>50</td>\n",
              "      <td>33.300000</td>\n",
              "      <td>5.808142</td>\n",
              "      <td>4</td>\n",
              "      <td>2.410009</td>\n",
              "    </tr>\n",
              "    <tr>\n",
              "      <td>5</td>\n",
              "      <td>6</td>\n",
              "      <td>222</td>\n",
              "      <td>fff</td>\n",
              "      <td>60</td>\n",
              "      <td>22.200000</td>\n",
              "      <td>5.402677</td>\n",
              "      <td>3</td>\n",
              "      <td>2.324366</td>\n",
              "    </tr>\n",
              "    <tr>\n",
              "      <td>6</td>\n",
              "      <td>7</td>\n",
              "      <td>666</td>\n",
              "      <td>gg</td>\n",
              "      <td>70</td>\n",
              "      <td>28.234742</td>\n",
              "      <td>6.501290</td>\n",
              "      <td>2</td>\n",
              "      <td>2.549763</td>\n",
              "    </tr>\n",
              "    <tr>\n",
              "      <td>7</td>\n",
              "      <td>8</td>\n",
              "      <td>777</td>\n",
              "      <td>h</td>\n",
              "      <td>80</td>\n",
              "      <td>28.904210</td>\n",
              "      <td>6.655440</td>\n",
              "      <td>1</td>\n",
              "      <td>2.579814</td>\n",
              "    </tr>\n",
              "    <tr>\n",
              "      <td>8</td>\n",
              "      <td>9</td>\n",
              "      <td>666</td>\n",
              "      <td>iii</td>\n",
              "      <td>90</td>\n",
              "      <td>28.234742</td>\n",
              "      <td>6.501290</td>\n",
              "      <td>3</td>\n",
              "      <td>2.549763</td>\n",
              "    </tr>\n",
              "    <tr>\n",
              "      <td>9</td>\n",
              "      <td>10</td>\n",
              "      <td>555</td>\n",
              "      <td>j</td>\n",
              "      <td>100</td>\n",
              "      <td>27.442930</td>\n",
              "      <td>6.318968</td>\n",
              "      <td>1</td>\n",
              "      <td>2.513756</td>\n",
              "    </tr>\n",
              "  </tbody>\n",
              "</table>\n",
              "</div>"
            ],
            "text/plain": [
              "   col1  col2  col3  col10      col20  FuncApplied  col3length      test\n",
              "0     1   444   aaa     10  44.400000     6.095825           3  2.468972\n",
              "1     2   555    bb     20  27.442930     6.318968           2  2.513756\n",
              "2     3   666     c     30  28.234742     6.501290           1  2.549763\n",
              "3     4   444    dd     40  44.400000     6.095825           2  2.468972\n",
              "4     5   333  eeee     50  33.300000     5.808142           4  2.410009\n",
              "5     6   222   fff     60  22.200000     5.402677           3  2.324366\n",
              "6     7   666    gg     70  28.234742     6.501290           2  2.549763\n",
              "7     8   777     h     80  28.904210     6.655440           1  2.579814\n",
              "8     9   666   iii     90  28.234742     6.501290           3  2.549763\n",
              "9    10   555     j    100  27.442930     6.318968           1  2.513756"
            ]
          },
          "metadata": {
            "tags": []
          },
          "execution_count": 125
        }
      ]
    },
    {
      "cell_type": "code",
      "metadata": {
        "id": "6cogxw_FkwLy",
        "outputId": "3d5c3611-5f7b-478c-b0a1-3a2b74b32663"
      },
      "source": [
        "print(\"\\nSum of the column 'FuncApplied' is: \",df['FuncApplied'].sum())\n"
      ],
      "execution_count": null,
      "outputs": [
        {
          "output_type": "stream",
          "text": [
            "\n",
            "Sum of the column 'FuncApplied' is:  62.19971458619886\n"
          ],
          "name": "stdout"
        }
      ]
    },
    {
      "cell_type": "code",
      "metadata": {
        "id": "03KHTm5skwLy",
        "outputId": "47b4d356-f5ff-4a81-9ec1-25705ddeedca"
      },
      "source": [
        "print(\"Mean of the column 'FuncApplied' is: \",df['FuncApplied'].mean())\n"
      ],
      "execution_count": null,
      "outputs": [
        {
          "output_type": "stream",
          "text": [
            "Mean of the column 'FuncApplied' is:  6.219971458619886\n"
          ],
          "name": "stdout"
        }
      ]
    },
    {
      "cell_type": "code",
      "metadata": {
        "id": "Okcbi-xJkwLz",
        "outputId": "1a593ecd-8f40-4699-e54b-4c7cf05773ef"
      },
      "source": [
        "print(\"Std dev of the column 'FuncApplied' is: \",df['FuncApplied'].std())\n"
      ],
      "execution_count": null,
      "outputs": [
        {
          "output_type": "stream",
          "text": [
            "Std dev of the column 'FuncApplied' is:  0.3822522801574853\n"
          ],
          "name": "stdout"
        }
      ]
    },
    {
      "cell_type": "code",
      "metadata": {
        "id": "ksSmkl5WkwLz",
        "outputId": "eb447993-4d21-47e3-b3d0-f2d12251860e"
      },
      "source": [
        "print(\"Min and max of the column 'FuncApplied' are: \",df['FuncApplied'].min(),\"and\",df['FuncApplied'].max())"
      ],
      "execution_count": null,
      "outputs": [
        {
          "output_type": "stream",
          "text": [
            "Min and max of the column 'FuncApplied' are:  5.402677381872279 and 6.655440350367647\n"
          ],
          "name": "stdout"
        }
      ]
    },
    {
      "cell_type": "code",
      "metadata": {
        "id": "F_8Rd9RskwLz"
      },
      "source": [
        "### Deletion, sorting, list of column and row names"
      ],
      "execution_count": null,
      "outputs": []
    },
    {
      "cell_type": "code",
      "metadata": {
        "id": "qVIMlGxVkwL0",
        "outputId": "3ef0fcb7-3c5e-406f-f48a-d2255e61f791"
      },
      "source": [
        "print(\"\\nName of columns\\n\",'-'*20, sep='')\n",
        "print(df.columns)\n"
      ],
      "execution_count": null,
      "outputs": [
        {
          "output_type": "stream",
          "text": [
            "\n",
            "Name of columns\n",
            "--------------------\n",
            "Index(['col1', 'col2', 'col3', 'FuncApplied', 'col3length'], dtype='object')\n"
          ],
          "name": "stdout"
        }
      ]
    },
    {
      "cell_type": "code",
      "metadata": {
        "id": "8UpDWT_RkwL0",
        "outputId": "9fd25892-86da-44c4-851a-f1d31f0e500a"
      },
      "source": [
        "l = list(df.columns)\n",
        "print(\"\\nColumn names in a list of strings for later manipulation:\",l)"
      ],
      "execution_count": null,
      "outputs": [
        {
          "output_type": "stream",
          "text": [
            "\n",
            "Column names in a list of strings for later manipulation: ['col1', 'col2', 'col3', 'FuncApplied', 'col3length']\n"
          ],
          "name": "stdout"
        }
      ]
    },
    {
      "cell_type": "code",
      "metadata": {
        "id": "dH0gqmaYkwL0",
        "outputId": "52af74e0-ceb4-4dc7-b7e5-b644213c9115"
      },
      "source": [
        "print(\"\\nDeleting last column by 'del' command\\n\",'-'*50, sep='')\n",
        "del df['col3length']\n",
        "print(df)\n",
        "df['col3length']= df['col3'].apply(len)"
      ],
      "execution_count": null,
      "outputs": [
        {
          "output_type": "stream",
          "text": [
            "\n",
            "Deleting last column by 'del' command\n",
            "--------------------------------------------------\n",
            "   col1  col2  col3  FuncApplied\n",
            "0     1   444   aaa     6.095825\n",
            "1     2   555    bb     6.318968\n",
            "2     3   666     c     6.501290\n",
            "3     4   444    dd     6.095825\n",
            "4     5   333  eeee     5.808142\n",
            "5     6   222   fff     5.402677\n",
            "6     7   666    gg     6.501290\n",
            "7     8   777     h     6.655440\n",
            "8     9   666   iii     6.501290\n",
            "9    10   555     j     6.318968\n"
          ],
          "name": "stdout"
        }
      ]
    },
    {
      "cell_type": "code",
      "metadata": {
        "id": "T3wHs85akwL1",
        "outputId": "8587d749-68b6-4951-b373-7e830e4eff3f"
      },
      "source": [
        "df.sort_values(by='col2') #inplace=False by default"
      ],
      "execution_count": null,
      "outputs": [
        {
          "output_type": "execute_result",
          "data": {
            "text/html": [
              "<div>\n",
              "<style scoped>\n",
              "    .dataframe tbody tr th:only-of-type {\n",
              "        vertical-align: middle;\n",
              "    }\n",
              "\n",
              "    .dataframe tbody tr th {\n",
              "        vertical-align: top;\n",
              "    }\n",
              "\n",
              "    .dataframe thead th {\n",
              "        text-align: right;\n",
              "    }\n",
              "</style>\n",
              "<table border=\"1\" class=\"dataframe\">\n",
              "  <thead>\n",
              "    <tr style=\"text-align: right;\">\n",
              "      <th></th>\n",
              "      <th>col1</th>\n",
              "      <th>col2</th>\n",
              "      <th>col3</th>\n",
              "      <th>FuncApplied</th>\n",
              "      <th>col3length</th>\n",
              "    </tr>\n",
              "  </thead>\n",
              "  <tbody>\n",
              "    <tr>\n",
              "      <th>5</th>\n",
              "      <td>6</td>\n",
              "      <td>222</td>\n",
              "      <td>fff</td>\n",
              "      <td>5.402677</td>\n",
              "      <td>3</td>\n",
              "    </tr>\n",
              "    <tr>\n",
              "      <th>4</th>\n",
              "      <td>5</td>\n",
              "      <td>333</td>\n",
              "      <td>eeee</td>\n",
              "      <td>5.808142</td>\n",
              "      <td>4</td>\n",
              "    </tr>\n",
              "    <tr>\n",
              "      <th>0</th>\n",
              "      <td>1</td>\n",
              "      <td>444</td>\n",
              "      <td>aaa</td>\n",
              "      <td>6.095825</td>\n",
              "      <td>3</td>\n",
              "    </tr>\n",
              "    <tr>\n",
              "      <th>3</th>\n",
              "      <td>4</td>\n",
              "      <td>444</td>\n",
              "      <td>dd</td>\n",
              "      <td>6.095825</td>\n",
              "      <td>2</td>\n",
              "    </tr>\n",
              "    <tr>\n",
              "      <th>1</th>\n",
              "      <td>2</td>\n",
              "      <td>555</td>\n",
              "      <td>bb</td>\n",
              "      <td>6.318968</td>\n",
              "      <td>2</td>\n",
              "    </tr>\n",
              "    <tr>\n",
              "      <th>9</th>\n",
              "      <td>10</td>\n",
              "      <td>555</td>\n",
              "      <td>j</td>\n",
              "      <td>6.318968</td>\n",
              "      <td>1</td>\n",
              "    </tr>\n",
              "    <tr>\n",
              "      <th>2</th>\n",
              "      <td>3</td>\n",
              "      <td>666</td>\n",
              "      <td>c</td>\n",
              "      <td>6.501290</td>\n",
              "      <td>1</td>\n",
              "    </tr>\n",
              "    <tr>\n",
              "      <th>6</th>\n",
              "      <td>7</td>\n",
              "      <td>666</td>\n",
              "      <td>gg</td>\n",
              "      <td>6.501290</td>\n",
              "      <td>2</td>\n",
              "    </tr>\n",
              "    <tr>\n",
              "      <th>8</th>\n",
              "      <td>9</td>\n",
              "      <td>666</td>\n",
              "      <td>iii</td>\n",
              "      <td>6.501290</td>\n",
              "      <td>3</td>\n",
              "    </tr>\n",
              "    <tr>\n",
              "      <th>7</th>\n",
              "      <td>8</td>\n",
              "      <td>777</td>\n",
              "      <td>h</td>\n",
              "      <td>6.655440</td>\n",
              "      <td>1</td>\n",
              "    </tr>\n",
              "  </tbody>\n",
              "</table>\n",
              "</div>"
            ],
            "text/plain": [
              "   col1  col2  col3  FuncApplied  col3length\n",
              "5     6   222   fff     5.402677           3\n",
              "4     5   333  eeee     5.808142           4\n",
              "0     1   444   aaa     6.095825           3\n",
              "3     4   444    dd     6.095825           2\n",
              "1     2   555    bb     6.318968           2\n",
              "9    10   555     j     6.318968           1\n",
              "2     3   666     c     6.501290           1\n",
              "6     7   666    gg     6.501290           2\n",
              "8     9   666   iii     6.501290           3\n",
              "7     8   777     h     6.655440           1"
            ]
          },
          "metadata": {
            "tags": []
          },
          "execution_count": 60
        }
      ]
    },
    {
      "cell_type": "code",
      "metadata": {
        "id": "za60H8rjkwL1",
        "outputId": "922e1dfe-2830-428c-9451-e52686a88b6c"
      },
      "source": [
        "df.sort_values(by='FuncApplied',ascending=False) #inplace=False by default"
      ],
      "execution_count": null,
      "outputs": [
        {
          "output_type": "execute_result",
          "data": {
            "text/html": [
              "<div>\n",
              "<style scoped>\n",
              "    .dataframe tbody tr th:only-of-type {\n",
              "        vertical-align: middle;\n",
              "    }\n",
              "\n",
              "    .dataframe tbody tr th {\n",
              "        vertical-align: top;\n",
              "    }\n",
              "\n",
              "    .dataframe thead th {\n",
              "        text-align: right;\n",
              "    }\n",
              "</style>\n",
              "<table border=\"1\" class=\"dataframe\">\n",
              "  <thead>\n",
              "    <tr style=\"text-align: right;\">\n",
              "      <th></th>\n",
              "      <th>col1</th>\n",
              "      <th>col2</th>\n",
              "      <th>col3</th>\n",
              "      <th>FuncApplied</th>\n",
              "      <th>col3length</th>\n",
              "    </tr>\n",
              "  </thead>\n",
              "  <tbody>\n",
              "    <tr>\n",
              "      <th>7</th>\n",
              "      <td>8</td>\n",
              "      <td>777</td>\n",
              "      <td>h</td>\n",
              "      <td>6.655440</td>\n",
              "      <td>1</td>\n",
              "    </tr>\n",
              "    <tr>\n",
              "      <th>2</th>\n",
              "      <td>3</td>\n",
              "      <td>666</td>\n",
              "      <td>c</td>\n",
              "      <td>6.501290</td>\n",
              "      <td>1</td>\n",
              "    </tr>\n",
              "    <tr>\n",
              "      <th>6</th>\n",
              "      <td>7</td>\n",
              "      <td>666</td>\n",
              "      <td>gg</td>\n",
              "      <td>6.501290</td>\n",
              "      <td>2</td>\n",
              "    </tr>\n",
              "    <tr>\n",
              "      <th>8</th>\n",
              "      <td>9</td>\n",
              "      <td>666</td>\n",
              "      <td>iii</td>\n",
              "      <td>6.501290</td>\n",
              "      <td>3</td>\n",
              "    </tr>\n",
              "    <tr>\n",
              "      <th>1</th>\n",
              "      <td>2</td>\n",
              "      <td>555</td>\n",
              "      <td>bb</td>\n",
              "      <td>6.318968</td>\n",
              "      <td>2</td>\n",
              "    </tr>\n",
              "    <tr>\n",
              "      <th>9</th>\n",
              "      <td>10</td>\n",
              "      <td>555</td>\n",
              "      <td>j</td>\n",
              "      <td>6.318968</td>\n",
              "      <td>1</td>\n",
              "    </tr>\n",
              "    <tr>\n",
              "      <th>0</th>\n",
              "      <td>1</td>\n",
              "      <td>444</td>\n",
              "      <td>aaa</td>\n",
              "      <td>6.095825</td>\n",
              "      <td>3</td>\n",
              "    </tr>\n",
              "    <tr>\n",
              "      <th>3</th>\n",
              "      <td>4</td>\n",
              "      <td>444</td>\n",
              "      <td>dd</td>\n",
              "      <td>6.095825</td>\n",
              "      <td>2</td>\n",
              "    </tr>\n",
              "    <tr>\n",
              "      <th>4</th>\n",
              "      <td>5</td>\n",
              "      <td>333</td>\n",
              "      <td>eeee</td>\n",
              "      <td>5.808142</td>\n",
              "      <td>4</td>\n",
              "    </tr>\n",
              "    <tr>\n",
              "      <th>5</th>\n",
              "      <td>6</td>\n",
              "      <td>222</td>\n",
              "      <td>fff</td>\n",
              "      <td>5.402677</td>\n",
              "      <td>3</td>\n",
              "    </tr>\n",
              "  </tbody>\n",
              "</table>\n",
              "</div>"
            ],
            "text/plain": [
              "   col1  col2  col3  FuncApplied  col3length\n",
              "7     8   777     h     6.655440           1\n",
              "2     3   666     c     6.501290           1\n",
              "6     7   666    gg     6.501290           2\n",
              "8     9   666   iii     6.501290           3\n",
              "1     2   555    bb     6.318968           2\n",
              "9    10   555     j     6.318968           1\n",
              "0     1   444   aaa     6.095825           3\n",
              "3     4   444    dd     6.095825           2\n",
              "4     5   333  eeee     5.808142           4\n",
              "5     6   222   fff     5.402677           3"
            ]
          },
          "metadata": {
            "tags": []
          },
          "execution_count": 61
        }
      ]
    },
    {
      "cell_type": "code",
      "metadata": {
        "id": "PpOX9q23kwL2",
        "outputId": "70da4b1b-d3fd-42f4-8f34-b5a18685a88a"
      },
      "source": [
        "df = pd.DataFrame({'col1':[1,2,3,np.nan],\n",
        "                   'col2':[None,555,666,444],\n",
        "                   'col3':['abc','def','ghi','xyz']})\n",
        "df.head()"
      ],
      "execution_count": null,
      "outputs": [
        {
          "output_type": "execute_result",
          "data": {
            "text/html": [
              "<div>\n",
              "<style scoped>\n",
              "    .dataframe tbody tr th:only-of-type {\n",
              "        vertical-align: middle;\n",
              "    }\n",
              "\n",
              "    .dataframe tbody tr th {\n",
              "        vertical-align: top;\n",
              "    }\n",
              "\n",
              "    .dataframe thead th {\n",
              "        text-align: right;\n",
              "    }\n",
              "</style>\n",
              "<table border=\"1\" class=\"dataframe\">\n",
              "  <thead>\n",
              "    <tr style=\"text-align: right;\">\n",
              "      <th></th>\n",
              "      <th>col1</th>\n",
              "      <th>col2</th>\n",
              "      <th>col3</th>\n",
              "    </tr>\n",
              "  </thead>\n",
              "  <tbody>\n",
              "    <tr>\n",
              "      <td>0</td>\n",
              "      <td>1.0</td>\n",
              "      <td>NaN</td>\n",
              "      <td>abc</td>\n",
              "    </tr>\n",
              "    <tr>\n",
              "      <td>1</td>\n",
              "      <td>2.0</td>\n",
              "      <td>555.0</td>\n",
              "      <td>def</td>\n",
              "    </tr>\n",
              "    <tr>\n",
              "      <td>2</td>\n",
              "      <td>3.0</td>\n",
              "      <td>666.0</td>\n",
              "      <td>ghi</td>\n",
              "    </tr>\n",
              "    <tr>\n",
              "      <td>3</td>\n",
              "      <td>NaN</td>\n",
              "      <td>444.0</td>\n",
              "      <td>xyz</td>\n",
              "    </tr>\n",
              "  </tbody>\n",
              "</table>\n",
              "</div>"
            ],
            "text/plain": [
              "   col1   col2 col3\n",
              "0   1.0    NaN  abc\n",
              "1   2.0  555.0  def\n",
              "2   3.0  666.0  ghi\n",
              "3   NaN  444.0  xyz"
            ]
          },
          "metadata": {
            "tags": []
          },
          "execution_count": 127
        }
      ]
    },
    {
      "cell_type": "code",
      "metadata": {
        "id": "iEW78gWjkwL2",
        "outputId": "755189a0-f68a-4a1f-9253-a5869d01dab3"
      },
      "source": [
        "df.isnull()"
      ],
      "execution_count": null,
      "outputs": [
        {
          "output_type": "execute_result",
          "data": {
            "text/html": [
              "<div>\n",
              "<style scoped>\n",
              "    .dataframe tbody tr th:only-of-type {\n",
              "        vertical-align: middle;\n",
              "    }\n",
              "\n",
              "    .dataframe tbody tr th {\n",
              "        vertical-align: top;\n",
              "    }\n",
              "\n",
              "    .dataframe thead th {\n",
              "        text-align: right;\n",
              "    }\n",
              "</style>\n",
              "<table border=\"1\" class=\"dataframe\">\n",
              "  <thead>\n",
              "    <tr style=\"text-align: right;\">\n",
              "      <th></th>\n",
              "      <th>col1</th>\n",
              "      <th>col2</th>\n",
              "      <th>col3</th>\n",
              "    </tr>\n",
              "  </thead>\n",
              "  <tbody>\n",
              "    <tr>\n",
              "      <td>0</td>\n",
              "      <td>False</td>\n",
              "      <td>True</td>\n",
              "      <td>False</td>\n",
              "    </tr>\n",
              "    <tr>\n",
              "      <td>1</td>\n",
              "      <td>False</td>\n",
              "      <td>False</td>\n",
              "      <td>False</td>\n",
              "    </tr>\n",
              "    <tr>\n",
              "      <td>2</td>\n",
              "      <td>False</td>\n",
              "      <td>False</td>\n",
              "      <td>False</td>\n",
              "    </tr>\n",
              "    <tr>\n",
              "      <td>3</td>\n",
              "      <td>True</td>\n",
              "      <td>False</td>\n",
              "      <td>False</td>\n",
              "    </tr>\n",
              "  </tbody>\n",
              "</table>\n",
              "</div>"
            ],
            "text/plain": [
              "    col1   col2   col3\n",
              "0  False   True  False\n",
              "1  False  False  False\n",
              "2  False  False  False\n",
              "3   True  False  False"
            ]
          },
          "metadata": {
            "tags": []
          },
          "execution_count": 128
        }
      ]
    },
    {
      "cell_type": "code",
      "metadata": {
        "id": "WN_tMDkEkwL2",
        "outputId": "121a7dda-7ff4-471a-f52a-031c7d115ab2"
      },
      "source": [
        "df.fillna('FILL')"
      ],
      "execution_count": null,
      "outputs": [
        {
          "output_type": "execute_result",
          "data": {
            "text/html": [
              "<div>\n",
              "<style scoped>\n",
              "    .dataframe tbody tr th:only-of-type {\n",
              "        vertical-align: middle;\n",
              "    }\n",
              "\n",
              "    .dataframe tbody tr th {\n",
              "        vertical-align: top;\n",
              "    }\n",
              "\n",
              "    .dataframe thead th {\n",
              "        text-align: right;\n",
              "    }\n",
              "</style>\n",
              "<table border=\"1\" class=\"dataframe\">\n",
              "  <thead>\n",
              "    <tr style=\"text-align: right;\">\n",
              "      <th></th>\n",
              "      <th>col1</th>\n",
              "      <th>col2</th>\n",
              "      <th>col3</th>\n",
              "    </tr>\n",
              "  </thead>\n",
              "  <tbody>\n",
              "    <tr>\n",
              "      <td>0</td>\n",
              "      <td>1</td>\n",
              "      <td>FILL</td>\n",
              "      <td>abc</td>\n",
              "    </tr>\n",
              "    <tr>\n",
              "      <td>1</td>\n",
              "      <td>2</td>\n",
              "      <td>555</td>\n",
              "      <td>def</td>\n",
              "    </tr>\n",
              "    <tr>\n",
              "      <td>2</td>\n",
              "      <td>3</td>\n",
              "      <td>666</td>\n",
              "      <td>ghi</td>\n",
              "    </tr>\n",
              "    <tr>\n",
              "      <td>3</td>\n",
              "      <td>FILL</td>\n",
              "      <td>444</td>\n",
              "      <td>xyz</td>\n",
              "    </tr>\n",
              "  </tbody>\n",
              "</table>\n",
              "</div>"
            ],
            "text/plain": [
              "   col1  col2 col3\n",
              "0     1  FILL  abc\n",
              "1     2   555  def\n",
              "2     3   666  ghi\n",
              "3  FILL   444  xyz"
            ]
          },
          "metadata": {
            "tags": []
          },
          "execution_count": 129
        }
      ]
    },
    {
      "cell_type": "code",
      "metadata": {
        "id": "Ugcl-7yOkwL3",
        "outputId": "056c0cc1-ac3e-41d6-b503-6c70164a98a2"
      },
      "source": [
        "df1\n"
      ],
      "execution_count": null,
      "outputs": [
        {
          "output_type": "execute_result",
          "data": {
            "text/html": [
              "<div>\n",
              "<style scoped>\n",
              "    .dataframe tbody tr th:only-of-type {\n",
              "        vertical-align: middle;\n",
              "    }\n",
              "\n",
              "    .dataframe tbody tr th {\n",
              "        vertical-align: top;\n",
              "    }\n",
              "\n",
              "    .dataframe thead th {\n",
              "        text-align: right;\n",
              "    }\n",
              "</style>\n",
              "<table border=\"1\" class=\"dataframe\">\n",
              "  <thead>\n",
              "    <tr style=\"text-align: right;\">\n",
              "      <th></th>\n",
              "      <th>key1</th>\n",
              "      <th>A</th>\n",
              "      <th>C</th>\n",
              "      <th>B</th>\n",
              "    </tr>\n",
              "  </thead>\n",
              "  <tbody>\n",
              "    <tr>\n",
              "      <td>0</td>\n",
              "      <td>K0</td>\n",
              "      <td>A0</td>\n",
              "      <td>A0</td>\n",
              "      <td>B0</td>\n",
              "    </tr>\n",
              "    <tr>\n",
              "      <td>1</td>\n",
              "      <td>K8</td>\n",
              "      <td>A1</td>\n",
              "      <td>A1</td>\n",
              "      <td>B1</td>\n",
              "    </tr>\n",
              "    <tr>\n",
              "      <td>2</td>\n",
              "      <td>K2</td>\n",
              "      <td>A2</td>\n",
              "      <td>A2</td>\n",
              "      <td>B2</td>\n",
              "    </tr>\n",
              "    <tr>\n",
              "      <td>3</td>\n",
              "      <td>K3</td>\n",
              "      <td>A3</td>\n",
              "      <td>A3</td>\n",
              "      <td>B3</td>\n",
              "    </tr>\n",
              "  </tbody>\n",
              "</table>\n",
              "</div>"
            ],
            "text/plain": [
              "  key1   A   C   B\n",
              "0   K0  A0  A0  B0\n",
              "1   K8  A1  A1  B1\n",
              "2   K2  A2  A2  B2\n",
              "3   K3  A3  A3  B3"
            ]
          },
          "metadata": {
            "tags": []
          },
          "execution_count": 130
        }
      ]
    },
    {
      "cell_type": "code",
      "metadata": {
        "id": "7-9heqtskwL3",
        "outputId": "9ad28926-1022-4945-c8d5-c631ef0cc7bd"
      },
      "source": [
        "df2"
      ],
      "execution_count": null,
      "outputs": [
        {
          "output_type": "execute_result",
          "data": {
            "text/html": [
              "<div>\n",
              "<style scoped>\n",
              "    .dataframe tbody tr th:only-of-type {\n",
              "        vertical-align: middle;\n",
              "    }\n",
              "\n",
              "    .dataframe tbody tr th {\n",
              "        vertical-align: top;\n",
              "    }\n",
              "\n",
              "    .dataframe thead th {\n",
              "        text-align: right;\n",
              "    }\n",
              "</style>\n",
              "<table border=\"1\" class=\"dataframe\">\n",
              "  <thead>\n",
              "    <tr style=\"text-align: right;\">\n",
              "      <th></th>\n",
              "      <th>key2</th>\n",
              "      <th>C</th>\n",
              "      <th>D</th>\n",
              "    </tr>\n",
              "  </thead>\n",
              "  <tbody>\n",
              "    <tr>\n",
              "      <td>0</td>\n",
              "      <td>K0</td>\n",
              "      <td>C0</td>\n",
              "      <td>D0</td>\n",
              "    </tr>\n",
              "    <tr>\n",
              "      <td>1</td>\n",
              "      <td>K1</td>\n",
              "      <td>C1</td>\n",
              "      <td>D1</td>\n",
              "    </tr>\n",
              "    <tr>\n",
              "      <td>2</td>\n",
              "      <td>K2</td>\n",
              "      <td>C2</td>\n",
              "      <td>D2</td>\n",
              "    </tr>\n",
              "    <tr>\n",
              "      <td>3</td>\n",
              "      <td>K3</td>\n",
              "      <td>C3</td>\n",
              "      <td>D3</td>\n",
              "    </tr>\n",
              "  </tbody>\n",
              "</table>\n",
              "</div>"
            ],
            "text/plain": [
              "  key2   C   D\n",
              "0   K0  C0  D0\n",
              "1   K1  C1  D1\n",
              "2   K2  C2  D2\n",
              "3   K3  C3  D3"
            ]
          },
          "metadata": {
            "tags": []
          },
          "execution_count": 131
        }
      ]
    },
    {
      "cell_type": "code",
      "metadata": {
        "id": "r5NjmHUCkwL3",
        "outputId": "9a31dcc4-2ede-446c-c876-cc4774670a35"
      },
      "source": [
        "df3"
      ],
      "execution_count": null,
      "outputs": [
        {
          "output_type": "execute_result",
          "data": {
            "text/html": [
              "<div>\n",
              "<style scoped>\n",
              "    .dataframe tbody tr th:only-of-type {\n",
              "        vertical-align: middle;\n",
              "    }\n",
              "\n",
              "    .dataframe tbody tr th {\n",
              "        vertical-align: top;\n",
              "    }\n",
              "\n",
              "    .dataframe thead th {\n",
              "        text-align: right;\n",
              "    }\n",
              "</style>\n",
              "<table border=\"1\" class=\"dataframe\">\n",
              "  <thead>\n",
              "    <tr style=\"text-align: right;\">\n",
              "      <th></th>\n",
              "      <th>A</th>\n",
              "      <th>B</th>\n",
              "      <th>C</th>\n",
              "      <th>D</th>\n",
              "    </tr>\n",
              "  </thead>\n",
              "  <tbody>\n",
              "    <tr>\n",
              "      <td>0</td>\n",
              "      <td>A8</td>\n",
              "      <td>B8</td>\n",
              "      <td>C8</td>\n",
              "      <td>D8</td>\n",
              "    </tr>\n",
              "    <tr>\n",
              "      <td>1</td>\n",
              "      <td>A9</td>\n",
              "      <td>B9</td>\n",
              "      <td>C9</td>\n",
              "      <td>D9</td>\n",
              "    </tr>\n",
              "    <tr>\n",
              "      <td>2</td>\n",
              "      <td>A10</td>\n",
              "      <td>B10</td>\n",
              "      <td>C10</td>\n",
              "      <td>D10</td>\n",
              "    </tr>\n",
              "    <tr>\n",
              "      <td>3</td>\n",
              "      <td>A11</td>\n",
              "      <td>B11</td>\n",
              "      <td>C11</td>\n",
              "      <td>D11</td>\n",
              "    </tr>\n",
              "  </tbody>\n",
              "</table>\n",
              "</div>"
            ],
            "text/plain": [
              "     A    B    C    D\n",
              "0   A8   B8   C8   D8\n",
              "1   A9   B9   C9   D9\n",
              "2  A10  B10  C10  D10\n",
              "3  A11  B11  C11  D11"
            ]
          },
          "metadata": {
            "tags": []
          },
          "execution_count": 132
        }
      ]
    },
    {
      "cell_type": "code",
      "metadata": {
        "id": "bcVwzQxfkwL4",
        "outputId": "bb5214e9-031c-4ff8-d7a6-be3ba352ff12"
      },
      "source": [
        "pd.merge(df1, df2, how='inner')"
      ],
      "execution_count": null,
      "outputs": [
        {
          "output_type": "execute_result",
          "data": {
            "text/html": [
              "<div>\n",
              "<style scoped>\n",
              "    .dataframe tbody tr th:only-of-type {\n",
              "        vertical-align: middle;\n",
              "    }\n",
              "\n",
              "    .dataframe tbody tr th {\n",
              "        vertical-align: top;\n",
              "    }\n",
              "\n",
              "    .dataframe thead th {\n",
              "        text-align: right;\n",
              "    }\n",
              "</style>\n",
              "<table border=\"1\" class=\"dataframe\">\n",
              "  <thead>\n",
              "    <tr style=\"text-align: right;\">\n",
              "      <th></th>\n",
              "      <th>key1</th>\n",
              "      <th>A</th>\n",
              "      <th>C</th>\n",
              "      <th>B</th>\n",
              "      <th>key2</th>\n",
              "      <th>D</th>\n",
              "    </tr>\n",
              "  </thead>\n",
              "  <tbody>\n",
              "  </tbody>\n",
              "</table>\n",
              "</div>"
            ],
            "text/plain": [
              "Empty DataFrame\n",
              "Columns: [key1, A, C, B, key2, D]\n",
              "Index: []"
            ]
          },
          "metadata": {
            "tags": []
          },
          "execution_count": 133
        }
      ]
    },
    {
      "cell_type": "code",
      "metadata": {
        "id": "t8GR811wkwL4",
        "outputId": "fa3e153a-a479-4648-e436-9a296d5af3d7"
      },
      "source": [
        "pd.merge(df1, df2, how='outer')"
      ],
      "execution_count": null,
      "outputs": [
        {
          "output_type": "execute_result",
          "data": {
            "text/html": [
              "<div>\n",
              "<style scoped>\n",
              "    .dataframe tbody tr th:only-of-type {\n",
              "        vertical-align: middle;\n",
              "    }\n",
              "\n",
              "    .dataframe tbody tr th {\n",
              "        vertical-align: top;\n",
              "    }\n",
              "\n",
              "    .dataframe thead th {\n",
              "        text-align: right;\n",
              "    }\n",
              "</style>\n",
              "<table border=\"1\" class=\"dataframe\">\n",
              "  <thead>\n",
              "    <tr style=\"text-align: right;\">\n",
              "      <th></th>\n",
              "      <th>key1</th>\n",
              "      <th>A</th>\n",
              "      <th>C</th>\n",
              "      <th>B</th>\n",
              "      <th>key2</th>\n",
              "      <th>D</th>\n",
              "    </tr>\n",
              "  </thead>\n",
              "  <tbody>\n",
              "    <tr>\n",
              "      <td>0</td>\n",
              "      <td>K0</td>\n",
              "      <td>A0</td>\n",
              "      <td>A0</td>\n",
              "      <td>B0</td>\n",
              "      <td>NaN</td>\n",
              "      <td>NaN</td>\n",
              "    </tr>\n",
              "    <tr>\n",
              "      <td>1</td>\n",
              "      <td>K8</td>\n",
              "      <td>A1</td>\n",
              "      <td>A1</td>\n",
              "      <td>B1</td>\n",
              "      <td>NaN</td>\n",
              "      <td>NaN</td>\n",
              "    </tr>\n",
              "    <tr>\n",
              "      <td>2</td>\n",
              "      <td>K2</td>\n",
              "      <td>A2</td>\n",
              "      <td>A2</td>\n",
              "      <td>B2</td>\n",
              "      <td>NaN</td>\n",
              "      <td>NaN</td>\n",
              "    </tr>\n",
              "    <tr>\n",
              "      <td>3</td>\n",
              "      <td>K3</td>\n",
              "      <td>A3</td>\n",
              "      <td>A3</td>\n",
              "      <td>B3</td>\n",
              "      <td>NaN</td>\n",
              "      <td>NaN</td>\n",
              "    </tr>\n",
              "    <tr>\n",
              "      <td>4</td>\n",
              "      <td>NaN</td>\n",
              "      <td>NaN</td>\n",
              "      <td>C0</td>\n",
              "      <td>NaN</td>\n",
              "      <td>K0</td>\n",
              "      <td>D0</td>\n",
              "    </tr>\n",
              "    <tr>\n",
              "      <td>5</td>\n",
              "      <td>NaN</td>\n",
              "      <td>NaN</td>\n",
              "      <td>C1</td>\n",
              "      <td>NaN</td>\n",
              "      <td>K1</td>\n",
              "      <td>D1</td>\n",
              "    </tr>\n",
              "    <tr>\n",
              "      <td>6</td>\n",
              "      <td>NaN</td>\n",
              "      <td>NaN</td>\n",
              "      <td>C2</td>\n",
              "      <td>NaN</td>\n",
              "      <td>K2</td>\n",
              "      <td>D2</td>\n",
              "    </tr>\n",
              "    <tr>\n",
              "      <td>7</td>\n",
              "      <td>NaN</td>\n",
              "      <td>NaN</td>\n",
              "      <td>C3</td>\n",
              "      <td>NaN</td>\n",
              "      <td>K3</td>\n",
              "      <td>D3</td>\n",
              "    </tr>\n",
              "  </tbody>\n",
              "</table>\n",
              "</div>"
            ],
            "text/plain": [
              "  key1    A   C    B key2    D\n",
              "0   K0   A0  A0   B0  NaN  NaN\n",
              "1   K8   A1  A1   B1  NaN  NaN\n",
              "2   K2   A2  A2   B2  NaN  NaN\n",
              "3   K3   A3  A3   B3  NaN  NaN\n",
              "4  NaN  NaN  C0  NaN   K0   D0\n",
              "5  NaN  NaN  C1  NaN   K1   D1\n",
              "6  NaN  NaN  C2  NaN   K2   D2\n",
              "7  NaN  NaN  C3  NaN   K3   D3"
            ]
          },
          "metadata": {
            "tags": []
          },
          "execution_count": 134
        }
      ]
    },
    {
      "cell_type": "code",
      "metadata": {
        "id": "YtNMCxw3kwL5",
        "outputId": "401ebebc-bee2-48b7-c387-f13ca9e1b83f"
      },
      "source": [
        "pd.merge(df1, df2, how='left')"
      ],
      "execution_count": null,
      "outputs": [
        {
          "output_type": "execute_result",
          "data": {
            "text/html": [
              "<div>\n",
              "<style scoped>\n",
              "    .dataframe tbody tr th:only-of-type {\n",
              "        vertical-align: middle;\n",
              "    }\n",
              "\n",
              "    .dataframe tbody tr th {\n",
              "        vertical-align: top;\n",
              "    }\n",
              "\n",
              "    .dataframe thead th {\n",
              "        text-align: right;\n",
              "    }\n",
              "</style>\n",
              "<table border=\"1\" class=\"dataframe\">\n",
              "  <thead>\n",
              "    <tr style=\"text-align: right;\">\n",
              "      <th></th>\n",
              "      <th>key1</th>\n",
              "      <th>A</th>\n",
              "      <th>C</th>\n",
              "      <th>B</th>\n",
              "      <th>key2</th>\n",
              "      <th>D</th>\n",
              "    </tr>\n",
              "  </thead>\n",
              "  <tbody>\n",
              "    <tr>\n",
              "      <td>0</td>\n",
              "      <td>K0</td>\n",
              "      <td>A0</td>\n",
              "      <td>A0</td>\n",
              "      <td>B0</td>\n",
              "      <td>NaN</td>\n",
              "      <td>NaN</td>\n",
              "    </tr>\n",
              "    <tr>\n",
              "      <td>1</td>\n",
              "      <td>K8</td>\n",
              "      <td>A1</td>\n",
              "      <td>A1</td>\n",
              "      <td>B1</td>\n",
              "      <td>NaN</td>\n",
              "      <td>NaN</td>\n",
              "    </tr>\n",
              "    <tr>\n",
              "      <td>2</td>\n",
              "      <td>K2</td>\n",
              "      <td>A2</td>\n",
              "      <td>A2</td>\n",
              "      <td>B2</td>\n",
              "      <td>NaN</td>\n",
              "      <td>NaN</td>\n",
              "    </tr>\n",
              "    <tr>\n",
              "      <td>3</td>\n",
              "      <td>K3</td>\n",
              "      <td>A3</td>\n",
              "      <td>A3</td>\n",
              "      <td>B3</td>\n",
              "      <td>NaN</td>\n",
              "      <td>NaN</td>\n",
              "    </tr>\n",
              "  </tbody>\n",
              "</table>\n",
              "</div>"
            ],
            "text/plain": [
              "  key1   A   C   B key2    D\n",
              "0   K0  A0  A0  B0  NaN  NaN\n",
              "1   K8  A1  A1  B1  NaN  NaN\n",
              "2   K2  A2  A2  B2  NaN  NaN\n",
              "3   K3  A3  A3  B3  NaN  NaN"
            ]
          },
          "metadata": {
            "tags": []
          },
          "execution_count": 135
        }
      ]
    },
    {
      "cell_type": "code",
      "metadata": {
        "id": "fvuuRwZFkwL6",
        "outputId": "807f908b-0147-4cb6-f1ae-99762f15f9ec"
      },
      "source": [
        "pd.merge(df1, df2, how='right')"
      ],
      "execution_count": null,
      "outputs": [
        {
          "output_type": "execute_result",
          "data": {
            "text/html": [
              "<div>\n",
              "<style scoped>\n",
              "    .dataframe tbody tr th:only-of-type {\n",
              "        vertical-align: middle;\n",
              "    }\n",
              "\n",
              "    .dataframe tbody tr th {\n",
              "        vertical-align: top;\n",
              "    }\n",
              "\n",
              "    .dataframe thead th {\n",
              "        text-align: right;\n",
              "    }\n",
              "</style>\n",
              "<table border=\"1\" class=\"dataframe\">\n",
              "  <thead>\n",
              "    <tr style=\"text-align: right;\">\n",
              "      <th></th>\n",
              "      <th>key1</th>\n",
              "      <th>A</th>\n",
              "      <th>C</th>\n",
              "      <th>B</th>\n",
              "      <th>key2</th>\n",
              "      <th>D</th>\n",
              "    </tr>\n",
              "  </thead>\n",
              "  <tbody>\n",
              "    <tr>\n",
              "      <td>0</td>\n",
              "      <td>NaN</td>\n",
              "      <td>NaN</td>\n",
              "      <td>C0</td>\n",
              "      <td>NaN</td>\n",
              "      <td>K0</td>\n",
              "      <td>D0</td>\n",
              "    </tr>\n",
              "    <tr>\n",
              "      <td>1</td>\n",
              "      <td>NaN</td>\n",
              "      <td>NaN</td>\n",
              "      <td>C1</td>\n",
              "      <td>NaN</td>\n",
              "      <td>K1</td>\n",
              "      <td>D1</td>\n",
              "    </tr>\n",
              "    <tr>\n",
              "      <td>2</td>\n",
              "      <td>NaN</td>\n",
              "      <td>NaN</td>\n",
              "      <td>C2</td>\n",
              "      <td>NaN</td>\n",
              "      <td>K2</td>\n",
              "      <td>D2</td>\n",
              "    </tr>\n",
              "    <tr>\n",
              "      <td>3</td>\n",
              "      <td>NaN</td>\n",
              "      <td>NaN</td>\n",
              "      <td>C3</td>\n",
              "      <td>NaN</td>\n",
              "      <td>K3</td>\n",
              "      <td>D3</td>\n",
              "    </tr>\n",
              "  </tbody>\n",
              "</table>\n",
              "</div>"
            ],
            "text/plain": [
              "  key1    A   C    B key2   D\n",
              "0  NaN  NaN  C0  NaN   K0  D0\n",
              "1  NaN  NaN  C1  NaN   K1  D1\n",
              "2  NaN  NaN  C2  NaN   K2  D2\n",
              "3  NaN  NaN  C3  NaN   K3  D3"
            ]
          },
          "metadata": {
            "tags": []
          },
          "execution_count": 136
        }
      ]
    },
    {
      "cell_type": "code",
      "metadata": {
        "id": "N7z2Aj06kwL7",
        "outputId": "2c94c414-ec61-40c8-874d-5db6cb52300c"
      },
      "source": [
        "pd.read_csv('https://raw.githubusercontent.com/PramodShenoy/911-Calls/master/911.csv')"
      ],
      "execution_count": null,
      "outputs": [
        {
          "output_type": "execute_result",
          "data": {
            "text/html": [
              "<div>\n",
              "<style scoped>\n",
              "    .dataframe tbody tr th:only-of-type {\n",
              "        vertical-align: middle;\n",
              "    }\n",
              "\n",
              "    .dataframe tbody tr th {\n",
              "        vertical-align: top;\n",
              "    }\n",
              "\n",
              "    .dataframe thead th {\n",
              "        text-align: right;\n",
              "    }\n",
              "</style>\n",
              "<table border=\"1\" class=\"dataframe\">\n",
              "  <thead>\n",
              "    <tr style=\"text-align: right;\">\n",
              "      <th></th>\n",
              "      <th>lat</th>\n",
              "      <th>lng</th>\n",
              "      <th>desc</th>\n",
              "      <th>zip</th>\n",
              "      <th>title</th>\n",
              "      <th>timeStamp</th>\n",
              "      <th>twp</th>\n",
              "      <th>addr</th>\n",
              "      <th>e</th>\n",
              "    </tr>\n",
              "  </thead>\n",
              "  <tbody>\n",
              "    <tr>\n",
              "      <td>0</td>\n",
              "      <td>40.297876</td>\n",
              "      <td>-75.581294</td>\n",
              "      <td>REINDEER CT &amp; DEAD END;  NEW HANOVER; Station ...</td>\n",
              "      <td>19525.0</td>\n",
              "      <td>EMS: BACK PAINS/INJURY</td>\n",
              "      <td>2015-12-10 17:40:00</td>\n",
              "      <td>NEW HANOVER</td>\n",
              "      <td>REINDEER CT &amp; DEAD END</td>\n",
              "      <td>1</td>\n",
              "    </tr>\n",
              "    <tr>\n",
              "      <td>1</td>\n",
              "      <td>40.258061</td>\n",
              "      <td>-75.264680</td>\n",
              "      <td>BRIAR PATH &amp; WHITEMARSH LN;  HATFIELD TOWNSHIP...</td>\n",
              "      <td>19446.0</td>\n",
              "      <td>EMS: DIABETIC EMERGENCY</td>\n",
              "      <td>2015-12-10 17:40:00</td>\n",
              "      <td>HATFIELD TOWNSHIP</td>\n",
              "      <td>BRIAR PATH &amp; WHITEMARSH LN</td>\n",
              "      <td>1</td>\n",
              "    </tr>\n",
              "    <tr>\n",
              "      <td>2</td>\n",
              "      <td>40.121182</td>\n",
              "      <td>-75.351975</td>\n",
              "      <td>HAWS AVE; NORRISTOWN; 2015-12-10 @ 14:39:21-St...</td>\n",
              "      <td>19401.0</td>\n",
              "      <td>Fire: GAS-ODOR/LEAK</td>\n",
              "      <td>2015-12-10 17:40:00</td>\n",
              "      <td>NORRISTOWN</td>\n",
              "      <td>HAWS AVE</td>\n",
              "      <td>1</td>\n",
              "    </tr>\n",
              "    <tr>\n",
              "      <td>3</td>\n",
              "      <td>40.116153</td>\n",
              "      <td>-75.343513</td>\n",
              "      <td>AIRY ST &amp; SWEDE ST;  NORRISTOWN; Station 308A;...</td>\n",
              "      <td>19401.0</td>\n",
              "      <td>EMS: CARDIAC EMERGENCY</td>\n",
              "      <td>2015-12-10 17:40:01</td>\n",
              "      <td>NORRISTOWN</td>\n",
              "      <td>AIRY ST &amp; SWEDE ST</td>\n",
              "      <td>1</td>\n",
              "    </tr>\n",
              "    <tr>\n",
              "      <td>4</td>\n",
              "      <td>40.251492</td>\n",
              "      <td>-75.603350</td>\n",
              "      <td>CHERRYWOOD CT &amp; DEAD END;  LOWER POTTSGROVE; S...</td>\n",
              "      <td>NaN</td>\n",
              "      <td>EMS: DIZZINESS</td>\n",
              "      <td>2015-12-10 17:40:01</td>\n",
              "      <td>LOWER POTTSGROVE</td>\n",
              "      <td>CHERRYWOOD CT &amp; DEAD END</td>\n",
              "      <td>1</td>\n",
              "    </tr>\n",
              "    <tr>\n",
              "      <td>...</td>\n",
              "      <td>...</td>\n",
              "      <td>...</td>\n",
              "      <td>...</td>\n",
              "      <td>...</td>\n",
              "      <td>...</td>\n",
              "      <td>...</td>\n",
              "      <td>...</td>\n",
              "      <td>...</td>\n",
              "      <td>...</td>\n",
              "    </tr>\n",
              "    <tr>\n",
              "      <td>99487</td>\n",
              "      <td>40.132869</td>\n",
              "      <td>-75.333515</td>\n",
              "      <td>MARKLEY ST &amp; W LOGAN ST; NORRISTOWN; 2016-08-2...</td>\n",
              "      <td>19401.0</td>\n",
              "      <td>Traffic: VEHICLE ACCIDENT -</td>\n",
              "      <td>2016-08-24 11:06:00</td>\n",
              "      <td>NORRISTOWN</td>\n",
              "      <td>MARKLEY ST &amp; W LOGAN ST</td>\n",
              "      <td>1</td>\n",
              "    </tr>\n",
              "    <tr>\n",
              "      <td>99488</td>\n",
              "      <td>40.006974</td>\n",
              "      <td>-75.289080</td>\n",
              "      <td>LANCASTER AVE &amp; RITTENHOUSE PL; LOWER MERION; ...</td>\n",
              "      <td>19003.0</td>\n",
              "      <td>Traffic: VEHICLE ACCIDENT -</td>\n",
              "      <td>2016-08-24 11:07:02</td>\n",
              "      <td>LOWER MERION</td>\n",
              "      <td>LANCASTER AVE &amp; RITTENHOUSE PL</td>\n",
              "      <td>1</td>\n",
              "    </tr>\n",
              "    <tr>\n",
              "      <td>99489</td>\n",
              "      <td>40.115429</td>\n",
              "      <td>-75.334679</td>\n",
              "      <td>CHESTNUT ST &amp; WALNUT ST;  NORRISTOWN; Station ...</td>\n",
              "      <td>19401.0</td>\n",
              "      <td>EMS: FALL VICTIM</td>\n",
              "      <td>2016-08-24 11:12:00</td>\n",
              "      <td>NORRISTOWN</td>\n",
              "      <td>CHESTNUT ST &amp; WALNUT ST</td>\n",
              "      <td>1</td>\n",
              "    </tr>\n",
              "    <tr>\n",
              "      <td>99490</td>\n",
              "      <td>40.186431</td>\n",
              "      <td>-75.192555</td>\n",
              "      <td>WELSH RD &amp; WEBSTER LN;  HORSHAM; Station 352; ...</td>\n",
              "      <td>19002.0</td>\n",
              "      <td>EMS: NAUSEA/VOMITING</td>\n",
              "      <td>2016-08-24 11:17:01</td>\n",
              "      <td>HORSHAM</td>\n",
              "      <td>WELSH RD &amp; WEBSTER LN</td>\n",
              "      <td>1</td>\n",
              "    </tr>\n",
              "    <tr>\n",
              "      <td>99491</td>\n",
              "      <td>40.207055</td>\n",
              "      <td>-75.317952</td>\n",
              "      <td>MORRIS RD &amp; S BROAD ST; UPPER GWYNEDD; 2016-08...</td>\n",
              "      <td>19446.0</td>\n",
              "      <td>Traffic: VEHICLE ACCIDENT -</td>\n",
              "      <td>2016-08-24 11:17:02</td>\n",
              "      <td>UPPER GWYNEDD</td>\n",
              "      <td>MORRIS RD &amp; S BROAD ST</td>\n",
              "      <td>1</td>\n",
              "    </tr>\n",
              "  </tbody>\n",
              "</table>\n",
              "<p>99492 rows × 9 columns</p>\n",
              "</div>"
            ],
            "text/plain": [
              "             lat        lng  \\\n",
              "0      40.297876 -75.581294   \n",
              "1      40.258061 -75.264680   \n",
              "2      40.121182 -75.351975   \n",
              "3      40.116153 -75.343513   \n",
              "4      40.251492 -75.603350   \n",
              "...          ...        ...   \n",
              "99487  40.132869 -75.333515   \n",
              "99488  40.006974 -75.289080   \n",
              "99489  40.115429 -75.334679   \n",
              "99490  40.186431 -75.192555   \n",
              "99491  40.207055 -75.317952   \n",
              "\n",
              "                                                    desc      zip  \\\n",
              "0      REINDEER CT & DEAD END;  NEW HANOVER; Station ...  19525.0   \n",
              "1      BRIAR PATH & WHITEMARSH LN;  HATFIELD TOWNSHIP...  19446.0   \n",
              "2      HAWS AVE; NORRISTOWN; 2015-12-10 @ 14:39:21-St...  19401.0   \n",
              "3      AIRY ST & SWEDE ST;  NORRISTOWN; Station 308A;...  19401.0   \n",
              "4      CHERRYWOOD CT & DEAD END;  LOWER POTTSGROVE; S...      NaN   \n",
              "...                                                  ...      ...   \n",
              "99487  MARKLEY ST & W LOGAN ST; NORRISTOWN; 2016-08-2...  19401.0   \n",
              "99488  LANCASTER AVE & RITTENHOUSE PL; LOWER MERION; ...  19003.0   \n",
              "99489  CHESTNUT ST & WALNUT ST;  NORRISTOWN; Station ...  19401.0   \n",
              "99490  WELSH RD & WEBSTER LN;  HORSHAM; Station 352; ...  19002.0   \n",
              "99491  MORRIS RD & S BROAD ST; UPPER GWYNEDD; 2016-08...  19446.0   \n",
              "\n",
              "                             title            timeStamp                twp  \\\n",
              "0           EMS: BACK PAINS/INJURY  2015-12-10 17:40:00        NEW HANOVER   \n",
              "1          EMS: DIABETIC EMERGENCY  2015-12-10 17:40:00  HATFIELD TOWNSHIP   \n",
              "2              Fire: GAS-ODOR/LEAK  2015-12-10 17:40:00         NORRISTOWN   \n",
              "3           EMS: CARDIAC EMERGENCY  2015-12-10 17:40:01         NORRISTOWN   \n",
              "4                   EMS: DIZZINESS  2015-12-10 17:40:01   LOWER POTTSGROVE   \n",
              "...                            ...                  ...                ...   \n",
              "99487  Traffic: VEHICLE ACCIDENT -  2016-08-24 11:06:00         NORRISTOWN   \n",
              "99488  Traffic: VEHICLE ACCIDENT -  2016-08-24 11:07:02       LOWER MERION   \n",
              "99489             EMS: FALL VICTIM  2016-08-24 11:12:00         NORRISTOWN   \n",
              "99490         EMS: NAUSEA/VOMITING  2016-08-24 11:17:01            HORSHAM   \n",
              "99491  Traffic: VEHICLE ACCIDENT -  2016-08-24 11:17:02      UPPER GWYNEDD   \n",
              "\n",
              "                                 addr  e  \n",
              "0              REINDEER CT & DEAD END  1  \n",
              "1          BRIAR PATH & WHITEMARSH LN  1  \n",
              "2                            HAWS AVE  1  \n",
              "3                  AIRY ST & SWEDE ST  1  \n",
              "4            CHERRYWOOD CT & DEAD END  1  \n",
              "...                               ... ..  \n",
              "99487         MARKLEY ST & W LOGAN ST  1  \n",
              "99488  LANCASTER AVE & RITTENHOUSE PL  1  \n",
              "99489         CHESTNUT ST & WALNUT ST  1  \n",
              "99490           WELSH RD & WEBSTER LN  1  \n",
              "99491          MORRIS RD & S BROAD ST  1  \n",
              "\n",
              "[99492 rows x 9 columns]"
            ]
          },
          "metadata": {
            "tags": []
          },
          "execution_count": 137
        }
      ]
    },
    {
      "cell_type": "code",
      "metadata": {
        "id": "ZKRE7lJQkwL7"
      },
      "source": [
        "1) describe for cat and numerical column\n",
        "\n",
        "2) lat type cast it to int, perform groupby and apply count on it\n",
        "\n",
        "3) how many people are from same zip location\n",
        "\n",
        "4) check time stamp datatype and extract day in new col\n",
        "\n",
        "5) filter out all the zip codes which address starts with 'A'\n",
        "\n",
        "6) try to map timestamp with day like monday, tuesday....\n",
        "\n",
        "7) from title extract service detail\n",
        "\n"
      ],
      "execution_count": null,
      "outputs": []
    },
    {
      "cell_type": "code",
      "metadata": {
        "id": "VgA_Jj42kwL8"
      },
      "source": [
        ""
      ],
      "execution_count": null,
      "outputs": []
    },
    {
      "cell_type": "code",
      "metadata": {
        "id": "GXsk0x4hkwL8"
      },
      "source": [
        ""
      ],
      "execution_count": null,
      "outputs": []
    },
    {
      "cell_type": "code",
      "metadata": {
        "id": "pEHVWwq3kwL8"
      },
      "source": [
        ""
      ],
      "execution_count": null,
      "outputs": []
    },
    {
      "cell_type": "code",
      "metadata": {
        "id": "JMqbE6rAkwL8"
      },
      "source": [
        ""
      ],
      "execution_count": null,
      "outputs": []
    }
  ]
}