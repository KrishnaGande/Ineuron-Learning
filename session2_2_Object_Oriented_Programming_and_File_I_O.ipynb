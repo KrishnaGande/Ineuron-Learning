{
  "nbformat": 4,
  "nbformat_minor": 0,
  "metadata": {
    "kernelspec": {
      "display_name": "Python 3",
      "language": "python",
      "name": "python3"
    },
    "language_info": {
      "codemirror_mode": {
        "name": "ipython",
        "version": 3
      },
      "file_extension": ".py",
      "mimetype": "text/x-python",
      "name": "python",
      "nbconvert_exporter": "python",
      "pygments_lexer": "ipython3",
      "version": "3.7.1"
    },
    "colab": {
      "name": "session2.2_Object Oriented Programming and File I/O.ipynb",
      "provenance": [],
      "collapsed_sections": [
        "-aKih6rUqkIt",
        "qU0OALPIqkIu"
      ],
      "include_colab_link": true
    }
  },
  "cells": [
    {
      "cell_type": "markdown",
      "metadata": {
        "id": "view-in-github",
        "colab_type": "text"
      },
      "source": [
        "<a href=\"https://colab.research.google.com/github/KrishnaGande/Ineuron-Learning/blob/main/session2_2_Object_Oriented_Programming_and_File_I_O.ipynb\" target=\"_parent\"><img src=\"https://colab.research.google.com/assets/colab-badge.svg\" alt=\"Open In Colab\"/></a>"
      ]
    },
    {
      "cell_type": "markdown",
      "metadata": {
        "id": "PNcYSVRAqkIV"
      },
      "source": [
        "# Object Oriented Programming and File I/O"
      ]
    },
    {
      "cell_type": "markdown",
      "metadata": {
        "id": "vMiKJA78qkIc"
      },
      "source": [
        "__Object Oriented Programming (OOP)__ is a programming paradigm that allows abstraction through the concept of interacting entities. This programming works contradictory to conventional model and is procedural, in which programs are organized as a sequence of commands or statements to perform.\n",
        "\n",
        "We can think an object as an entity that resides in memory, has a state and it's able to perform some actions. \n",
        " \n",
        "More formally objects are entities that represent **instances** of a general abstract concept called **class**. In `Python`, \"attributes\" are the variables defining an object state and the possible actions are called \"methods\".\n",
        "\n",
        "In Python, everything is an object also classes and functions."
      ]
    },
    {
      "cell_type": "markdown",
      "metadata": {
        "id": "hskrBcRmqkId"
      },
      "source": [
        "## 1 How to define classes"
      ]
    },
    {
      "cell_type": "markdown",
      "metadata": {
        "id": "QOOiLgxJqkId"
      },
      "source": [
        "### 1.1 Creating a class"
      ]
    },
    {
      "cell_type": "markdown",
      "metadata": {
        "id": "nXDaj759qkIe"
      },
      "source": [
        "Suppose we want to create a class, named Person, as a prototype, a sort of template for any number of 'Person' objects (instances)."
      ]
    },
    {
      "cell_type": "markdown",
      "metadata": {
        "id": "DnDmzoh1qkIe"
      },
      "source": [
        "The following python syntax defines a class:\n",
        "\n",
        "    class ClassName(base_classes):\n",
        "        statements\n",
        "\n",
        "        "
      ]
    },
    {
      "cell_type": "markdown",
      "metadata": {
        "id": "cnM2pUgRqkIe"
      },
      "source": [
        "Class names should always be uppercase (it's a naming convention)."
      ]
    },
    {
      "cell_type": "markdown",
      "metadata": {
        "id": "LU42TTxbqkIf"
      },
      "source": [
        "Say we need to model a Person as:\n",
        "\n",
        "* Name\n",
        "* Surname  \n",
        "* Age  "
      ]
    },
    {
      "cell_type": "code",
      "metadata": {
        "id": "s2QsxzLjrVEB"
      },
      "source": [
        "class test1:\n",
        "  pass\n",
        "b=test1()\n",
        "b.name = \"sudh\"\n",
        "b.age= 24\n",
        "b.year_of_birth = 1995\n"
      ],
      "execution_count": null,
      "outputs": []
    },
    {
      "cell_type": "code",
      "metadata": {
        "colab": {
          "base_uri": "https://localhost:8080/"
        },
        "id": "h4N1pcAorpM8",
        "outputId": "d86790ad-c56d-4233-da70-edd91791d368"
      },
      "source": [
        "print(b)"
      ],
      "execution_count": null,
      "outputs": [
        {
          "output_type": "stream",
          "text": [
            "<__main__.test1 object at 0x7ff7e89dbfd0>\n"
          ],
          "name": "stdout"
        }
      ]
    },
    {
      "cell_type": "code",
      "metadata": {
        "colab": {
          "base_uri": "https://localhost:8080/"
        },
        "id": "7avK9P2erpJE",
        "outputId": "14cfc77e-de75-4794-a12b-f52f3bc457d4"
      },
      "source": [
        "b"
      ],
      "execution_count": null,
      "outputs": [
        {
          "output_type": "execute_result",
          "data": {
            "text/plain": [
              "<__main__.test1 at 0x7ff7e89dbfd0>"
            ]
          },
          "metadata": {
            "tags": []
          },
          "execution_count": 3
        }
      ]
    },
    {
      "cell_type": "code",
      "metadata": {
        "id": "dsRdSn9rrpEv"
      },
      "source": [
        "c=test1()\n",
        "c.name=\"krish\"\n",
        "c.age=25\n",
        "c.surname=\"murthy\""
      ],
      "execution_count": null,
      "outputs": []
    },
    {
      "cell_type": "code",
      "metadata": {
        "colab": {
          "base_uri": "https://localhost:8080/",
          "height": 35
        },
        "id": "oU6nOhLgro7q",
        "outputId": "da70c12b-85bf-4c26-8dcc-62bc4841fbe5"
      },
      "source": [
        "c.surname"
      ],
      "execution_count": null,
      "outputs": [
        {
          "output_type": "execute_result",
          "data": {
            "application/vnd.google.colaboratory.intrinsic+json": {
              "type": "string"
            },
            "text/plain": [
              "'murthy'"
            ]
          },
          "metadata": {
            "tags": []
          },
          "execution_count": 5
        }
      ]
    },
    {
      "cell_type": "code",
      "metadata": {
        "id": "GDzGbHEesBwA"
      },
      "source": [
        ""
      ],
      "execution_count": null,
      "outputs": []
    },
    {
      "cell_type": "code",
      "metadata": {
        "id": "Z1hT24KIsBkW"
      },
      "source": [
        ""
      ],
      "execution_count": null,
      "outputs": []
    },
    {
      "cell_type": "code",
      "metadata": {
        "id": "IyhSbgA7sBaM"
      },
      "source": [
        ""
      ],
      "execution_count": null,
      "outputs": []
    },
    {
      "cell_type": "code",
      "metadata": {
        "id": "TNPoxIKKsA1z"
      },
      "source": [
        ""
      ],
      "execution_count": null,
      "outputs": []
    },
    {
      "cell_type": "code",
      "metadata": {
        "id": "YUSv8uOrqkIf",
        "outputId": "7825ba51-6d91-4f21-ef77-2bb2403172d1"
      },
      "source": [
        "class Person:\n",
        "    pass\n",
        "\n",
        "john_doe = Person()\n",
        "john_doe.name = \"Alec\"\n",
        "john_doe.surname = \"Baldwin\"\n",
        "john_doe.year_of_birth = 1958\n",
        "\n",
        "\n",
        "print(john_doe)\n",
        "print(\"%s %s was born in %d.\" %\n",
        "      (john_doe.name, john_doe.surname, john_doe.year_of_birth))"
      ],
      "execution_count": null,
      "outputs": [
        {
          "output_type": "stream",
          "text": [
            "<__main__.Person object at 0x7fc0fc759400>\n",
            "Alec Baldwin was born in 1958.\n"
          ],
          "name": "stdout"
        }
      ]
    },
    {
      "cell_type": "code",
      "metadata": {
        "id": "kasm3i12qkIi"
      },
      "source": [
        "class Person:\n",
        "    pass"
      ],
      "execution_count": null,
      "outputs": []
    },
    {
      "cell_type": "markdown",
      "metadata": {
        "id": "gP5xj60uqkIi"
      },
      "source": [
        "The following example defines an empty class (i.e. the class doesn't have a state) called _Person_ then creates a _Person_ instance called _john_doe_ and adds three attributes to _john_doe_. We see that we can access objects attributes using the \"dot\" operator.\n",
        "\n",
        "This isn't a recommended style because classes should describe homogeneous entities. A way to do so is the following:"
      ]
    },
    {
      "cell_type": "code",
      "metadata": {
        "id": "xajixPJ3qkIi"
      },
      "source": [
        "class Person:\n",
        "    def __init__(self, name, surname, year_of_birth):\n",
        "        self.name1 = name\n",
        "        self.surname = surname\n",
        "        self.year_of_birth = year_of_birth"
      ],
      "execution_count": null,
      "outputs": []
    },
    {
      "cell_type": "code",
      "metadata": {
        "colab": {
          "base_uri": "https://localhost:8080/",
          "height": 166
        },
        "id": "UIURUCd0u37B",
        "outputId": "5343fc6c-feaf-406d-be99-0dd5ffb29e58"
      },
      "source": [
        "a=Person()"
      ],
      "execution_count": null,
      "outputs": [
        {
          "output_type": "error",
          "ename": "TypeError",
          "evalue": "ignored",
          "traceback": [
            "\u001b[0;31m---------------------------------------------------------------------------\u001b[0m",
            "\u001b[0;31mTypeError\u001b[0m                                 Traceback (most recent call last)",
            "\u001b[0;32m<ipython-input-8-fc79c4d9df1d>\u001b[0m in \u001b[0;36m<module>\u001b[0;34m()\u001b[0m\n\u001b[0;32m----> 1\u001b[0;31m \u001b[0ma\u001b[0m\u001b[0;34m=\u001b[0m\u001b[0mPerson\u001b[0m\u001b[0;34m(\u001b[0m\u001b[0;34m)\u001b[0m\u001b[0;34m\u001b[0m\u001b[0;34m\u001b[0m\u001b[0m\n\u001b[0m",
            "\u001b[0;31mTypeError\u001b[0m: __init__() missing 3 required positional arguments: 'name', 'surname', and 'year_of_birth'"
          ]
        }
      ]
    },
    {
      "cell_type": "code",
      "metadata": {
        "id": "8FyI_jclu8pD"
      },
      "source": [
        "a=Person(\"Krish\",\"murthy\",1995)"
      ],
      "execution_count": null,
      "outputs": []
    },
    {
      "cell_type": "code",
      "metadata": {
        "colab": {
          "base_uri": "https://localhost:8080/"
        },
        "id": "wvsAo5G7u8lY",
        "outputId": "20d527e8-9475-4ea6-bc35-998eaf338d8e"
      },
      "source": [
        "a"
      ],
      "execution_count": null,
      "outputs": [
        {
          "output_type": "execute_result",
          "data": {
            "text/plain": [
              "<__main__.Person at 0x7ff7e03ea550>"
            ]
          },
          "metadata": {
            "tags": []
          },
          "execution_count": 10
        }
      ]
    },
    {
      "cell_type": "code",
      "metadata": {
        "colab": {
          "base_uri": "https://localhost:8080/",
          "height": 35
        },
        "id": "m67Cg4PSu8h3",
        "outputId": "18414c71-0469-4679-a59c-03856cc03289"
      },
      "source": [
        "a.name1"
      ],
      "execution_count": null,
      "outputs": [
        {
          "output_type": "execute_result",
          "data": {
            "application/vnd.google.colaboratory.intrinsic+json": {
              "type": "string"
            },
            "text/plain": [
              "'Krish'"
            ]
          },
          "metadata": {
            "tags": []
          },
          "execution_count": 12
        }
      ]
    },
    {
      "cell_type": "code",
      "metadata": {
        "id": "dUI5X8q1u8f1"
      },
      "source": [
        ""
      ],
      "execution_count": null,
      "outputs": []
    },
    {
      "cell_type": "code",
      "metadata": {
        "id": "lUUlZtbou8bo"
      },
      "source": [
        ""
      ],
      "execution_count": null,
      "outputs": []
    },
    {
      "cell_type": "code",
      "metadata": {
        "id": "PdelIr5Xu8T1"
      },
      "source": [
        "\n"
      ],
      "execution_count": null,
      "outputs": []
    },
    {
      "cell_type": "markdown",
      "metadata": {
        "id": "yS4IVzq5qkIj"
      },
      "source": [
        "    __init__(self, ...)\n",
        "Is a special _Python_ method that is automatically called after an object construction. Its purpose is to initialize every object state. The first argument (by convention) __self__ is automatically passed either and refers to the object itself.\n",
        "\n",
        "In the preceding example, `__init__` adds three attributes to every object that is instantiated. So the class is actually describing each object's state.\n"
      ]
    },
    {
      "cell_type": "markdown",
      "metadata": {
        "id": "ZFO-VpzfqkIj"
      },
      "source": [
        "We cannot directly manipulate any class rather we need to create an instance of the class: "
      ]
    },
    {
      "cell_type": "code",
      "metadata": {
        "colab": {
          "base_uri": "https://localhost:8080/"
        },
        "id": "XTfYgdgjqkIj",
        "outputId": "6f12774a-f8f5-4c4e-f393-ec76875c022a"
      },
      "source": [
        "alec = Person(\"Alechgffh\", \"Baldwin\", 1958)\n",
        "print(alec)\n",
        "print(\"%s %s was born in %d.\" % (alec.name1, alec.surname, alec.year_of_birth))"
      ],
      "execution_count": null,
      "outputs": [
        {
          "output_type": "stream",
          "text": [
            "<__main__.Person object at 0x7ff7e037fcc0>\n",
            "Alechgffh Baldwin was born in 1958.\n"
          ],
          "name": "stdout"
        }
      ]
    },
    {
      "cell_type": "markdown",
      "metadata": {
        "id": "1pE6zsyuqkIk"
      },
      "source": [
        "\n",
        "We have just created an instance of the Person class, bound to the variable `alec`. "
      ]
    },
    {
      "cell_type": "markdown",
      "metadata": {
        "id": "r0hw22TcqkIk"
      },
      "source": [
        "### 1.2 Methods"
      ]
    },
    {
      "cell_type": "code",
      "metadata": {
        "id": "4Y89RzK8qkIk"
      },
      "source": [
        "class Person:\n",
        "\n",
        "    def __init__(a, name, surname, year_of_birth):\n",
        "        a.name = name\n",
        "        a.surname = surname\n",
        "        a.year_of_birth = year_of_birth\n",
        "    def __init__(a, name, surname):\n",
        "        a.name = name\n",
        "        a.surname = surname\n",
        "    def __init__(a, name):\n",
        "        a.name = name\n",
        "\n",
        "    def age(a, current_year):\n",
        "        return current_year - a.year_of_birth\n",
        "    def concatlist(b,lst1,lst2):\n",
        "      return lst1+lst2\n",
        "    def __str__(a):\n",
        "        return \"%s %s was born in %d .\" % (a.name, a.surname, a.year_of_birth)\n",
        "    \n",
        "#alec = Person(\"Alec\", \"Baldwin\", 1958)\n",
        "#print(alec)\n",
        "#print(alec.age(2014))\n"
      ],
      "execution_count": null,
      "outputs": []
    },
    {
      "cell_type": "code",
      "metadata": {
        "id": "INvb-Rf4B4w0"
      },
      "source": [
        "class Person:\n",
        "\n",
        "    def __init__(self, name, surname, year_of_birth):\n",
        "        self.name = name\n",
        "        self.surname = surname\n",
        "        self.year_of_birth = year_of_birth"
      ],
      "execution_count": null,
      "outputs": []
    },
    {
      "cell_type": "code",
      "metadata": {
        "id": "SdPiJvqXB6kV"
      },
      "source": [
        "alec = Person(\"Alec\", \"Baldwin\", 1958)"
      ],
      "execution_count": null,
      "outputs": []
    },
    {
      "cell_type": "code",
      "metadata": {
        "colab": {
          "base_uri": "https://localhost:8080/",
          "height": 35
        },
        "id": "eZGVrD-zB-aN",
        "outputId": "ebb2b51e-067b-4ee5-a99c-ae00e6a2533b"
      },
      "source": [
        "alec.name"
      ],
      "execution_count": null,
      "outputs": [
        {
          "output_type": "execute_result",
          "data": {
            "application/vnd.google.colaboratory.intrinsic+json": {
              "type": "string"
            },
            "text/plain": [
              "'Alec'"
            ]
          },
          "metadata": {
            "tags": []
          },
          "execution_count": 51
        }
      ]
    },
    {
      "cell_type": "code",
      "metadata": {
        "id": "DtsHjXbr8Neo"
      },
      "source": [
        "alec1=Person(\"krishna\")"
      ],
      "execution_count": null,
      "outputs": []
    },
    {
      "cell_type": "code",
      "metadata": {
        "colab": {
          "base_uri": "https://localhost:8080/"
        },
        "id": "rNh96uq76YwO",
        "outputId": "81fee2ee-4306-4d93-977b-a107236ef05a"
      },
      "source": [
        "alec.concatlist([3,4,5,6,7],[5,4,7,8])"
      ],
      "execution_count": null,
      "outputs": [
        {
          "output_type": "execute_result",
          "data": {
            "text/plain": [
              "[3, 4, 5, 6, 7, 5, 4, 7, 8]"
            ]
          },
          "metadata": {
            "tags": []
          },
          "execution_count": 19
        }
      ]
    },
    {
      "cell_type": "markdown",
      "metadata": {
        "id": "sYA-HX4rqkIl"
      },
      "source": [
        "We defined two more methods `age` and  `__str__`. The latter is once again a special method that is called by Python when the object has to be represented as a string (e.g. when has to be printed). If the `__str__` method isn't defined the **print** command shows the type of object and its address in memory. We can see that in order to call a method we use the same syntax for attributes (**instance_name.instance _method**)."
      ]
    },
    {
      "cell_type": "markdown",
      "metadata": {
        "id": "EyLE0atPqkIl"
      },
      "source": [
        "### 1.3 Bad practice"
      ]
    },
    {
      "cell_type": "markdown",
      "metadata": {
        "id": "JjIsoAW2qkIl"
      },
      "source": [
        "It is possible to create a class without the `__init__` method, but this is not a recommended style because classes should describe homogeneous entities."
      ]
    },
    {
      "cell_type": "code",
      "metadata": {
        "id": "hWQW9AbpqkIl"
      },
      "source": [
        "class Person:\n",
        "  \n",
        "    def set_name(self, name):\n",
        "        self.name = name\n",
        "        \n",
        "    def set_surname(self, surname):\n",
        "        self.surname = surname\n",
        "        \n",
        "    def set_year_of_birth(self, year_of_birth):\n",
        "        self.year_of_birth = year_of_birth\n",
        "        \n",
        "    def age(self, current_year):\n",
        "        return current_year - self.year_of_birth\n",
        "    \n",
        "    def __str__(self):\n",
        "        return \"%s %s was born in %d .\" \\\n",
        "                % (self.name, self.surname, self.year_of_birth)\n",
        "    "
      ],
      "execution_count": null,
      "outputs": []
    },
    {
      "cell_type": "markdown",
      "metadata": {
        "id": "e4BceuFfqkIm"
      },
      "source": [
        "In this case, an empty instance of the class Person is created, and no attributes have been initialized while instantiating:"
      ]
    },
    {
      "cell_type": "code",
      "metadata": {
        "id": "4qBslodPqkIm"
      },
      "source": [
        "president = Person()\n",
        "president.set_name(\"Krishna\")"
      ],
      "execution_count": null,
      "outputs": []
    },
    {
      "cell_type": "code",
      "metadata": {
        "id": "fAdOY1dGAwjT"
      },
      "source": [
        "class Person1:\n",
        "  def __init__(self,name):\n",
        "    self.name=name"
      ],
      "execution_count": null,
      "outputs": []
    },
    {
      "cell_type": "code",
      "metadata": {
        "colab": {
          "base_uri": "https://localhost:8080/",
          "height": 35
        },
        "id": "_c0VC4IUA5jx",
        "outputId": "573a45c6-1fc4-4104-9425-a2cf09cbb40a"
      },
      "source": [
        "a=Person1(\"Krishna\")\n",
        "a.name"
      ],
      "execution_count": null,
      "outputs": [
        {
          "output_type": "execute_result",
          "data": {
            "application/vnd.google.colaboratory.intrinsic+json": {
              "type": "string"
            },
            "text/plain": [
              "'Krishna'"
            ]
          },
          "metadata": {
            "tags": []
          },
          "execution_count": 54
        }
      ]
    },
    {
      "cell_type": "code",
      "metadata": {
        "colab": {
          "base_uri": "https://localhost:8080/",
          "height": 183
        },
        "id": "oKssKYLBqkIm",
        "outputId": "97351d80-2ac3-4d2e-8035-a7e7ce5babdf"
      },
      "source": [
        "# This code will raise an attribute error:\n",
        "print(president.name)"
      ],
      "execution_count": null,
      "outputs": [
        {
          "output_type": "error",
          "ename": "AttributeError",
          "evalue": "ignored",
          "traceback": [
            "\u001b[0;31m---------------------------------------------------------------------------\u001b[0m",
            "\u001b[0;31mAttributeError\u001b[0m                            Traceback (most recent call last)",
            "\u001b[0;32m<ipython-input-30-004adac081fd>\u001b[0m in \u001b[0;36m<module>\u001b[0;34m()\u001b[0m\n\u001b[1;32m      1\u001b[0m \u001b[0;31m# This code will raise an attribute error:\u001b[0m\u001b[0;34m\u001b[0m\u001b[0;34m\u001b[0m\u001b[0;34m\u001b[0m\u001b[0m\n\u001b[0;32m----> 2\u001b[0;31m \u001b[0mprint\u001b[0m\u001b[0;34m(\u001b[0m\u001b[0mpresident\u001b[0m\u001b[0;34m.\u001b[0m\u001b[0mname\u001b[0m\u001b[0;34m)\u001b[0m\u001b[0;34m\u001b[0m\u001b[0;34m\u001b[0m\u001b[0m\n\u001b[0m",
            "\u001b[0;31mAttributeError\u001b[0m: 'Person' object has no attribute 'name'"
          ]
        }
      ]
    },
    {
      "cell_type": "markdown",
      "metadata": {
        "id": "TR-QKS4OqkIn"
      },
      "source": [
        "This raises an Attribute Error... We need to set the attributes:"
      ]
    },
    {
      "cell_type": "code",
      "metadata": {
        "id": "kL-2mURSqkIn"
      },
      "source": [
        "president.set_name('John')\n",
        "president.set_surname('Doe')\n",
        "president.set_year_of_birth(1940)"
      ],
      "execution_count": null,
      "outputs": []
    },
    {
      "cell_type": "code",
      "metadata": {
        "id": "aJzxIP9zqkIn"
      },
      "source": [
        "print('Mr', president.name, president.surname,\n",
        "      'is the president, and he is very old. He is',\n",
        "      president.age(2014))"
      ],
      "execution_count": null,
      "outputs": []
    },
    {
      "cell_type": "markdown",
      "metadata": {
        "id": "QeAboqieqkIn"
      },
      "source": [
        "### 1.4 Protect your abstraction"
      ]
    },
    {
      "cell_type": "markdown",
      "metadata": {
        "id": "nRNNXcvVqkIo"
      },
      "source": [
        "Here the instance attributes shouldn't be accessible by the end user of an object as they are powerful mean of abstraction they should not reveal the internal implementation detail. In Python, there is no specific strict mechanism to protect object attributes but the official guidelines suggest that a variable that has an underscore prefix should be treated as 'Private'.\n",
        "\n",
        "Moreover prepending two underscores to a variable name makes the interpreter mangle a little the variable name."
      ]
    },
    {
      "cell_type": "code",
      "metadata": {
        "id": "GPImkBuOqkIo",
        "colab": {
          "base_uri": "https://localhost:8080/"
        },
        "outputId": "2150f5de-2683-4786-8b6a-72bbda502f13"
      },
      "source": [
        "class Person:\n",
        "    def __init__(self, name, surname, year_of_birth):\n",
        "        self._name = name\n",
        "        self._surname = surname\n",
        "        self._year_of_birth = year_of_birth\n",
        "    \n",
        "    def age(self, current_year):\n",
        "        return current_year - self._year_of_birth\n",
        "    \n",
        "    def __str__(self):\n",
        "        return \"%s %s and was born %d.\" \\\n",
        "                % (self._name, self._surname, self._year_of_birth)\n",
        "    \n",
        "alec = Person(\"Alec\", \"Baldwin\", 1958)\n",
        "print(alec)\n",
        "print(alec._surname)"
      ],
      "execution_count": null,
      "outputs": [
        {
          "output_type": "stream",
          "text": [
            "Alec Baldwin and was born 1958.\n",
            "Baldwin\n"
          ],
          "name": "stdout"
        }
      ]
    },
    {
      "cell_type": "code",
      "metadata": {
        "id": "xTY0s8rVqkIo",
        "colab": {
          "base_uri": "https://localhost:8080/"
        },
        "outputId": "b4feb433-eb4b-45f6-cec6-48272ab928e9"
      },
      "source": [
        "class Person:\n",
        "    def __init__(self, name, surname, year_of_birth):\n",
        "        self.__name = name\n",
        "        self.__surname = surname\n",
        "        self.__year_of_birth = year_of_birth\n",
        "    \n",
        "    def age(self, current_year):\n",
        "        return current_year - self.__year_of_birth\n",
        "    \n",
        "    def __str__(self):\n",
        "        return \"%s %s and was born %d.\" \\\n",
        "                % (self.__name, self.__surname, self.__year_of_birth)\n",
        "    \n",
        "alec = Person(\"Alec\", \"Baldwin\", 1958)\n",
        "print(alec._Person__name)"
      ],
      "execution_count": null,
      "outputs": [
        {
          "output_type": "stream",
          "text": [
            "Alec\n"
          ],
          "name": "stdout"
        }
      ]
    },
    {
      "cell_type": "code",
      "metadata": {
        "id": "DY_iEMa9HNd0"
      },
      "source": [
        "class xyz:\n",
        "  def __init__(self,a,b,c):\n",
        "    self.a=a\n",
        "    self.b=b\n",
        "    self.c=c\n",
        "  def test(self):\n",
        "    return \"this is a public method\"\n",
        "  def _test1(self):\n",
        "    print(\"this is a protected method\")\n",
        "  def __test1(self):\n",
        "    print(\"this is a private method\")"
      ],
      "execution_count": null,
      "outputs": []
    },
    {
      "cell_type": "code",
      "metadata": {
        "colab": {
          "base_uri": "https://localhost:8080/"
        },
        "id": "0VgYbSbeHVmF",
        "outputId": "fd0b05d1-d0f0-4e85-b9bc-5c28bb2ef390"
      },
      "source": [
        "obj.__dict__.keys()"
      ],
      "execution_count": null,
      "outputs": [
        {
          "output_type": "execute_result",
          "data": {
            "text/plain": [
              "dict_keys(['a', 'b', 'c'])"
            ]
          },
          "metadata": {
            "tags": []
          },
          "execution_count": 27
        }
      ]
    },
    {
      "cell_type": "code",
      "metadata": {
        "colab": {
          "base_uri": "https://localhost:8080/"
        },
        "id": "JvyNaPDxHQub",
        "outputId": "9fa3031f-52d3-4d3c-c67c-4cdc6b8b1e7a"
      },
      "source": [
        " obj=xyz(3,4,5)\n",
        "obj._xyz__test1()"
      ],
      "execution_count": null,
      "outputs": [
        {
          "output_type": "stream",
          "text": [
            "this is a private method\n"
          ],
          "name": "stdout"
        }
      ]
    },
    {
      "cell_type": "markdown",
      "metadata": {
        "id": "GX3vWRolqkIp"
      },
      "source": [
        "`__dict__` is a special attribute is a dictionary containing each attribute of an object. We can see that prepending two underscores every key has `_ClassName__` prepended."
      ]
    },
    {
      "cell_type": "markdown",
      "metadata": {
        "id": "tobYg-7TqkIp"
      },
      "source": [
        "## 2 Inheritance"
      ]
    },
    {
      "cell_type": "markdown",
      "metadata": {
        "id": "_4ssIZ5tqkIq"
      },
      "source": [
        "Once a class is defined it models a concept. It is useful to extend a class behavior to model a less general concept. Say we need to model a Student, but we know that every student is also a Person so we shouldn't model the Person again but inherit from it instead."
      ]
    },
    {
      "cell_type": "code",
      "metadata": {
        "colab": {
          "base_uri": "https://localhost:8080/",
          "height": 35
        },
        "id": "DZxo-F8YJXuP",
        "outputId": "cc8d1684-bd3a-4770-f81d-674ec717a0fa"
      },
      "source": [
        "class xyz:\n",
        "  def __init__(self,a,b,c=6):\n",
        "    self.a=a\n",
        "    self.b=b\n",
        "    self.c=c\n",
        "  def test(self):\n",
        "    return \"this is a public method\"\n",
        "\n",
        "obj=xyz(3,4,5)\n",
        "obj.test()"
      ],
      "execution_count": null,
      "outputs": [
        {
          "output_type": "execute_result",
          "data": {
            "application/vnd.google.colaboratory.intrinsic+json": {
              "type": "string"
            },
            "text/plain": [
              "'this is a public method'"
            ]
          },
          "metadata": {
            "tags": []
          },
          "execution_count": 7
        }
      ]
    },
    {
      "cell_type": "code",
      "metadata": {
        "id": "pppZA-z8Jn-Z"
      },
      "source": [
        "class abc(xyz):\n",
        "  pass"
      ],
      "execution_count": null,
      "outputs": []
    },
    {
      "cell_type": "code",
      "metadata": {
        "colab": {
          "base_uri": "https://localhost:8080/",
          "height": 35
        },
        "id": "u10v6BNaKJik",
        "outputId": "4b1fa41a-382f-4db4-b8c7-fb9b5a514ebd"
      },
      "source": [
        "obj1=abc(6,7,8)\n",
        "obj1.test()"
      ],
      "execution_count": null,
      "outputs": [
        {
          "output_type": "execute_result",
          "data": {
            "application/vnd.google.colaboratory.intrinsic+json": {
              "type": "string"
            },
            "text/plain": [
              "'this is a public method'"
            ]
          },
          "metadata": {
            "tags": []
          },
          "execution_count": 3
        }
      ]
    },
    {
      "cell_type": "code",
      "metadata": {
        "id": "yCcS6Xx8OJKH"
      },
      "source": [
        "class abc(xyz):\n",
        "  def __init__(self,a,b,d,n):\n",
        "    super(abc,self).__init__(a,b)\n",
        "    self.d=d\n",
        "    self.n=n"
      ],
      "execution_count": null,
      "outputs": []
    },
    {
      "cell_type": "code",
      "metadata": {
        "colab": {
          "base_uri": "https://localhost:8080/",
          "height": 35
        },
        "id": "OV06l5XkOigg",
        "outputId": "3ebb22d4-e887-445e-d6d9-221cd2e0d093"
      },
      "source": [
        "obj2=abc(4,5,6,7)\n",
        "obj2.test()"
      ],
      "execution_count": null,
      "outputs": [
        {
          "output_type": "execute_result",
          "data": {
            "application/vnd.google.colaboratory.intrinsic+json": {
              "type": "string"
            },
            "text/plain": [
              "'this is a public method'"
            ]
          },
          "metadata": {
            "tags": []
          },
          "execution_count": 33
        }
      ]
    },
    {
      "cell_type": "code",
      "metadata": {
        "colab": {
          "base_uri": "https://localhost:8080/"
        },
        "id": "wTAJdHwh3WGn",
        "outputId": "759cec9a-e243-4bb5-a32a-fc6321fd7c1f"
      },
      "source": [
        "isinstance(obj2,xyz)"
      ],
      "execution_count": null,
      "outputs": [
        {
          "output_type": "execute_result",
          "data": {
            "text/plain": [
              "True"
            ]
          },
          "metadata": {
            "tags": []
          },
          "execution_count": 22
        }
      ]
    },
    {
      "cell_type": "code",
      "metadata": {
        "colab": {
          "base_uri": "https://localhost:8080/"
        },
        "id": "hoE8rQfL3WOT",
        "outputId": "51cbb963-640e-48b0-8c5c-a15d2d46fb50"
      },
      "source": [
        "class A():\n",
        "  def test(self):\n",
        "    print(\"from class A\")\n",
        "class B():\n",
        "  def test(self):\n",
        "    print(\"from class B\")\n",
        "class c(B,A):\n",
        "  #pass\n",
        "  obja=A()\n",
        "  objb=B()\n",
        "  obja.test()\n",
        "  objb.test()\n"
      ],
      "execution_count": null,
      "outputs": [
        {
          "output_type": "stream",
          "text": [
            "from class A\n",
            "from class B\n"
          ],
          "name": "stdout"
        }
      ]
    },
    {
      "cell_type": "code",
      "metadata": {
        "colab": {
          "base_uri": "https://localhost:8080/"
        },
        "id": "GzKtT8RE5A5u",
        "outputId": "e92372a3-8903-4039-90d0-c035044f325d"
      },
      "source": [
        "obj=c()\n",
        "obj.test()"
      ],
      "execution_count": null,
      "outputs": [
        {
          "output_type": "stream",
          "text": [
            "from class B\n"
          ],
          "name": "stdout"
        }
      ]
    },
    {
      "cell_type": "code",
      "metadata": {
        "colab": {
          "base_uri": "https://localhost:8080/"
        },
        "id": "YwNNTkyH5A-S",
        "outputId": "45d4adfa-c57e-4dd7-db19-32557d93eb2b"
      },
      "source": [
        "class A():\n",
        "  def test(self):\n",
        "    print(\"A\")\n",
        "class B(A):\n",
        "  def xyz(self):\n",
        "    print(\"B\")\n",
        "class C(B):\n",
        "  def pqr(self):\n",
        "    print(\"C\")\n",
        "\n",
        "o=C()\n",
        "o.test()"
      ],
      "execution_count": null,
      "outputs": [
        {
          "output_type": "stream",
          "text": [
            "A\n"
          ],
          "name": "stdout"
        }
      ]
    },
    {
      "cell_type": "code",
      "metadata": {
        "id": "K3vW4qgpqkIq",
        "outputId": "c1653662-9dea-43ad-c1f8-3fa486f10c9c"
      },
      "source": [
        "() class Student(Person):\n",
        "    def __init__(self, student_id, *args):\n",
        "        super(Student, self).__init__(*args)\n",
        "        self._student_id = student_id\n",
        "        \n",
        "charlie = Student(1, 'Charlie', 'Brown', 2006)\n",
        "print(charlie._student_id)\n",
        "print(type(charlie))\n",
        "print(isinstance(charlie, Person))\n",
        "print(isinstance(charlie, object))\n"
      ],
      "execution_count": null,
      "outputs": [
        {
          "output_type": "stream",
          "text": [
            "Charlie Brown was born in 2006 .\n",
            "<class '__main__.Student'>\n",
            "True\n",
            "True\n"
          ],
          "name": "stdout"
        }
      ]
    },
    {
      "cell_type": "code",
      "metadata": {
        "id": "sTKCHFs8Fnk3"
      },
      "source": [
        ""
      ],
      "execution_count": null,
      "outputs": []
    },
    {
      "cell_type": "code",
      "metadata": {
        "colab": {
          "base_uri": "https://localhost:8080/"
        },
        "id": "hI3DlMo8G29m",
        "outputId": "08f3453c-bd4f-4912-82c3-7b7e2c0f92e8"
      },
      "source": [
        ""
      ],
      "execution_count": null,
      "outputs": [
        {
          "output_type": "execute_result",
          "data": {
            "text/plain": [
              "{'a': 3, 'b': 4, 'c': 5}"
            ]
          },
          "metadata": {
            "tags": []
          },
          "execution_count": 14
        }
      ]
    },
    {
      "cell_type": "code",
      "metadata": {
        "colab": {
          "base_uri": "https://localhost:8080/"
        },
        "id": "IemwRVRfGWIr",
        "outputId": "2168786d-d955-440d-8e06-90e3435f11e2"
      },
      "source": [
        ""
      ],
      "execution_count": null,
      "outputs": [
        {
          "output_type": "stream",
          "text": [
            "this is a private method\n"
          ],
          "name": "stdout"
        }
      ]
    },
    {
      "cell_type": "markdown",
      "metadata": {
        "id": "B2kIhoaYqkIq"
      },
      "source": [
        "Charlie now has the same behavior of a Person, but his state has also a student ID. A Person is one of the base classes of Student and Student is one of the sub classes of Person. Be aware that a subclass knows about its superclasses but the converse isn't true.\n",
        "\n",
        "A sub class doesn't only inherits from its base classes, but from its base classes too, forming an inheritance tree that starts from a object (every class base class).\n",
        "\n",
        "    super(Class, instance)\n",
        "    \n",
        "is a function that returns a proxy-object that delegates method calls to a parent or sibling class of type.\n",
        "So we used it to access Person's `__init__`."
      ]
    },
    {
      "cell_type": "markdown",
      "metadata": {
        "id": "G-6xS7Z3qkIq"
      },
      "source": [
        "### 2.1 Overriding methods"
      ]
    },
    {
      "cell_type": "markdown",
      "metadata": {
        "id": "6BD3h2lTqkIr"
      },
      "source": [
        "Inheritance allows to add new methods to a subclass but often is useful to change the behavior of a method defined in the superclass. To override a method just define it again."
      ]
    },
    {
      "cell_type": "code",
      "metadata": {
        "colab": {
          "base_uri": "https://localhost:8080/"
        },
        "id": "wEBY2iwkABJ4",
        "outputId": "5794dce8-8bee-444a-ebeb-030f9485c6ab"
      },
      "source": [
        "class A():\n",
        "  def test(self):\n",
        "    print(\"A\")\n",
        "class B(A):\n",
        "  def test(self):\n",
        "    print(\"B\")\n",
        "\n",
        "obj=B()\n",
        "obj.test()"
      ],
      "execution_count": null,
      "outputs": [
        {
          "output_type": "stream",
          "text": [
            "B\n"
          ],
          "name": "stdout"
        }
      ]
    },
    {
      "cell_type": "code",
      "metadata": {
        "id": "r5tzAeovqkIr",
        "outputId": "5d033069-856e-418f-a6eb-a8fb0e59c3a7"
      },
      "source": [
        "class Student(Person):\n",
        "    def __init__(self, student_id, *args, **kwargs):\n",
        "        super(Student, self).__init__(*args, **kwargs)\n",
        "        self._student_id = student_id\n",
        "        \n",
        "    def __str__(self):\n",
        "        return super(Student, self).__str__() + \" And has ID: %d\" % self._student_id\n",
        "        \n",
        "charlie = Student(1, 'Charlie', 'Brown', 2006)\n",
        "print(charlie)\n"
      ],
      "execution_count": null,
      "outputs": [
        {
          "output_type": "stream",
          "text": [
            "Charlie Brown was born in 2006 . And has ID: 1\n"
          ],
          "name": "stdout"
        }
      ]
    },
    {
      "cell_type": "markdown",
      "metadata": {
        "id": "bwAZlpMpqkIr"
      },
      "source": [
        "We defined `__str__` again overriding the one wrote in Person, but we wanted to extend it, so we used super to achieve our goal."
      ]
    },
    {
      "cell_type": "markdown",
      "metadata": {
        "id": "cCbWEdVtqkIs"
      },
      "source": [
        "## 3 Encapsulation"
      ]
    },
    {
      "cell_type": "markdown",
      "metadata": {
        "id": "y200F9z-qkIs"
      },
      "source": [
        "Encapsulation is an another powerful way to extend a class which consists on wrapping an object with a second one.\n",
        "There are two main reasons to use encapsulation:\n",
        "* Composition\n",
        "* Dynamic Extension\n"
      ]
    },
    {
      "cell_type": "markdown",
      "metadata": {
        "id": "5DvCCKenqkIs"
      },
      "source": [
        "### 3.1 Composition"
      ]
    },
    {
      "cell_type": "markdown",
      "metadata": {
        "id": "0680yYaVqkIs"
      },
      "source": [
        "The abstraction process relies on creating a simplified model that remove useless details from a concept. In order to be simplified, a model should be described in terms of other simpler concepts.\n",
        "For example, we can say that a car is composed by:\n",
        "* Tyres\n",
        "* Engine\n",
        "* Body\n",
        "\n",
        "And break down each one of these elements in simpler parts until we reach primitive data."
      ]
    },
    {
      "cell_type": "code",
      "metadata": {
        "colab": {
          "base_uri": "https://localhost:8080/"
        },
        "id": "Fg1eCq6S57Xm",
        "outputId": "6d623f51-2b80-4c26-f182-c5f835c43b7d"
      },
      "source": [
        "class student:\n",
        "  def __init__(self,name,Id):\n",
        "    self.name=name\n",
        "    self.Id=Id\n",
        "  def __str__(self):\n",
        "    return \"Student =%s \\n Id = %d\" % (self.name,self.Id)\n",
        "\n",
        "s=student(\"Krishna\",1234)\n",
        "print(s) "
      ],
      "execution_count": null,
      "outputs": [
        {
          "output_type": "stream",
          "text": [
            "Student =Krishna \n",
            " Id = 1234\n"
          ],
          "name": "stdout"
        }
      ]
    },
    {
      "cell_type": "code",
      "metadata": {
        "id": "-4XFc9-WqkIs",
        "outputId": "fb38976e-97cd-4fde-c3db-721325585dc0"
      },
      "source": [
        "class Tyres:\n",
        "    def __init__(self, branch, belted_bias, opt_pressure):\n",
        "        self.branch = branch\n",
        "        self.belted_bias = belted_bias\n",
        "        self.opt_pressure = opt_pressure\n",
        "        \n",
        "    def __str__(self):\n",
        "        return (\"Tyres: \\n \\tBranch: \" + self.branch +\n",
        "               \"\\n \\tBelted-bias: \" + str(self.belted_bias) + \n",
        "               \"\\n \\tOptimal pressure: \" + str(self.opt_pressure))\n",
        "        \n",
        "class Engine:\n",
        "    def __init__(self, fuel_type, noise_level):\n",
        "        self.fuel_type = fuel_type\n",
        "        self.noise_level = noise_level\n",
        "        \n",
        "    def __str__(self):\n",
        "        return (\"Engine: \\n \\tFuel type: \" + self.fuel_type +\n",
        "                \"\\n \\tNoise level:\" + str(self.noise_level))\n",
        "        \n",
        "class Body:\n",
        "    def __init__(self, size):\n",
        "        self.size = size\n",
        "        \n",
        "    def __str__(self):\n",
        "        return \"Body:\\n \\tSize: \" + self.size\n",
        "        \n",
        "class Car:\n",
        "    def __init__(self, tyres, engine, body):\n",
        "        self.tyres = tyres\n",
        "        self.engine = engine\n",
        "        self.body = body\n",
        "        \n",
        "    def __str__(self):\n",
        "        return str(self.tyres) + \"\\n\" + str(self.engine) + \"\\n\" + str(self.body)\n",
        "\n",
        "        \n",
        "t = Tyres('Pirelli', True, 2.0)\n",
        "e = Engine('Diesel', 3)\n",
        "b = Body('Medium')\n",
        "c = Car(t, e, b)\n",
        "print(c)"
      ],
      "execution_count": null,
      "outputs": [
        {
          "output_type": "stream",
          "text": [
            "Tyres: \n",
            " \tBranch: Pirelli\n",
            " \tBelted-bias: True\n",
            " \tOptimal pressure: 2.0\n",
            "Engine: \n",
            " \tFuel type: Diesel\n",
            " \tNoise level:3\n",
            "Body:\n",
            " \tSize: Medium\n"
          ],
          "name": "stdout"
        }
      ]
    },
    {
      "cell_type": "code",
      "metadata": {
        "colab": {
          "base_uri": "https://localhost:8080/"
        },
        "id": "tjkTk1Vt9s64",
        "outputId": "d440aae0-8a71-45e4-bf0b-6bf28460476e"
      },
      "source": [
        "class class1:\n",
        "  def __init__(self,a1,a2,a3):\n",
        "    self.a1=a1\n",
        "    self.a2=a2\n",
        "    self.a3=a3\n",
        "  def m1(self):\n",
        "    return (f'{self.a1} +  {self.a2} + {self.a3}')\n",
        "class class2:\n",
        "  def __init__(self,b1,b2,b3):\n",
        "    self.b1=b1\n",
        "    self.b2=b2\n",
        "    self.b3=b3\n",
        "  def m2(self):\n",
        "    return (f'{self.b1} + {self.b2} + {self.b3}')\n",
        "class class3:\n",
        "  def __init__(self,c1,c2,c3):\n",
        "    self.c1=c1\n",
        "    self.c2=c2\n",
        "    self.c3=c3\n",
        "  def m3(self):\n",
        "    return (f'{self.c1} + {self.c2} + {self.c3}')\n",
        "class class4:\n",
        "  def __init__(self,d1,d2,d3):\n",
        "    self.d1=d1\n",
        "    self.d2=d2\n",
        "    self.d3=d3\n",
        "  def m4(self):\n",
        "    return (f'{self.d1.m1()} + {self.d2.m2()} + {self.d3.m3}')\n",
        "\n",
        "c1=class1(10,15,20)\n",
        "c2=class2(1,2,4)\n",
        "c3=class3(2,3,4)\n",
        "c4=class4(c1,c2,c3)\n",
        "c4.m4\n"
      ],
      "execution_count": null,
      "outputs": [
        {
          "output_type": "execute_result",
          "data": {
            "text/plain": [
              "<bound method class4.m4 of <__main__.class4 object at 0x7fcfcfb40c18>>"
            ]
          },
          "metadata": {
            "tags": []
          },
          "execution_count": 18
        }
      ]
    },
    {
      "cell_type": "code",
      "metadata": {
        "colab": {
          "base_uri": "https://localhost:8080/"
        },
        "id": "Sy3u2LvVBEu3",
        "outputId": "383983d5-6925-4b1d-b384-86911eaa68de"
      },
      "source": [
        "class c1:\n",
        "  def __init__(self,a):\n",
        "    self._a=a\n",
        "class c2(c1):\n",
        "  pass\n",
        "\n",
        "obj=c2(10)\n",
        "print(obj._a)"
      ],
      "execution_count": null,
      "outputs": [
        {
          "output_type": "stream",
          "text": [
            "10\n"
          ],
          "name": "stdout"
        }
      ]
    },
    {
      "cell_type": "code",
      "metadata": {
        "colab": {
          "base_uri": "https://localhost:8080/"
        },
        "id": "PnAzlmQ_DEk0",
        "outputId": "1c86cfb2-1c70-4d01-c308-74eb84ebcf14"
      },
      "source": [
        "class d1:\n",
        "  def __init__(self,c):\n",
        "    self.__c=c\n",
        "  def m1(self):\n",
        "    return print(self._d1__c)\n",
        "class d2(d1):\n",
        "  pass\n",
        "  \n",
        "\n",
        "ob=d2(4)\n",
        "ob.m1()"
      ],
      "execution_count": null,
      "outputs": [
        {
          "output_type": "stream",
          "text": [
            "4\n"
          ],
          "name": "stdout"
        }
      ]
    },
    {
      "cell_type": "code",
      "metadata": {
        "colab": {
          "base_uri": "https://localhost:8080/"
        },
        "id": "nKuFV15yHTDp",
        "outputId": "d5d98725-20ac-4208-c490-0ae415967a90"
      },
      "source": [
        "class d1:\n",
        "  def __init__(self,c):\n",
        "    self.__c=c\n",
        "  def __str__(self):\n",
        "    return str(self._d1__c)\n",
        "\n",
        "ob = d1(10)\n",
        "print(ob)"
      ],
      "execution_count": null,
      "outputs": [
        {
          "output_type": "stream",
          "text": [
            "10\n"
          ],
          "name": "stdout"
        }
      ]
    },
    {
      "cell_type": "code",
      "metadata": {
        "colab": {
          "base_uri": "https://localhost:8080/"
        },
        "id": "zMj_DE5dHdCg",
        "outputId": "7552f7d1-85c2-4cfd-d16c-c24fa416d791"
      },
      "source": [
        "class d2:\n",
        "  def __init__(self,d):\n",
        "    self.d=d\n",
        "  def __str__(self):\n",
        "    return str(self.d)\n",
        "\n",
        "k=d2(ob)\n",
        "print(k)"
      ],
      "execution_count": null,
      "outputs": [
        {
          "output_type": "stream",
          "text": [
            "10\n"
          ],
          "name": "stdout"
        }
      ]
    },
    {
      "cell_type": "markdown",
      "metadata": {
        "id": "-aKih6rUqkIt"
      },
      "source": [
        "### 3.2 Dynamic Extension"
      ]
    },
    {
      "cell_type": "markdown",
      "metadata": {
        "id": "oCwbjdykqkIt"
      },
      "source": [
        "Sometimes it's necessary to model a concept that may be a subclass of another one, but it isn't possible to know which class should be its superclass until runtime."
      ]
    },
    {
      "cell_type": "markdown",
      "metadata": {
        "id": "qU0OALPIqkIu"
      },
      "source": [
        "#### 3.2.1 Example"
      ]
    },
    {
      "cell_type": "markdown",
      "metadata": {
        "id": "Nini8GPRqkIu"
      },
      "source": [
        "Suppose we want to model a simple dog school that trains instructors too. It will be nice to re-use Person and Student but students can be dogs or peoples. So we can remodel it this way:"
      ]
    },
    {
      "cell_type": "code",
      "metadata": {
        "id": "mANb6locqkIu",
        "outputId": "009b25e3-3cec-4bf1-827a-ddeb151b010b"
      },
      "source": [
        "class Dog:\n",
        "    def __init__(self, name, year_of_birth, breed):\n",
        "        self._name = name\n",
        "        self._year_of_birth = year_of_birth\n",
        "        self._breed = breed\n",
        "\n",
        "    def __str__(self):\n",
        "        return \"%s is a %s born in %d.\" % (self._name, self._breed, self._year_of_birth)\n",
        "\n",
        "kudrjavka = Dog(\"Kudrjavka\", 1954, \"Laika\")\n",
        "print(kudrjavka)"
      ],
      "execution_count": null,
      "outputs": [
        {
          "output_type": "stream",
          "text": [
            "Kudrjavka is a Laika born in 1954.\n"
          ],
          "name": "stdout"
        }
      ]
    },
    {
      "cell_type": "code",
      "metadata": {
        "id": "MUoAg73mqkIu"
      },
      "source": [
        ""
      ],
      "execution_count": null,
      "outputs": []
    },
    {
      "cell_type": "code",
      "metadata": {
        "id": "7JL-aCjiqkIv",
        "outputId": "6f732cd1-a188-4583-b84f-de3a3e6be5f6"
      },
      "source": [
        "class Student:\n",
        "    def __init__(self, anagraphic, student_id):\n",
        "        self._anagraphic = anagraphic\n",
        "        self._student_id = student_id\n",
        "    def __str__(self):\n",
        "        return str(self._anagraphic) + \" Student ID: %d\" % self._student_id\n",
        "\n",
        "\n",
        "alec_student = Student(\"dsfs\",1)\n",
        "kudrjavka_student = Student(kudrjavka, 2)\n",
        "\n",
        "print(alec_student)\n",
        "print(kudrjavka_student)\n"
      ],
      "execution_count": null,
      "outputs": [
        {
          "output_type": "stream",
          "text": [
            "dsfs Student ID: 1\n",
            "Kudrjavka is a Laika born in 1954. Student ID: 2\n"
          ],
          "name": "stdout"
        }
      ]
    },
    {
      "cell_type": "markdown",
      "metadata": {
        "id": "k1TtUK_gqkIv"
      },
      "source": [
        "## 4 Polymorphism and DuckTyping"
      ]
    },
    {
      "cell_type": "markdown",
      "metadata": {
        "id": "Mu6UHDbTqkIv"
      },
      "source": [
        "`Python` uses dynamic typing which is also called as duck typing. If an object implements a method you can use it, irrespective of the type. This is different from statically typed languages, where the type of a construct need to be explicitly declared. Polymorphism is the ability to use the same syntax for objects of different types:"
      ]
    },
    {
      "cell_type": "code",
      "metadata": {
        "id": "N9rxAobfqkIv",
        "outputId": "1e670ee4-3c7a-4c2b-9071-1f66c4b02c92"
      },
      "source": [
        "def summer(a, b):\n",
        "    return a + b\n",
        "\n",
        "print(summer(1, 1))\n",
        "print(summer([\"a\", \"b\", \"c\"], [\"d\", \"e\"]))\n",
        "print(summer(\"abra\", \"cadabra\"))\n"
      ],
      "execution_count": null,
      "outputs": [
        {
          "output_type": "stream",
          "text": [
            "2\n",
            "['a', 'b', 'c', 'd', 'e']\n",
            "abracadabra\n"
          ],
          "name": "stdout"
        }
      ]
    },
    {
      "cell_type": "markdown",
      "metadata": {
        "id": "-nW4zo61qkIw"
      },
      "source": [
        "## 5 How long does a class should be?"
      ]
    },
    {
      "cell_type": "markdown",
      "metadata": {
        "id": "ah9XGDSyqkIw"
      },
      "source": [
        "There is an Object Oriented Programming (OOP) principle called Single Responsibility Principle (SRP) and it states: \"A class should have one single responsibility\" or \"A class should have only one reason to change\". \n",
        "\n",
        "If you come across a class which doesn't follow the SRP principle, you should spilt it. You will be grateful to SRP during your software maintenance. "
      ]
    },
    {
      "cell_type": "markdown",
      "metadata": {
        "id": "knKeYAjHqkIw"
      },
      "source": [
        "# Files\n",
        "\n",
        "Python uses file objects to interact with the external files on your computer. These file objects cab be of any file format on your computer i.e. can be an audio file, a text file, emails, Excel documents, etc. Note that You will probably need to install certain libraries or modules to interact with those various file types, but they are easily available. (We will cover downloading modules later on in the course).\n",
        "\n",
        "Python has a built-in open function that allows us to open and play with basic file types. First we will need a file though. We're going to use some iPython magic to create a text file!\n",
        "\n",
        "## iPython Writing a File"
      ]
    },
    {
      "cell_type": "code",
      "metadata": {
        "id": "QJRGVseBqkIw",
        "colab": {
          "base_uri": "https://localhost:8080/"
        },
        "outputId": "77e1c2ba-cae5-45a3-e320-eef8bad98cc1"
      },
      "source": [
        "%%writefile test.txt\n",
        "Hello, this is a quick test file hjgtyudfyffhgghghhfch"
      ],
      "execution_count": null,
      "outputs": [
        {
          "output_type": "stream",
          "text": [
            "Overwriting test.txt\n"
          ],
          "name": "stdout"
        }
      ]
    },
    {
      "cell_type": "code",
      "metadata": {
        "id": "KcfaDHMrqkIx",
        "colab": {
          "base_uri": "https://localhost:8080/",
          "height": 35
        },
        "outputId": "3a6c572d-b344-4e3c-9afd-842d3509b411"
      },
      "source": [
        "pwd()"
      ],
      "execution_count": null,
      "outputs": [
        {
          "output_type": "execute_result",
          "data": {
            "application/vnd.google.colaboratory.intrinsic+json": {
              "type": "string"
            },
            "text/plain": [
              "'/content'"
            ]
          },
          "metadata": {
            "tags": []
          },
          "execution_count": 16
        }
      ]
    },
    {
      "cell_type": "markdown",
      "metadata": {
        "id": "r-gGFc_oqkIx"
      },
      "source": [
        "## Python Opening a file\n",
        "\n",
        "We can open a file with the open() function. This function also takes in arguments (also called parameters). Let's see how this is used:"
      ]
    },
    {
      "cell_type": "code",
      "metadata": {
        "id": "ZQfwAy7sqkIx"
      },
      "source": [
        "# Open the text.txt we made earlier\n",
        "my_file = open('test.txt')"
      ],
      "execution_count": null,
      "outputs": []
    },
    {
      "cell_type": "code",
      "metadata": {
        "id": "lt1BEADYqkIy",
        "colab": {
          "base_uri": "https://localhost:8080/",
          "height": 35
        },
        "outputId": "f6511936-d726-4de2-c630-1abb3a045844"
      },
      "source": [
        "# We can now read the file\n",
        "my_file.read()"
      ],
      "execution_count": null,
      "outputs": [
        {
          "output_type": "execute_result",
          "data": {
            "application/vnd.google.colaboratory.intrinsic+json": {
              "type": "string"
            },
            "text/plain": [
              "'This is a new line'"
            ]
          },
          "metadata": {
            "tags": []
          },
          "execution_count": 14
        }
      ]
    },
    {
      "cell_type": "code",
      "metadata": {
        "id": "jepfidlEqkIy",
        "colab": {
          "base_uri": "https://localhost:8080/",
          "height": 35
        },
        "outputId": "3017e6d1-44b4-41dd-d62f-ee8cb9ab5d2a"
      },
      "source": [
        "# But what happens if we try to read it again?\n",
        "my_file.read()"
      ],
      "execution_count": null,
      "outputs": [
        {
          "output_type": "execute_result",
          "data": {
            "application/vnd.google.colaboratory.intrinsic+json": {
              "type": "string"
            },
            "text/plain": [
              "''"
            ]
          },
          "metadata": {
            "tags": []
          },
          "execution_count": 5
        }
      ]
    },
    {
      "cell_type": "markdown",
      "metadata": {
        "id": "zfAjD6CLqkIy"
      },
      "source": [
        "This happens because you can imagine the reading \"cursor\" is at the end of the file after having read it. So there is nothing left to read. We can reset the \"cursor\" like this:"
      ]
    },
    {
      "cell_type": "code",
      "metadata": {
        "id": "S0j9D5EXqkIy",
        "colab": {
          "base_uri": "https://localhost:8080/"
        },
        "outputId": "2bbe1237-029d-4fee-d964-fd4cfb6346aa"
      },
      "source": [
        "# Seek to the start of file (index 0)\n",
        "my_file.seek(0)"
      ],
      "execution_count": null,
      "outputs": [
        {
          "output_type": "execute_result",
          "data": {
            "text/plain": [
              "0"
            ]
          },
          "metadata": {
            "tags": []
          },
          "execution_count": 6
        }
      ]
    },
    {
      "cell_type": "code",
      "metadata": {
        "id": "hm7iMonSqkIz",
        "colab": {
          "base_uri": "https://localhost:8080/",
          "height": 35
        },
        "outputId": "a4c974a6-c1a5-4047-f55b-59e8cb375893"
      },
      "source": [
        "# Now read again\n",
        "my_file.read()"
      ],
      "execution_count": null,
      "outputs": [
        {
          "output_type": "execute_result",
          "data": {
            "application/vnd.google.colaboratory.intrinsic+json": {
              "type": "string"
            },
            "text/plain": [
              "'Hello, this is a quick test file hjgtyudfyffhgghghhfch'"
            ]
          },
          "metadata": {
            "tags": []
          },
          "execution_count": 7
        }
      ]
    },
    {
      "cell_type": "markdown",
      "metadata": {
        "id": "WKyIWfcgqkIz"
      },
      "source": [
        "In order to not have to reset every time, we can also use the readlines method. Use caution with large files, since everything will be held in memory. We will learn how to iterate over large files later in the course."
      ]
    },
    {
      "cell_type": "code",
      "metadata": {
        "id": "Xm_kfrlVqkIz",
        "colab": {
          "base_uri": "https://localhost:8080/"
        },
        "outputId": "ef571889-75c5-494d-9853-30bef2a3d30a"
      },
      "source": [
        "# Seek to the start of file (index 0)\n",
        "my_file.seek(0)"
      ],
      "execution_count": null,
      "outputs": [
        {
          "output_type": "execute_result",
          "data": {
            "text/plain": [
              "0"
            ]
          },
          "metadata": {
            "tags": []
          },
          "execution_count": 11
        }
      ]
    },
    {
      "cell_type": "code",
      "metadata": {
        "id": "2l1x2O1UqkIz",
        "colab": {
          "base_uri": "https://localhost:8080/"
        },
        "outputId": "108dd980-584a-43c2-c45d-2840db787f12"
      },
      "source": [
        "# Readlines returns a list of the lines in the file.\n",
        "my_file.readlines()"
      ],
      "execution_count": null,
      "outputs": [
        {
          "output_type": "execute_result",
          "data": {
            "text/plain": [
              "['This is a new line']"
            ]
          },
          "metadata": {
            "tags": []
          },
          "execution_count": 12
        }
      ]
    },
    {
      "cell_type": "markdown",
      "metadata": {
        "id": "Lb0aDXJDqkI0"
      },
      "source": [
        "## Writing to a File\n",
        "\n",
        "By default, using the open() function will only allow us to read the file, we need to pass the argument 'w' to write over the file. For example:"
      ]
    },
    {
      "cell_type": "code",
      "metadata": {
        "id": "nzBQZUPpqkI0"
      },
      "source": [
        "# Add the second argument to the function, 'w' which stands for write\n",
        "my_file = open('test.txt','w+')"
      ],
      "execution_count": null,
      "outputs": []
    },
    {
      "cell_type": "code",
      "metadata": {
        "id": "fv4sZEG-qkI0",
        "colab": {
          "base_uri": "https://localhost:8080/"
        },
        "outputId": "23469380-fae5-4751-baf2-bc5c3ff5e16f"
      },
      "source": [
        "# Write to the file\n",
        "my_file.write('This is a new line')"
      ],
      "execution_count": null,
      "outputs": [
        {
          "output_type": "execute_result",
          "data": {
            "text/plain": [
              "18"
            ]
          },
          "metadata": {
            "tags": []
          },
          "execution_count": 9
        }
      ]
    },
    {
      "cell_type": "code",
      "metadata": {
        "id": "8JHrTTnRqkI0",
        "outputId": "69efa63f-baf4-49ab-b2de-777e88aa61a9"
      },
      "source": [
        "# Seek to the start of file (index 0)\n",
        "my_file.seek(0)"
      ],
      "execution_count": null,
      "outputs": [
        {
          "output_type": "execute_result",
          "data": {
            "text/plain": [
              "0"
            ]
          },
          "metadata": {
            "tags": []
          },
          "execution_count": 76
        }
      ]
    },
    {
      "cell_type": "code",
      "metadata": {
        "id": "Rfw-S9r-qkI0",
        "outputId": "f1326b52-16e0-4835-fc0f-6b6cece24c50"
      },
      "source": [
        "# Read the file\n",
        "my_file.read()"
      ],
      "execution_count": null,
      "outputs": [
        {
          "output_type": "execute_result",
          "data": {
            "text/plain": [
              "'This is a new line'"
            ]
          },
          "metadata": {
            "tags": []
          },
          "execution_count": 77
        }
      ]
    },
    {
      "cell_type": "markdown",
      "metadata": {
        "id": "K0dnRwGtqkI1"
      },
      "source": [
        "## Iterating through a File\n",
        "\n",
        "Let's get a quick preview of a for loop by iterating over a text file. First, let's make a new text file with some iPython Magic:"
      ]
    },
    {
      "cell_type": "code",
      "metadata": {
        "id": "cBBhJ9xeqkI1",
        "colab": {
          "base_uri": "https://localhost:8080/"
        },
        "outputId": "d76b4367-4f33-40f3-e2c2-00407cac96c0"
      },
      "source": [
        "%%writefile test.txt\n",
        "First Line\n",
        "Second Line"
      ],
      "execution_count": null,
      "outputs": [
        {
          "output_type": "stream",
          "text": [
            "Overwriting test.txt\n"
          ],
          "name": "stdout"
        }
      ]
    },
    {
      "cell_type": "code",
      "metadata": {
        "id": "MfXHQfEgqkI1",
        "colab": {
          "base_uri": "https://localhost:8080/",
          "height": 35
        },
        "outputId": "5efa16e7-d1e7-4db4-bec1-7aa387a78c36"
      },
      "source": [
        "my_file = open('test.txt')\n",
        "my_file.read()"
      ],
      "execution_count": null,
      "outputs": [
        {
          "output_type": "execute_result",
          "data": {
            "application/vnd.google.colaboratory.intrinsic+json": {
              "type": "string"
            },
            "text/plain": [
              "'First Line\\nSecond Line'"
            ]
          },
          "metadata": {
            "tags": []
          },
          "execution_count": 18
        }
      ]
    },
    {
      "cell_type": "markdown",
      "metadata": {
        "id": "HCN4w--nqkI1"
      },
      "source": [
        "Now we can use a little bit of flow to tell the program to for through every line of the file and do something:"
      ]
    },
    {
      "cell_type": "code",
      "metadata": {
        "id": "M7_uOE4YqkI2",
        "colab": {
          "base_uri": "https://localhost:8080/"
        },
        "outputId": "37fbe357-cd0e-477d-d72f-f151e3536567"
      },
      "source": [
        "for line in open('test.txt'):\n",
        "    print(line)"
      ],
      "execution_count": null,
      "outputs": [
        {
          "output_type": "stream",
          "text": [
            "First Line\n",
            "\n",
            "Second Line\n"
          ],
          "name": "stdout"
        }
      ]
    },
    {
      "cell_type": "code",
      "metadata": {
        "id": "X503pPjJqkI2",
        "colab": {
          "base_uri": "https://localhost:8080/"
        },
        "outputId": "2c14ae75-f964-46be-f5ab-00ce21a67471"
      },
      "source": [
        "# Pertaining to the first point above\n",
        "for asdf in open('test.txt'):\n",
        "    print(asdf)"
      ],
      "execution_count": null,
      "outputs": [
        {
          "output_type": "stream",
          "text": [
            "First Line\n",
            "\n",
            "Second Line\n"
          ],
          "name": "stdout"
        }
      ]
    },
    {
      "cell_type": "markdown",
      "metadata": {
        "id": "veT2pT40qkI2"
      },
      "source": [
        "# StringIO \n",
        "\n",
        "The StringIO module implements an in-memory filelike object. This object can then be used as input or output to most functions that would expect a standard file object.\n",
        "\n",
        "The best way to show this is by example:"
      ]
    },
    {
      "cell_type": "code",
      "metadata": {
        "id": "353DHPzcqkI2"
      },
      "source": [
        "from io import StringIO"
      ],
      "execution_count": null,
      "outputs": []
    },
    {
      "cell_type": "code",
      "metadata": {
        "id": "SayxwTfoqkI2"
      },
      "source": [
        "# Arbitrary String\n",
        "message = 'This is just a normal string.'"
      ],
      "execution_count": null,
      "outputs": []
    },
    {
      "cell_type": "code",
      "metadata": {
        "id": "8EktO-SVqkI3"
      },
      "source": [
        "# Use StringIO method to set as file object\n",
        "f = StringIO(message)"
      ],
      "execution_count": null,
      "outputs": []
    },
    {
      "cell_type": "markdown",
      "metadata": {
        "id": "VO015xNdqkI3"
      },
      "source": [
        "Now we have an object *f* that we will be able to treat just like a file. For example:"
      ]
    },
    {
      "cell_type": "code",
      "metadata": {
        "id": "pi1C1_ECqkI6",
        "outputId": "40013e9c-0c61-48bc-c37c-f6b37daffd86"
      },
      "source": [
        "f.read()"
      ],
      "execution_count": null,
      "outputs": [
        {
          "output_type": "execute_result",
          "data": {
            "text/plain": [
              "'This is just a normal string.'"
            ]
          },
          "metadata": {
            "tags": []
          },
          "execution_count": 86
        }
      ]
    },
    {
      "cell_type": "markdown",
      "metadata": {
        "id": "AILjdaheqkI6"
      },
      "source": [
        "We can also write to it"
      ]
    },
    {
      "cell_type": "code",
      "metadata": {
        "id": "0kaB6KY6qkI6",
        "outputId": "3fc8b897-9800-4f43-f0eb-d08b861bab65"
      },
      "source": [
        "f.write(' Second line written to file like object')"
      ],
      "execution_count": null,
      "outputs": [
        {
          "output_type": "execute_result",
          "data": {
            "text/plain": [
              "40"
            ]
          },
          "metadata": {
            "tags": []
          },
          "execution_count": 87
        }
      ]
    },
    {
      "cell_type": "code",
      "metadata": {
        "id": "fcHI1o4vqkI6",
        "outputId": "38e5a750-7b23-446f-c540-e8ba6ad3bd7e"
      },
      "source": [
        "# Reset cursor just like you would a file\n",
        "f.seek(5)"
      ],
      "execution_count": null,
      "outputs": [
        {
          "output_type": "execute_result",
          "data": {
            "text/plain": [
              "5"
            ]
          },
          "metadata": {
            "tags": []
          },
          "execution_count": 88
        }
      ]
    },
    {
      "cell_type": "code",
      "metadata": {
        "id": "BLOKcKGdqkI7",
        "outputId": "1e2e17de-8824-465b-a692-0413f57919de"
      },
      "source": [
        "# Read again\n",
        "f.read()"
      ],
      "execution_count": null,
      "outputs": [
        {
          "output_type": "execute_result",
          "data": {
            "text/plain": [
              "'is just a normal string. Second line written to file like object'"
            ]
          },
          "metadata": {
            "tags": []
          },
          "execution_count": 89
        }
      ]
    },
    {
      "cell_type": "code",
      "metadata": {
        "id": "JEnVKdZUqkI7"
      },
      "source": [
        ""
      ],
      "execution_count": null,
      "outputs": []
    }
  ]
}